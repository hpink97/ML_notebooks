{
  "cells": [
    {
      "cell_type": "markdown",
      "metadata": {
        "colab_type": "text",
        "id": "view-in-github"
      },
      "source": [
        "<a href=\"https://colab.research.google.com/github/hpink97/tensorflow_keras_practice/blob/main/LSTM_S%26P500_stock_prediction.ipynb\" target=\"_parent\"><img src=\"https://colab.research.google.com/assets/colab-badge.svg\" alt=\"Open In Colab\"/></a>"
      ]
    },
    {
      "attachments": {},
      "cell_type": "markdown",
      "metadata": {},
      "source": [
        "## Create a Long-Short Term Memory Neural Network to predict future stock prices"
      ]
    },
    {
      "cell_type": "code",
      "execution_count": 4,
      "metadata": {
        "id": "r5m1z1EkJmUC"
      },
      "outputs": [
        {
          "ename": "ModuleNotFoundError",
          "evalue": "No module named 'tensorflow.python'",
          "output_type": "error",
          "traceback": [
            "\u001b[1;31m---------------------------------------------------------------------------\u001b[0m",
            "\u001b[1;31mModuleNotFoundError\u001b[0m                       Traceback (most recent call last)",
            "\u001b[1;32m~\\AppData\\Local\\Temp/ipykernel_9820/1387950187.py\u001b[0m in \u001b[0;36m<module>\u001b[1;34m\u001b[0m\n\u001b[0;32m      6\u001b[0m \u001b[1;32mimport\u001b[0m \u001b[0mmath\u001b[0m\u001b[1;33m\u001b[0m\u001b[1;33m\u001b[0m\u001b[0m\n\u001b[0;32m      7\u001b[0m \u001b[1;33m\u001b[0m\u001b[0m\n\u001b[1;32m----> 8\u001b[1;33m \u001b[1;32mfrom\u001b[0m \u001b[0mkeras\u001b[0m\u001b[1;33m.\u001b[0m\u001b[0mcallbacks\u001b[0m \u001b[1;32mimport\u001b[0m \u001b[0mEarlyStopping\u001b[0m\u001b[1;33m\u001b[0m\u001b[1;33m\u001b[0m\u001b[0m\n\u001b[0m\u001b[0;32m      9\u001b[0m \u001b[1;32mfrom\u001b[0m \u001b[0mkeras\u001b[0m\u001b[1;33m.\u001b[0m\u001b[0mmodels\u001b[0m \u001b[1;32mimport\u001b[0m \u001b[0mSequential\u001b[0m\u001b[1;33m\u001b[0m\u001b[1;33m\u001b[0m\u001b[0m\n\u001b[0;32m     10\u001b[0m \u001b[1;32mfrom\u001b[0m \u001b[0mkeras\u001b[0m\u001b[1;33m.\u001b[0m\u001b[0mlayers\u001b[0m \u001b[1;32mimport\u001b[0m \u001b[0mDense\u001b[0m\u001b[1;33m,\u001b[0m \u001b[0mSimpleRNN\u001b[0m\u001b[1;33m,\u001b[0m \u001b[0mLSTM\u001b[0m\u001b[1;33m,\u001b[0m \u001b[0mDropout\u001b[0m\u001b[1;33m\u001b[0m\u001b[1;33m\u001b[0m\u001b[0m\n",
            "\u001b[1;32m~\\AppData\\Local\\Packages\\PythonSoftwareFoundation.Python.3.9_qbz5n2kfra8p0\\LocalCache\\local-packages\\Python39\\site-packages\\keras\\__init__.py\u001b[0m in \u001b[0;36m<module>\u001b[1;34m\u001b[0m\n\u001b[0;32m     19\u001b[0m \"\"\"\n\u001b[0;32m     20\u001b[0m \u001b[1;32mfrom\u001b[0m \u001b[0mkeras\u001b[0m \u001b[1;32mimport\u001b[0m \u001b[0mdistribute\u001b[0m\u001b[1;33m\u001b[0m\u001b[1;33m\u001b[0m\u001b[0m\n\u001b[1;32m---> 21\u001b[1;33m \u001b[1;32mfrom\u001b[0m \u001b[0mkeras\u001b[0m \u001b[1;32mimport\u001b[0m \u001b[0mmodels\u001b[0m\u001b[1;33m\u001b[0m\u001b[1;33m\u001b[0m\u001b[0m\n\u001b[0m\u001b[0;32m     22\u001b[0m \u001b[1;32mfrom\u001b[0m \u001b[0mkeras\u001b[0m\u001b[1;33m.\u001b[0m\u001b[0mengine\u001b[0m\u001b[1;33m.\u001b[0m\u001b[0minput_layer\u001b[0m \u001b[1;32mimport\u001b[0m \u001b[0mInput\u001b[0m\u001b[1;33m\u001b[0m\u001b[1;33m\u001b[0m\u001b[0m\n\u001b[0;32m     23\u001b[0m \u001b[1;32mfrom\u001b[0m \u001b[0mkeras\u001b[0m\u001b[1;33m.\u001b[0m\u001b[0mengine\u001b[0m\u001b[1;33m.\u001b[0m\u001b[0msequential\u001b[0m \u001b[1;32mimport\u001b[0m \u001b[0mSequential\u001b[0m\u001b[1;33m\u001b[0m\u001b[1;33m\u001b[0m\u001b[0m\n",
            "\u001b[1;32m~\\AppData\\Local\\Packages\\PythonSoftwareFoundation.Python.3.9_qbz5n2kfra8p0\\LocalCache\\local-packages\\Python39\\site-packages\\keras\\models\\__init__.py\u001b[0m in \u001b[0;36m<module>\u001b[1;34m\u001b[0m\n\u001b[0;32m     16\u001b[0m \u001b[1;33m\u001b[0m\u001b[0m\n\u001b[0;32m     17\u001b[0m \u001b[1;33m\u001b[0m\u001b[0m\n\u001b[1;32m---> 18\u001b[1;33m \u001b[1;32mfrom\u001b[0m \u001b[0mkeras\u001b[0m\u001b[1;33m.\u001b[0m\u001b[0mengine\u001b[0m\u001b[1;33m.\u001b[0m\u001b[0mfunctional\u001b[0m \u001b[1;32mimport\u001b[0m \u001b[0mFunctional\u001b[0m\u001b[1;33m\u001b[0m\u001b[1;33m\u001b[0m\u001b[0m\n\u001b[0m\u001b[0;32m     19\u001b[0m \u001b[1;32mfrom\u001b[0m \u001b[0mkeras\u001b[0m\u001b[1;33m.\u001b[0m\u001b[0mengine\u001b[0m\u001b[1;33m.\u001b[0m\u001b[0msequential\u001b[0m \u001b[1;32mimport\u001b[0m \u001b[0mSequential\u001b[0m\u001b[1;33m\u001b[0m\u001b[1;33m\u001b[0m\u001b[0m\n\u001b[0;32m     20\u001b[0m \u001b[1;32mfrom\u001b[0m \u001b[0mkeras\u001b[0m\u001b[1;33m.\u001b[0m\u001b[0mengine\u001b[0m\u001b[1;33m.\u001b[0m\u001b[0mtraining\u001b[0m \u001b[1;32mimport\u001b[0m \u001b[0mModel\u001b[0m\u001b[1;33m\u001b[0m\u001b[1;33m\u001b[0m\u001b[0m\n",
            "\u001b[1;32m~\\AppData\\Local\\Packages\\PythonSoftwareFoundation.Python.3.9_qbz5n2kfra8p0\\LocalCache\\local-packages\\Python39\\site-packages\\keras\\engine\\functional.py\u001b[0m in \u001b[0;36m<module>\u001b[1;34m\u001b[0m\n\u001b[0;32m     22\u001b[0m \u001b[1;32mimport\u001b[0m \u001b[0mwarnings\u001b[0m\u001b[1;33m\u001b[0m\u001b[1;33m\u001b[0m\u001b[0m\n\u001b[0;32m     23\u001b[0m \u001b[1;33m\u001b[0m\u001b[0m\n\u001b[1;32m---> 24\u001b[1;33m \u001b[1;32mimport\u001b[0m \u001b[0mtensorflow\u001b[0m\u001b[1;33m.\u001b[0m\u001b[0mcompat\u001b[0m\u001b[1;33m.\u001b[0m\u001b[0mv2\u001b[0m \u001b[1;32mas\u001b[0m \u001b[0mtf\u001b[0m\u001b[1;33m\u001b[0m\u001b[1;33m\u001b[0m\u001b[0m\n\u001b[0m\u001b[0;32m     25\u001b[0m \u001b[1;33m\u001b[0m\u001b[0m\n\u001b[0;32m     26\u001b[0m \u001b[1;32mfrom\u001b[0m \u001b[0mkeras\u001b[0m \u001b[1;32mimport\u001b[0m \u001b[0mbackend\u001b[0m\u001b[1;33m\u001b[0m\u001b[1;33m\u001b[0m\u001b[0m\n",
            "\u001b[1;32m~\\AppData\\Local\\Packages\\PythonSoftwareFoundation.Python.3.9_qbz5n2kfra8p0\\LocalCache\\local-packages\\Python39\\site-packages\\tensorflow\\__init__.py\u001b[0m in \u001b[0;36m<module>\u001b[1;34m\u001b[0m\n\u001b[0;32m     35\u001b[0m \u001b[1;32mimport\u001b[0m \u001b[0mtyping\u001b[0m \u001b[1;32mas\u001b[0m \u001b[0m_typing\u001b[0m\u001b[1;33m\u001b[0m\u001b[1;33m\u001b[0m\u001b[0m\n\u001b[0;32m     36\u001b[0m \u001b[1;33m\u001b[0m\u001b[0m\n\u001b[1;32m---> 37\u001b[1;33m \u001b[1;32mfrom\u001b[0m \u001b[0mtensorflow\u001b[0m\u001b[1;33m.\u001b[0m\u001b[0mpython\u001b[0m\u001b[1;33m.\u001b[0m\u001b[0mtools\u001b[0m \u001b[1;32mimport\u001b[0m \u001b[0mmodule_util\u001b[0m \u001b[1;32mas\u001b[0m \u001b[0m_module_util\u001b[0m\u001b[1;33m\u001b[0m\u001b[1;33m\u001b[0m\u001b[0m\n\u001b[0m\u001b[0;32m     38\u001b[0m \u001b[1;32mfrom\u001b[0m \u001b[0mtensorflow\u001b[0m\u001b[1;33m.\u001b[0m\u001b[0mpython\u001b[0m\u001b[1;33m.\u001b[0m\u001b[0mutil\u001b[0m\u001b[1;33m.\u001b[0m\u001b[0mlazy_loader\u001b[0m \u001b[1;32mimport\u001b[0m \u001b[0mLazyLoader\u001b[0m \u001b[1;32mas\u001b[0m \u001b[0m_LazyLoader\u001b[0m\u001b[1;33m\u001b[0m\u001b[1;33m\u001b[0m\u001b[0m\n\u001b[0;32m     39\u001b[0m \u001b[1;33m\u001b[0m\u001b[0m\n",
            "\u001b[1;31mModuleNotFoundError\u001b[0m: No module named 'tensorflow.python'"
          ]
        }
      ],
      "source": [
        "import numpy as np\n",
        "import pandas as pd\n",
        "import matplotlib.pyplot as plt\n",
        "import seaborn as sns\n",
        "\n",
        "import math\n",
        "\n",
        "from keras.callbacks import EarlyStopping\n",
        "from keras.models import Sequential\n",
        "from keras.layers import Dense, SimpleRNN, LSTM, Dropout\n",
        "from keras.preprocessing.sequence import TimeseriesGenerator\n",
        "from sklearn.preprocessing import MinMaxScaler, StandardScaler\n",
        "from sklearn.metrics import mean_squared_error\n",
        "import xgboost as xgb\n",
        "\n"
      ]
    },
    {
      "cell_type": "code",
      "execution_count": 2,
      "metadata": {
        "colab": {
          "base_uri": "https://localhost:8080/",
          "height": 206
        },
        "id": "caTx1gRXKBbD",
        "outputId": "87b82863-ebb6-47e4-a507-6f8d50b8d329"
      },
      "outputs": [
        {
          "data": {
            "text/html": [
              "\n",
              "  <div id=\"df-079cc18b-ba0f-4c21-a012-b17ec50fac01\">\n",
              "    <div class=\"colab-df-container\">\n",
              "      <div>\n",
              "<style scoped>\n",
              "    .dataframe tbody tr th:only-of-type {\n",
              "        vertical-align: middle;\n",
              "    }\n",
              "\n",
              "    .dataframe tbody tr th {\n",
              "        vertical-align: top;\n",
              "    }\n",
              "\n",
              "    .dataframe thead th {\n",
              "        text-align: right;\n",
              "    }\n",
              "</style>\n",
              "<table border=\"1\" class=\"dataframe\">\n",
              "  <thead>\n",
              "    <tr style=\"text-align: right;\">\n",
              "      <th></th>\n",
              "      <th>Date</th>\n",
              "      <th>Open</th>\n",
              "      <th>High</th>\n",
              "      <th>Low</th>\n",
              "      <th>Close</th>\n",
              "      <th>Adj Close</th>\n",
              "      <th>Volume</th>\n",
              "    </tr>\n",
              "  </thead>\n",
              "  <tbody>\n",
              "    <tr>\n",
              "      <th>19334</th>\n",
              "      <td>2005-01-03</td>\n",
              "      <td>1211.920044</td>\n",
              "      <td>1217.800049</td>\n",
              "      <td>1200.319946</td>\n",
              "      <td>1202.079956</td>\n",
              "      <td>1202.079956</td>\n",
              "      <td>1510800000</td>\n",
              "    </tr>\n",
              "    <tr>\n",
              "      <th>19335</th>\n",
              "      <td>2005-01-04</td>\n",
              "      <td>1202.079956</td>\n",
              "      <td>1205.839966</td>\n",
              "      <td>1185.390015</td>\n",
              "      <td>1188.050049</td>\n",
              "      <td>1188.050049</td>\n",
              "      <td>1721000000</td>\n",
              "    </tr>\n",
              "    <tr>\n",
              "      <th>19336</th>\n",
              "      <td>2005-01-05</td>\n",
              "      <td>1188.050049</td>\n",
              "      <td>1192.729980</td>\n",
              "      <td>1183.719971</td>\n",
              "      <td>1183.739990</td>\n",
              "      <td>1183.739990</td>\n",
              "      <td>1738900000</td>\n",
              "    </tr>\n",
              "    <tr>\n",
              "      <th>19337</th>\n",
              "      <td>2005-01-06</td>\n",
              "      <td>1183.739990</td>\n",
              "      <td>1191.630005</td>\n",
              "      <td>1183.270020</td>\n",
              "      <td>1187.890015</td>\n",
              "      <td>1187.890015</td>\n",
              "      <td>1569100000</td>\n",
              "    </tr>\n",
              "    <tr>\n",
              "      <th>19338</th>\n",
              "      <td>2005-01-07</td>\n",
              "      <td>1187.890015</td>\n",
              "      <td>1192.199951</td>\n",
              "      <td>1182.160034</td>\n",
              "      <td>1186.189941</td>\n",
              "      <td>1186.189941</td>\n",
              "      <td>1477900000</td>\n",
              "    </tr>\n",
              "  </tbody>\n",
              "</table>\n",
              "</div>\n",
              "      <button class=\"colab-df-convert\" onclick=\"convertToInteractive('df-079cc18b-ba0f-4c21-a012-b17ec50fac01')\"\n",
              "              title=\"Convert this dataframe to an interactive table.\"\n",
              "              style=\"display:none;\">\n",
              "        \n",
              "  <svg xmlns=\"http://www.w3.org/2000/svg\" height=\"24px\"viewBox=\"0 0 24 24\"\n",
              "       width=\"24px\">\n",
              "    <path d=\"M0 0h24v24H0V0z\" fill=\"none\"/>\n",
              "    <path d=\"M18.56 5.44l.94 2.06.94-2.06 2.06-.94-2.06-.94-.94-2.06-.94 2.06-2.06.94zm-11 1L8.5 8.5l.94-2.06 2.06-.94-2.06-.94L8.5 2.5l-.94 2.06-2.06.94zm10 10l.94 2.06.94-2.06 2.06-.94-2.06-.94-.94-2.06-.94 2.06-2.06.94z\"/><path d=\"M17.41 7.96l-1.37-1.37c-.4-.4-.92-.59-1.43-.59-.52 0-1.04.2-1.43.59L10.3 9.45l-7.72 7.72c-.78.78-.78 2.05 0 2.83L4 21.41c.39.39.9.59 1.41.59.51 0 1.02-.2 1.41-.59l7.78-7.78 2.81-2.81c.8-.78.8-2.07 0-2.86zM5.41 20L4 18.59l7.72-7.72 1.47 1.35L5.41 20z\"/>\n",
              "  </svg>\n",
              "      </button>\n",
              "      \n",
              "  <style>\n",
              "    .colab-df-container {\n",
              "      display:flex;\n",
              "      flex-wrap:wrap;\n",
              "      gap: 12px;\n",
              "    }\n",
              "\n",
              "    .colab-df-convert {\n",
              "      background-color: #E8F0FE;\n",
              "      border: none;\n",
              "      border-radius: 50%;\n",
              "      cursor: pointer;\n",
              "      display: none;\n",
              "      fill: #1967D2;\n",
              "      height: 32px;\n",
              "      padding: 0 0 0 0;\n",
              "      width: 32px;\n",
              "    }\n",
              "\n",
              "    .colab-df-convert:hover {\n",
              "      background-color: #E2EBFA;\n",
              "      box-shadow: 0px 1px 2px rgba(60, 64, 67, 0.3), 0px 1px 3px 1px rgba(60, 64, 67, 0.15);\n",
              "      fill: #174EA6;\n",
              "    }\n",
              "\n",
              "    [theme=dark] .colab-df-convert {\n",
              "      background-color: #3B4455;\n",
              "      fill: #D2E3FC;\n",
              "    }\n",
              "\n",
              "    [theme=dark] .colab-df-convert:hover {\n",
              "      background-color: #434B5C;\n",
              "      box-shadow: 0px 1px 3px 1px rgba(0, 0, 0, 0.15);\n",
              "      filter: drop-shadow(0px 1px 2px rgba(0, 0, 0, 0.3));\n",
              "      fill: #FFFFFF;\n",
              "    }\n",
              "  </style>\n",
              "\n",
              "      <script>\n",
              "        const buttonEl =\n",
              "          document.querySelector('#df-079cc18b-ba0f-4c21-a012-b17ec50fac01 button.colab-df-convert');\n",
              "        buttonEl.style.display =\n",
              "          google.colab.kernel.accessAllowed ? 'block' : 'none';\n",
              "\n",
              "        async function convertToInteractive(key) {\n",
              "          const element = document.querySelector('#df-079cc18b-ba0f-4c21-a012-b17ec50fac01');\n",
              "          const dataTable =\n",
              "            await google.colab.kernel.invokeFunction('convertToInteractive',\n",
              "                                                     [key], {});\n",
              "          if (!dataTable) return;\n",
              "\n",
              "          const docLinkHtml = 'Like what you see? Visit the ' +\n",
              "            '<a target=\"_blank\" href=https://colab.research.google.com/notebooks/data_table.ipynb>data table notebook</a>'\n",
              "            + ' to learn more about interactive tables.';\n",
              "          element.innerHTML = '';\n",
              "          dataTable['output_type'] = 'display_data';\n",
              "          await google.colab.output.renderOutput(dataTable, element);\n",
              "          const docLink = document.createElement('div');\n",
              "          docLink.innerHTML = docLinkHtml;\n",
              "          element.appendChild(docLink);\n",
              "        }\n",
              "      </script>\n",
              "    </div>\n",
              "  </div>\n",
              "  "
            ],
            "text/plain": [
              "            Date         Open         High          Low        Close  \\\n",
              "19334 2005-01-03  1211.920044  1217.800049  1200.319946  1202.079956   \n",
              "19335 2005-01-04  1202.079956  1205.839966  1185.390015  1188.050049   \n",
              "19336 2005-01-05  1188.050049  1192.729980  1183.719971  1183.739990   \n",
              "19337 2005-01-06  1183.739990  1191.630005  1183.270020  1187.890015   \n",
              "19338 2005-01-07  1187.890015  1192.199951  1182.160034  1186.189941   \n",
              "\n",
              "         Adj Close      Volume  \n",
              "19334  1202.079956  1510800000  \n",
              "19335  1188.050049  1721000000  \n",
              "19336  1183.739990  1738900000  \n",
              "19337  1187.890015  1569100000  \n",
              "19338  1186.189941  1477900000  "
            ]
          },
          "execution_count": 2,
          "metadata": {},
          "output_type": "execute_result"
        }
      ],
      "source": [
        "data_URL = 'https://raw.githubusercontent.com/hpink97/ML_notebooks/data/'\n",
        "\n",
        "data1 = pd.read_csv(f\"{data_URL}sp500_1927_2020.csv\")\n",
        "data1.Date = pd.to_datetime(data1.Date)\n",
        "data1 = data1[data1.Date >='2005-01-01']\n",
        "\n",
        "data1.head()"
      ]
    },
    {
      "cell_type": "code",
      "execution_count": 3,
      "metadata": {
        "colab": {
          "base_uri": "https://localhost:8080/",
          "height": 206
        },
        "id": "QQZnYrSSOHQe",
        "outputId": "a8ae4380-d4dc-4112-bbb3-55137c56b127"
      },
      "outputs": [
        {
          "data": {
            "text/html": [
              "\n",
              "  <div id=\"df-72098841-c219-4a34-8690-9c47c6785111\">\n",
              "    <div class=\"colab-df-container\">\n",
              "      <div>\n",
              "<style scoped>\n",
              "    .dataframe tbody tr th:only-of-type {\n",
              "        vertical-align: middle;\n",
              "    }\n",
              "\n",
              "    .dataframe tbody tr th {\n",
              "        vertical-align: top;\n",
              "    }\n",
              "\n",
              "    .dataframe thead th {\n",
              "        text-align: right;\n",
              "    }\n",
              "</style>\n",
              "<table border=\"1\" class=\"dataframe\">\n",
              "  <thead>\n",
              "    <tr style=\"text-align: right;\">\n",
              "      <th></th>\n",
              "      <th>Date</th>\n",
              "      <th>Close/Last</th>\n",
              "      <th>Volume</th>\n",
              "      <th>Open</th>\n",
              "      <th>High</th>\n",
              "      <th>Low</th>\n",
              "    </tr>\n",
              "  </thead>\n",
              "  <tbody>\n",
              "    <tr>\n",
              "      <th>539</th>\n",
              "      <td>2020-11-05</td>\n",
              "      <td>3510.45</td>\n",
              "      <td>--</td>\n",
              "      <td>3485.74</td>\n",
              "      <td>3529.05</td>\n",
              "      <td>3485.74</td>\n",
              "    </tr>\n",
              "    <tr>\n",
              "      <th>538</th>\n",
              "      <td>2020-11-06</td>\n",
              "      <td>3509.44</td>\n",
              "      <td>--</td>\n",
              "      <td>3508.34</td>\n",
              "      <td>3521.58</td>\n",
              "      <td>3484.34</td>\n",
              "    </tr>\n",
              "    <tr>\n",
              "      <th>537</th>\n",
              "      <td>2020-11-09</td>\n",
              "      <td>3550.50</td>\n",
              "      <td>--</td>\n",
              "      <td>3583.04</td>\n",
              "      <td>3645.99</td>\n",
              "      <td>3547.48</td>\n",
              "    </tr>\n",
              "    <tr>\n",
              "      <th>536</th>\n",
              "      <td>2020-11-10</td>\n",
              "      <td>3545.53</td>\n",
              "      <td>--</td>\n",
              "      <td>3543.26</td>\n",
              "      <td>3557.22</td>\n",
              "      <td>3511.91</td>\n",
              "    </tr>\n",
              "    <tr>\n",
              "      <th>535</th>\n",
              "      <td>2020-11-11</td>\n",
              "      <td>3572.66</td>\n",
              "      <td>--</td>\n",
              "      <td>3563.22</td>\n",
              "      <td>3581.16</td>\n",
              "      <td>3557.00</td>\n",
              "    </tr>\n",
              "  </tbody>\n",
              "</table>\n",
              "</div>\n",
              "      <button class=\"colab-df-convert\" onclick=\"convertToInteractive('df-72098841-c219-4a34-8690-9c47c6785111')\"\n",
              "              title=\"Convert this dataframe to an interactive table.\"\n",
              "              style=\"display:none;\">\n",
              "        \n",
              "  <svg xmlns=\"http://www.w3.org/2000/svg\" height=\"24px\"viewBox=\"0 0 24 24\"\n",
              "       width=\"24px\">\n",
              "    <path d=\"M0 0h24v24H0V0z\" fill=\"none\"/>\n",
              "    <path d=\"M18.56 5.44l.94 2.06.94-2.06 2.06-.94-2.06-.94-.94-2.06-.94 2.06-2.06.94zm-11 1L8.5 8.5l.94-2.06 2.06-.94-2.06-.94L8.5 2.5l-.94 2.06-2.06.94zm10 10l.94 2.06.94-2.06 2.06-.94-2.06-.94-.94-2.06-.94 2.06-2.06.94z\"/><path d=\"M17.41 7.96l-1.37-1.37c-.4-.4-.92-.59-1.43-.59-.52 0-1.04.2-1.43.59L10.3 9.45l-7.72 7.72c-.78.78-.78 2.05 0 2.83L4 21.41c.39.39.9.59 1.41.59.51 0 1.02-.2 1.41-.59l7.78-7.78 2.81-2.81c.8-.78.8-2.07 0-2.86zM5.41 20L4 18.59l7.72-7.72 1.47 1.35L5.41 20z\"/>\n",
              "  </svg>\n",
              "      </button>\n",
              "      \n",
              "  <style>\n",
              "    .colab-df-container {\n",
              "      display:flex;\n",
              "      flex-wrap:wrap;\n",
              "      gap: 12px;\n",
              "    }\n",
              "\n",
              "    .colab-df-convert {\n",
              "      background-color: #E8F0FE;\n",
              "      border: none;\n",
              "      border-radius: 50%;\n",
              "      cursor: pointer;\n",
              "      display: none;\n",
              "      fill: #1967D2;\n",
              "      height: 32px;\n",
              "      padding: 0 0 0 0;\n",
              "      width: 32px;\n",
              "    }\n",
              "\n",
              "    .colab-df-convert:hover {\n",
              "      background-color: #E2EBFA;\n",
              "      box-shadow: 0px 1px 2px rgba(60, 64, 67, 0.3), 0px 1px 3px 1px rgba(60, 64, 67, 0.15);\n",
              "      fill: #174EA6;\n",
              "    }\n",
              "\n",
              "    [theme=dark] .colab-df-convert {\n",
              "      background-color: #3B4455;\n",
              "      fill: #D2E3FC;\n",
              "    }\n",
              "\n",
              "    [theme=dark] .colab-df-convert:hover {\n",
              "      background-color: #434B5C;\n",
              "      box-shadow: 0px 1px 3px 1px rgba(0, 0, 0, 0.15);\n",
              "      filter: drop-shadow(0px 1px 2px rgba(0, 0, 0, 0.3));\n",
              "      fill: #FFFFFF;\n",
              "    }\n",
              "  </style>\n",
              "\n",
              "      <script>\n",
              "        const buttonEl =\n",
              "          document.querySelector('#df-72098841-c219-4a34-8690-9c47c6785111 button.colab-df-convert');\n",
              "        buttonEl.style.display =\n",
              "          google.colab.kernel.accessAllowed ? 'block' : 'none';\n",
              "\n",
              "        async function convertToInteractive(key) {\n",
              "          const element = document.querySelector('#df-72098841-c219-4a34-8690-9c47c6785111');\n",
              "          const dataTable =\n",
              "            await google.colab.kernel.invokeFunction('convertToInteractive',\n",
              "                                                     [key], {});\n",
              "          if (!dataTable) return;\n",
              "\n",
              "          const docLinkHtml = 'Like what you see? Visit the ' +\n",
              "            '<a target=\"_blank\" href=https://colab.research.google.com/notebooks/data_table.ipynb>data table notebook</a>'\n",
              "            + ' to learn more about interactive tables.';\n",
              "          element.innerHTML = '';\n",
              "          dataTable['output_type'] = 'display_data';\n",
              "          await google.colab.output.renderOutput(dataTable, element);\n",
              "          const docLink = document.createElement('div');\n",
              "          docLink.innerHTML = docLinkHtml;\n",
              "          element.appendChild(docLink);\n",
              "        }\n",
              "      </script>\n",
              "    </div>\n",
              "  </div>\n",
              "  "
            ],
            "text/plain": [
              "          Date  Close/Last Volume     Open     High      Low\n",
              "539 2020-11-05     3510.45     --  3485.74  3529.05  3485.74\n",
              "538 2020-11-06     3509.44     --  3508.34  3521.58  3484.34\n",
              "537 2020-11-09     3550.50     --  3583.04  3645.99  3547.48\n",
              "536 2020-11-10     3545.53     --  3543.26  3557.22  3511.91\n",
              "535 2020-11-11     3572.66     --  3563.22  3581.16  3557.00"
            ]
          },
          "execution_count": 3,
          "metadata": {},
          "output_type": "execute_result"
        }
      ],
      "source": [
        "data2 = pd.read_csv(f\"{data_URL}sp500_2012_2022.csv\")\n",
        "data2.Date = pd.to_datetime(data2.Date)\n",
        "\n",
        "data2 = data2[data2.Date > data1.Date.max()]\n",
        "data2 = data2.sort_values('Date')\n",
        "\n",
        "data2.head()"
      ]
    },
    {
      "cell_type": "code",
      "execution_count": 4,
      "metadata": {
        "colab": {
          "base_uri": "https://localhost:8080/",
          "height": 81
        },
        "id": "tmNAwoJKPMZV",
        "outputId": "6b233491-b3d0-4cb7-ca7c-4d2bd2c32be6"
      },
      "outputs": [
        {
          "data": {
            "text/html": [
              "\n",
              "  <div id=\"df-0140fcfd-4ca8-458d-88ef-7c96cdd78ffe\">\n",
              "    <div class=\"colab-df-container\">\n",
              "      <div>\n",
              "<style scoped>\n",
              "    .dataframe tbody tr th:only-of-type {\n",
              "        vertical-align: middle;\n",
              "    }\n",
              "\n",
              "    .dataframe tbody tr th {\n",
              "        vertical-align: top;\n",
              "    }\n",
              "\n",
              "    .dataframe thead th {\n",
              "        text-align: right;\n",
              "    }\n",
              "</style>\n",
              "<table border=\"1\" class=\"dataframe\">\n",
              "  <thead>\n",
              "    <tr style=\"text-align: right;\">\n",
              "      <th></th>\n",
              "      <th>High</th>\n",
              "      <th>rolling_mean</th>\n",
              "      <th>Date</th>\n",
              "    </tr>\n",
              "    <tr>\n",
              "      <th>Date</th>\n",
              "      <th></th>\n",
              "      <th></th>\n",
              "      <th></th>\n",
              "    </tr>\n",
              "  </thead>\n",
              "  <tbody>\n",
              "  </tbody>\n",
              "</table>\n",
              "</div>\n",
              "      <button class=\"colab-df-convert\" onclick=\"convertToInteractive('df-0140fcfd-4ca8-458d-88ef-7c96cdd78ffe')\"\n",
              "              title=\"Convert this dataframe to an interactive table.\"\n",
              "              style=\"display:none;\">\n",
              "        \n",
              "  <svg xmlns=\"http://www.w3.org/2000/svg\" height=\"24px\"viewBox=\"0 0 24 24\"\n",
              "       width=\"24px\">\n",
              "    <path d=\"M0 0h24v24H0V0z\" fill=\"none\"/>\n",
              "    <path d=\"M18.56 5.44l.94 2.06.94-2.06 2.06-.94-2.06-.94-.94-2.06-.94 2.06-2.06.94zm-11 1L8.5 8.5l.94-2.06 2.06-.94-2.06-.94L8.5 2.5l-.94 2.06-2.06.94zm10 10l.94 2.06.94-2.06 2.06-.94-2.06-.94-.94-2.06-.94 2.06-2.06.94z\"/><path d=\"M17.41 7.96l-1.37-1.37c-.4-.4-.92-.59-1.43-.59-.52 0-1.04.2-1.43.59L10.3 9.45l-7.72 7.72c-.78.78-.78 2.05 0 2.83L4 21.41c.39.39.9.59 1.41.59.51 0 1.02-.2 1.41-.59l7.78-7.78 2.81-2.81c.8-.78.8-2.07 0-2.86zM5.41 20L4 18.59l7.72-7.72 1.47 1.35L5.41 20z\"/>\n",
              "  </svg>\n",
              "      </button>\n",
              "      \n",
              "  <style>\n",
              "    .colab-df-container {\n",
              "      display:flex;\n",
              "      flex-wrap:wrap;\n",
              "      gap: 12px;\n",
              "    }\n",
              "\n",
              "    .colab-df-convert {\n",
              "      background-color: #E8F0FE;\n",
              "      border: none;\n",
              "      border-radius: 50%;\n",
              "      cursor: pointer;\n",
              "      display: none;\n",
              "      fill: #1967D2;\n",
              "      height: 32px;\n",
              "      padding: 0 0 0 0;\n",
              "      width: 32px;\n",
              "    }\n",
              "\n",
              "    .colab-df-convert:hover {\n",
              "      background-color: #E2EBFA;\n",
              "      box-shadow: 0px 1px 2px rgba(60, 64, 67, 0.3), 0px 1px 3px 1px rgba(60, 64, 67, 0.15);\n",
              "      fill: #174EA6;\n",
              "    }\n",
              "\n",
              "    [theme=dark] .colab-df-convert {\n",
              "      background-color: #3B4455;\n",
              "      fill: #D2E3FC;\n",
              "    }\n",
              "\n",
              "    [theme=dark] .colab-df-convert:hover {\n",
              "      background-color: #434B5C;\n",
              "      box-shadow: 0px 1px 3px 1px rgba(0, 0, 0, 0.15);\n",
              "      filter: drop-shadow(0px 1px 2px rgba(0, 0, 0, 0.3));\n",
              "      fill: #FFFFFF;\n",
              "    }\n",
              "  </style>\n",
              "\n",
              "      <script>\n",
              "        const buttonEl =\n",
              "          document.querySelector('#df-0140fcfd-4ca8-458d-88ef-7c96cdd78ffe button.colab-df-convert');\n",
              "        buttonEl.style.display =\n",
              "          google.colab.kernel.accessAllowed ? 'block' : 'none';\n",
              "\n",
              "        async function convertToInteractive(key) {\n",
              "          const element = document.querySelector('#df-0140fcfd-4ca8-458d-88ef-7c96cdd78ffe');\n",
              "          const dataTable =\n",
              "            await google.colab.kernel.invokeFunction('convertToInteractive',\n",
              "                                                     [key], {});\n",
              "          if (!dataTable) return;\n",
              "\n",
              "          const docLinkHtml = 'Like what you see? Visit the ' +\n",
              "            '<a target=\"_blank\" href=https://colab.research.google.com/notebooks/data_table.ipynb>data table notebook</a>'\n",
              "            + ' to learn more about interactive tables.';\n",
              "          element.innerHTML = '';\n",
              "          dataTable['output_type'] = 'display_data';\n",
              "          await google.colab.output.renderOutput(dataTable, element);\n",
              "          const docLink = document.createElement('div');\n",
              "          docLink.innerHTML = docLinkHtml;\n",
              "          element.appendChild(docLink);\n",
              "        }\n",
              "      </script>\n",
              "    </div>\n",
              "  </div>\n",
              "  "
            ],
            "text/plain": [
              "Empty DataFrame\n",
              "Columns: [High, rolling_mean, Date]\n",
              "Index: []"
            ]
          },
          "execution_count": 4,
          "metadata": {},
          "output_type": "execute_result"
        }
      ],
      "source": [
        "data_array = [data1[['Date','High']], data2[['Date','High']]]\n",
        "\n",
        "df = pd.concat(data_array, ignore_index=True, sort=False)\n",
        "##fill in missing days\n",
        "df = df.set_index('Date').resample('1D').mean().bfill()\n",
        "df['rolling_mean'] = df.rolling(window=3).mean()\n",
        "df['Date'] = df.index\n",
        "df = df.dropna()\n",
        "\n",
        "\n",
        "df[df.rolling_mean <500]\n"
      ]
    },
    {
      "cell_type": "code",
      "execution_count": 5,
      "metadata": {
        "colab": {
          "base_uri": "https://localhost:8080/",
          "height": 537
        },
        "id": "3EGHNLhjQR-h",
        "outputId": "94b29db3-d6e5-4765-ba2b-02bcf2cf6ee1"
      },
      "outputs": [
        {
          "data": {
            "text/plain": [
              "<matplotlib.axes._subplots.AxesSubplot at 0x7f998b93d760>"
            ]
          },
          "execution_count": 5,
          "metadata": {},
          "output_type": "execute_result"
        },
        {
          "data": {
            "image/png": "[encoded data removed]",
            "text/plain": [
              "<Figure size 1008x595.44 with 1 Axes>"
            ]
          },
          "metadata": {},
          "output_type": "display_data"
        }
      ],
      "source": [
        "sns.set(rc={'figure.figsize':(14.0,8.27)})\n",
        "sns.lineplot(data=df, x=\"Date\", y=\"rolling_mean\")"
      ]
    },
    {
      "cell_type": "code",
      "execution_count": 6,
      "metadata": {
        "colab": {
          "base_uri": "https://localhost:8080/",
          "height": 534
        },
        "id": "1oo61GpKSN0l",
        "outputId": "712a82f2-0e1e-4494-cd9e-0a47e204d028"
      },
      "outputs": [
        {
          "data": {
            "image/png": "[encoded data removed]",
            "text/plain": [
              "<Figure size 1008x595.44 with 1 Axes>"
            ]
          },
          "metadata": {},
          "output_type": "display_data"
        }
      ],
      "source": [
        "###calculate percentage change by year\n",
        "pcnt_change = df.copy()\n",
        "pcnt_change['year'] = df.Date.dt.year\n",
        "pcnt_change['month'] = df.Date.dt.month\n",
        "pcnt_change['day'] = df.Date.dt.day\n",
        "pcnt_change = pcnt_change.loc[(pcnt_change.month ==12) &( pcnt_change.day ==31),['year','rolling_mean']]\n",
        "pcnt_change['yr_pcnt_change'] = 100*pcnt_change['rolling_mean'].pct_change()\n",
        "pcnt_change = pcnt_change.dropna()\n",
        "\n",
        "x=pcnt_change.year\n",
        "y=pcnt_change.yr_pcnt_change\n",
        "\n",
        "profit_color = [{p< -10: 'red', -10<=p<=10: 'orange', p>8: 'green'}[True] for p in y]\n",
        "\n",
        "plt.bar(x, y, color=profit_color)\n",
        "plt.title('S&P 500 annual % change since 1927')\n",
        "plt.xticks(rotation=90)\n",
        "plt.show()"
      ]
    },
    {
      "cell_type": "markdown",
      "metadata": {
        "id": "74PgltP1gLV1"
      },
      "source": [
        "## Peform pre-processing of data for training"
      ]
    },
    {
      "cell_type": "code",
      "execution_count": 7,
      "metadata": {
        "colab": {
          "base_uri": "https://localhost:8080/"
        },
        "id": "uCOlQveWdUi7",
        "outputId": "bd50d61f-e5c3-463e-c0cf-83a0f85f6d8f"
      },
      "outputs": [
        {
          "data": {
            "text/plain": [
              "array([[1205.4567],\n",
              "       [1208.0667],\n",
              "       [2903.2366],\n",
              "       [3793.1233]], dtype=float32)"
            ]
          },
          "execution_count": 7,
          "metadata": {},
          "output_type": "execute_result"
        }
      ],
      "source": [
        "### convert to numpy array 7day rolling average \n",
        "df = df.dropna()\n",
        "vals = df['rolling_mean'].values.reshape(-1, 1)\n",
        "vals = vals.astype('float32') #COnvert values to float\n",
        "\n",
        "vals[[0,69,5000,6500]]"
      ]
    },
    {
      "cell_type": "code",
      "execution_count": 8,
      "metadata": {
        "colab": {
          "base_uri": "https://localhost:8080/"
        },
        "id": "2X-V8ExIgQym",
        "outputId": "f1d88a14-becd-4157-fe52-3c323563f31c"
      },
      "outputs": [
        {
          "data": {
            "text/plain": [
              "array([[0.12409073],\n",
              "       [0.12472555],\n",
              "       [0.5370352 ],\n",
              "       [0.75347894]], dtype=float32)"
            ]
          },
          "execution_count": 8,
          "metadata": {},
          "output_type": "execute_result"
        }
      ],
      "source": [
        "##scale all stock prices to values between 0 and 1\n",
        "scaler = MinMaxScaler(feature_range=(0, 1)) #Also try QuantileTransformer\n",
        "vals = scaler.fit_transform(vals)\n",
        "vals[[0,69,5000,6500]]"
      ]
    },
    {
      "cell_type": "code",
      "execution_count": 9,
      "metadata": {
        "colab": {
          "base_uri": "https://localhost:8080/"
        },
        "id": "IGSuOjWxinSc",
        "outputId": "e189800a-0f1d-4035-e233-6035bcda70dc"
      },
      "outputs": [
        {
          "name": "stdout",
          "output_type": "stream",
          "text": [
            "S&P500 data has been into train (4925 datapoints), validation (853 datapoints) and test (789 datapoints). \n",
            "Training data is from 05/01/2005 until 30/06/2018\n",
            "Validation data is from  01/07/2018 until 30/10/2020\n",
            "Testing data is from  31/10/2020 until 28/12/2022\n"
          ]
        }
      ],
      "source": [
        "##split into train-test split\n",
        "train_size = int(len(vals) * 0.75)\n",
        "validation_size = int(len(vals) * 0.88)\n",
        "test_size = len(vals) - validation_size\n",
        "train,validation, test = vals[0:train_size,:],vals[train_size:validation_size,:] ,vals[validation_size:len(vals),:]\n",
        "\n",
        "print(f\"S&P500 data has been into train ({len(train)} datapoints), validation ({len(validation)} datapoints) and test ({len(test)} datapoints). \")\n",
        "print(f\"Training data is from {df.Date[0]:%d/%m/%Y} until {df.Date[train_size-1]:%d/%m/%Y}\")\n",
        "print(f\"Validation data is from  {df.Date[train_size]:%d/%m/%Y} until {df.Date[validation_size-1]:%d/%m/%Y}\")\n",
        "print(f\"Testing data is from  {df.Date[validation_size]:%d/%m/%Y} until {df.Date[len(vals)-1]:%d/%m/%Y}\")\n",
        "\n",
        "##Test samples are after {df.Date[train_size]}\""
      ]
    },
    {
      "cell_type": "code",
      "execution_count": 10,
      "metadata": {
        "colab": {
          "base_uri": "https://localhost:8080/"
        },
        "id": "vEaLNmFe4gUY",
        "outputId": "e1bb6654-415d-43ef-a5be-1199f3708964"
      },
      "outputs": [
        {
          "data": {
            "text/plain": [
              "True"
            ]
          },
          "execution_count": 10,
          "metadata": {},
          "output_type": "execute_result"
        }
      ],
      "source": [
        "len(test)+len(train)+len(validation) == len(vals)"
      ]
    },
    {
      "cell_type": "code",
      "execution_count": 11,
      "metadata": {
        "id": "EsgbQyLbwHnT"
      },
      "outputs": [],
      "source": [
        "def to_sequences(dataset, n_past, n_future):\n",
        "    x = []\n",
        "    y = []\n",
        "\n",
        "    for i in range(n_past, len(dataset) - n_future +1):\n",
        "        #print(i)\n",
        "        x.append(dataset[i - n_past:i,0])\n",
        "        y.append(dataset[i + n_future - 1:i + n_future, 0])\n",
        "        \n",
        "    return np.array(x),np.array(y)\n",
        "\n"
      ]
    },
    {
      "cell_type": "code",
      "execution_count": 12,
      "metadata": {
        "id": "ZiDFwMEIxpGe"
      },
      "outputs": [],
      "source": [
        "n_past = 35 ##7 weeks (approx 6mths) or previous data to train on\n",
        "n_future = 14 ## predict two weeks into the future\n",
        "\n",
        "trainX, trainY = to_sequences(train, n_past,n_future)\n",
        "validX, validY = to_sequences(validation, n_past,n_future) \n",
        "testX, testY = to_sequences(test, n_past,n_future)"
      ]
    },
    {
      "cell_type": "code",
      "execution_count": 13,
      "metadata": {
        "colab": {
          "base_uri": "https://localhost:8080/"
        },
        "id": "wSRBaob_r2ge",
        "outputId": "0f0b1a8c-7913-4f24-b5fd-7c00329edf7b"
      },
      "outputs": [
        {
          "name": "stdout",
          "output_type": "stream",
          "text": [
            "S&P500 data has been into train (4877 datapoints), validation (805 datapoints) and test (741 datapoints). \n"
          ]
        }
      ],
      "source": [
        "##reshape data for LSTM\n",
        "trainX = np.reshape(trainX, (trainX.shape[0], 1, n_past))\n",
        "validX = np.reshape(validX, (validX.shape[0], 1, n_past))\n",
        "testX = np.reshape(testX, (testX.shape[0], 1, n_past))\n",
        "\n",
        "print(f\"S&P500 data has been into train ({len(trainX)} datapoints), validation ({len(validX)} datapoints) and test ({len(testX)} datapoints). \")\n"
      ]
    },
    {
      "cell_type": "code",
      "execution_count": 14,
      "metadata": {
        "colab": {
          "base_uri": "https://localhost:8080/"
        },
        "id": "nVNq4GNAz0h_",
        "outputId": "78dbc490-1fcc-45e0-f978-6b11b240a84c"
      },
      "outputs": [
        {
          "name": "stdout",
          "output_type": "stream",
          "text": [
            "Model: \"sequential\"\n",
            "_________________________________________________________________\n",
            " Layer (type)                Output Shape              Param #   \n",
            "=================================================================\n",
            " lstm (LSTM)                 (None, 50)                17200     \n",
            "                                                                 \n",
            " dropout (Dropout)           (None, 50)                0         \n",
            "                                                                 \n",
            " dense (Dense)               (None, 12)                612       \n",
            "                                                                 \n",
            " dense_1 (Dense)             (None, 1)                 13        \n",
            "                                                                 \n",
            "=================================================================\n",
            "Total params: 17,825\n",
            "Trainable params: 17,825\n",
            "Non-trainable params: 0\n",
            "_________________________________________________________________\n"
          ]
        }
      ],
      "source": [
        "#print('Single LSTM with hidden Dense...')\n",
        "model = Sequential()\n",
        "model.add(LSTM(units = 50, input_shape = (None, n_past)))\n",
        "model.add(Dropout(0.08))\n",
        "model.add(Dense(12))\n",
        "model.add(Dense(1))\n",
        "model.compile(optimizer = 'adam', loss = 'mean_squared_error')\n",
        "model.summary()"
      ]
    },
    {
      "cell_type": "code",
      "execution_count": 15,
      "metadata": {
        "colab": {
          "base_uri": "https://localhost:8080/"
        },
        "id": "qW8EN6DO2Wjp",
        "outputId": "007c52f0-4c06-4428-b2ae-3a4add4c3a41"
      },
      "outputs": [
        {
          "name": "stdout",
          "output_type": "stream",
          "text": [
            "Epoch 1/200\n",
            "153/153 - 7s - loss: 0.0014 - val_loss: 0.0014 - 7s/epoch - 48ms/step\n",
            "Epoch 2/200\n",
            "153/153 - 1s - loss: 4.4676e-04 - val_loss: 0.0019 - 959ms/epoch - 6ms/step\n",
            "Epoch 3/200\n",
            "153/153 - 1s - loss: 3.1534e-04 - val_loss: 0.0013 - 967ms/epoch - 6ms/step\n",
            "Epoch 4/200\n",
            "153/153 - 1s - loss: 2.6658e-04 - val_loss: 0.0013 - 961ms/epoch - 6ms/step\n",
            "Epoch 5/200\n",
            "153/153 - 1s - loss: 2.4855e-04 - val_loss: 0.0014 - 1s/epoch - 7ms/step\n",
            "Epoch 6/200\n",
            "153/153 - 1s - loss: 2.4452e-04 - val_loss: 0.0011 - 991ms/epoch - 6ms/step\n",
            "Epoch 7/200\n",
            "153/153 - 1s - loss: 2.0851e-04 - val_loss: 0.0012 - 998ms/epoch - 7ms/step\n",
            "Epoch 8/200\n",
            "153/153 - 1s - loss: 2.0479e-04 - val_loss: 0.0014 - 973ms/epoch - 6ms/step\n",
            "Epoch 9/200\n",
            "153/153 - 1s - loss: 2.0291e-04 - val_loss: 0.0012 - 993ms/epoch - 6ms/step\n",
            "Epoch 10/200\n",
            "153/153 - 1s - loss: 1.9821e-04 - val_loss: 0.0013 - 913ms/epoch - 6ms/step\n",
            "Epoch 11/200\n",
            "153/153 - 1s - loss: 1.7641e-04 - val_loss: 0.0014 - 933ms/epoch - 6ms/step\n",
            "Epoch 12/200\n",
            "153/153 - 1s - loss: 1.8364e-04 - val_loss: 0.0013 - 1s/epoch - 7ms/step\n",
            "Epoch 13/200\n",
            "153/153 - 1s - loss: 1.8053e-04 - val_loss: 0.0011 - 938ms/epoch - 6ms/step\n",
            "Epoch 14/200\n",
            "153/153 - 1s - loss: 1.6697e-04 - val_loss: 0.0010 - 812ms/epoch - 5ms/step\n",
            "Epoch 15/200\n",
            "153/153 - 1s - loss: 1.7532e-04 - val_loss: 0.0011 - 555ms/epoch - 4ms/step\n",
            "Epoch 16/200\n",
            "153/153 - 1s - loss: 1.6076e-04 - val_loss: 0.0010 - 545ms/epoch - 4ms/step\n",
            "Epoch 17/200\n",
            "153/153 - 1s - loss: 1.4520e-04 - val_loss: 0.0011 - 546ms/epoch - 4ms/step\n",
            "Epoch 18/200\n",
            "153/153 - 1s - loss: 1.5323e-04 - val_loss: 0.0010 - 543ms/epoch - 4ms/step\n",
            "Epoch 19/200\n",
            "153/153 - 1s - loss: 1.5695e-04 - val_loss: 0.0010 - 559ms/epoch - 4ms/step\n",
            "Epoch 20/200\n",
            "153/153 - 1s - loss: 1.6076e-04 - val_loss: 0.0011 - 552ms/epoch - 4ms/step\n",
            "Epoch 21/200\n",
            "153/153 - 1s - loss: 1.4287e-04 - val_loss: 9.9089e-04 - 530ms/epoch - 3ms/step\n",
            "Epoch 22/200\n",
            "153/153 - 1s - loss: 1.5029e-04 - val_loss: 0.0010 - 549ms/epoch - 4ms/step\n",
            "Epoch 23/200\n",
            "153/153 - 1s - loss: 1.4669e-04 - val_loss: 0.0010 - 546ms/epoch - 4ms/step\n",
            "Epoch 24/200\n",
            "153/153 - 1s - loss: 1.4661e-04 - val_loss: 9.8678e-04 - 573ms/epoch - 4ms/step\n",
            "Epoch 25/200\n",
            "153/153 - 1s - loss: 1.4191e-04 - val_loss: 9.9720e-04 - 547ms/epoch - 4ms/step\n",
            "Epoch 26/200\n",
            "153/153 - 1s - loss: 1.5193e-04 - val_loss: 0.0010 - 541ms/epoch - 4ms/step\n",
            "Epoch 27/200\n",
            "153/153 - 1s - loss: 1.5127e-04 - val_loss: 0.0012 - 526ms/epoch - 3ms/step\n",
            "Epoch 28/200\n",
            "153/153 - 1s - loss: 1.6868e-04 - val_loss: 9.9994e-04 - 549ms/epoch - 4ms/step\n",
            "Epoch 29/200\n",
            "153/153 - 1s - loss: 1.4434e-04 - val_loss: 0.0010 - 541ms/epoch - 4ms/step\n",
            "Epoch 30/200\n",
            "153/153 - 1s - loss: 1.5432e-04 - val_loss: 9.8703e-04 - 556ms/epoch - 4ms/step\n",
            "Epoch 31/200\n",
            "153/153 - 1s - loss: 1.6863e-04 - val_loss: 0.0013 - 554ms/epoch - 4ms/step\n",
            "Epoch 32/200\n",
            "153/153 - 1s - loss: 1.4629e-04 - val_loss: 9.9625e-04 - 531ms/epoch - 3ms/step\n",
            "Epoch 33/200\n",
            "153/153 - 1s - loss: 1.4181e-04 - val_loss: 0.0010 - 546ms/epoch - 4ms/step\n",
            "Epoch 34/200\n",
            "153/153 - 1s - loss: 1.5161e-04 - val_loss: 9.9052e-04 - 544ms/epoch - 4ms/step\n",
            "Epoch 35/200\n",
            "153/153 - 1s - loss: 1.3915e-04 - val_loss: 0.0011 - 579ms/epoch - 4ms/step\n",
            "Epoch 36/200\n",
            "153/153 - 1s - loss: 1.3538e-04 - val_loss: 9.8735e-04 - 534ms/epoch - 3ms/step\n",
            "Epoch 37/200\n",
            "153/153 - 1s - loss: 1.5603e-04 - val_loss: 0.0010 - 550ms/epoch - 4ms/step\n",
            "Epoch 38/200\n",
            "153/153 - 1s - loss: 1.3537e-04 - val_loss: 0.0011 - 518ms/epoch - 3ms/step\n",
            "Epoch 39/200\n",
            "153/153 - 1s - loss: 1.5351e-04 - val_loss: 0.0011 - 552ms/epoch - 4ms/step\n",
            "Epoch 40/200\n",
            "153/153 - 1s - loss: 1.3726e-04 - val_loss: 0.0017 - 523ms/epoch - 3ms/step\n",
            "Epoch 41/200\n",
            "153/153 - 1s - loss: 1.4231e-04 - val_loss: 0.0011 - 557ms/epoch - 4ms/step\n",
            "Epoch 42/200\n",
            "153/153 - 1s - loss: 1.3488e-04 - val_loss: 0.0010 - 538ms/epoch - 4ms/step\n",
            "Epoch 43/200\n",
            "153/153 - 1s - loss: 1.3808e-04 - val_loss: 9.7470e-04 - 546ms/epoch - 4ms/step\n",
            "Epoch 44/200\n",
            "153/153 - 1s - loss: 1.4787e-04 - val_loss: 0.0011 - 526ms/epoch - 3ms/step\n",
            "Epoch 45/200\n",
            "153/153 - 1s - loss: 1.4990e-04 - val_loss: 9.8104e-04 - 553ms/epoch - 4ms/step\n",
            "Epoch 46/200\n",
            "153/153 - 1s - loss: 1.4587e-04 - val_loss: 9.9512e-04 - 538ms/epoch - 4ms/step\n",
            "Epoch 47/200\n",
            "153/153 - 1s - loss: 1.4353e-04 - val_loss: 0.0013 - 545ms/epoch - 4ms/step\n",
            "Epoch 48/200\n",
            "153/153 - 1s - loss: 1.3325e-04 - val_loss: 9.5864e-04 - 533ms/epoch - 3ms/step\n",
            "Epoch 49/200\n",
            "153/153 - 1s - loss: 1.4234e-04 - val_loss: 0.0010 - 521ms/epoch - 3ms/step\n",
            "Epoch 50/200\n",
            "153/153 - 1s - loss: 1.3473e-04 - val_loss: 0.0011 - 545ms/epoch - 4ms/step\n",
            "Epoch 51/200\n",
            "153/153 - 1s - loss: 1.4331e-04 - val_loss: 0.0010 - 526ms/epoch - 3ms/step\n",
            "Epoch 52/200\n",
            "153/153 - 1s - loss: 1.4757e-04 - val_loss: 0.0010 - 560ms/epoch - 4ms/step\n",
            "Epoch 53/200\n",
            "153/153 - 1s - loss: 1.3857e-04 - val_loss: 0.0010 - 521ms/epoch - 3ms/step\n",
            "Epoch 54/200\n",
            "153/153 - 1s - loss: 1.4069e-04 - val_loss: 0.0010 - 532ms/epoch - 3ms/step\n",
            "Epoch 55/200\n",
            "153/153 - 1s - loss: 1.4817e-04 - val_loss: 0.0010 - 540ms/epoch - 4ms/step\n",
            "Epoch 56/200\n",
            "153/153 - 1s - loss: 1.3618e-04 - val_loss: 9.7136e-04 - 544ms/epoch - 4ms/step\n",
            "Epoch 57/200\n",
            "153/153 - 1s - loss: 1.3513e-04 - val_loss: 0.0011 - 536ms/epoch - 4ms/step\n",
            "Epoch 58/200\n",
            "153/153 - 1s - loss: 1.4636e-04 - val_loss: 9.7099e-04 - 559ms/epoch - 4ms/step\n",
            "Epoch 59/200\n",
            "153/153 - 1s - loss: 1.4561e-04 - val_loss: 9.6867e-04 - 530ms/epoch - 3ms/step\n",
            "Epoch 60/200\n",
            "153/153 - 1s - loss: 1.3237e-04 - val_loss: 0.0011 - 519ms/epoch - 3ms/step\n",
            "Epoch 61/200\n",
            "153/153 - 1s - loss: 1.3984e-04 - val_loss: 9.6623e-04 - 553ms/epoch - 4ms/step\n",
            "Epoch 62/200\n",
            "153/153 - 1s - loss: 1.4098e-04 - val_loss: 0.0010 - 538ms/epoch - 4ms/step\n",
            "Epoch 63/200\n",
            "153/153 - 1s - loss: 1.3377e-04 - val_loss: 0.0010 - 552ms/epoch - 4ms/step\n",
            "Epoch 64/200\n",
            "153/153 - 1s - loss: 1.3715e-04 - val_loss: 0.0010 - 529ms/epoch - 3ms/step\n",
            "Epoch 65/200\n",
            "153/153 - 1s - loss: 1.3170e-04 - val_loss: 0.0012 - 561ms/epoch - 4ms/step\n",
            "Epoch 66/200\n",
            "153/153 - 1s - loss: 1.3680e-04 - val_loss: 0.0011 - 531ms/epoch - 3ms/step\n",
            "Epoch 67/200\n",
            "153/153 - 1s - loss: 1.4007e-04 - val_loss: 0.0010 - 589ms/epoch - 4ms/step\n",
            "Epoch 68/200\n",
            "153/153 - 1s - loss: 1.3432e-04 - val_loss: 0.0011 - 534ms/epoch - 3ms/step\n",
            "Epoch 69/200\n",
            "153/153 - 1s - loss: 1.3971e-04 - val_loss: 0.0015 - 524ms/epoch - 3ms/step\n",
            "Epoch 70/200\n",
            "153/153 - 1s - loss: 1.3853e-04 - val_loss: 9.4950e-04 - 534ms/epoch - 3ms/step\n",
            "Epoch 71/200\n",
            "153/153 - 1s - loss: 1.4774e-04 - val_loss: 9.6971e-04 - 546ms/epoch - 4ms/step\n",
            "Epoch 72/200\n",
            "153/153 - 1s - loss: 1.3728e-04 - val_loss: 0.0010 - 547ms/epoch - 4ms/step\n",
            "Epoch 73/200\n",
            "153/153 - 1s - loss: 1.4930e-04 - val_loss: 0.0011 - 535ms/epoch - 3ms/step\n",
            "Epoch 74/200\n",
            "153/153 - 1s - loss: 1.3697e-04 - val_loss: 0.0012 - 567ms/epoch - 4ms/step\n",
            "Epoch 75/200\n",
            "153/153 - 1s - loss: 1.2647e-04 - val_loss: 9.9894e-04 - 536ms/epoch - 4ms/step\n",
            "Epoch 76/200\n",
            "153/153 - 1s - loss: 1.3705e-04 - val_loss: 0.0011 - 555ms/epoch - 4ms/step\n",
            "Epoch 77/200\n",
            "153/153 - 1s - loss: 1.4102e-04 - val_loss: 9.6097e-04 - 565ms/epoch - 4ms/step\n",
            "Epoch 78/200\n",
            "Restoring model weights from the end of the best epoch: 48.\n",
            "153/153 - 1s - loss: 1.4496e-04 - val_loss: 0.0011 - 564ms/epoch - 4ms/step\n",
            "Epoch 78: early stopping\n"
          ]
        }
      ],
      "source": [
        "es = EarlyStopping(monitor='val_loss', min_delta=1e-5, patience=30, \n",
        "                       verbose=1, mode='auto', restore_best_weights=True)\n",
        "\n",
        "###fit to model \n",
        "history = model.fit(trainX, trainY, validation_data=(validX, validY),\n",
        "          verbose=2, epochs=200, callbacks=[es])"
      ]
    },
    {
      "cell_type": "code",
      "execution_count": 16,
      "metadata": {
        "colab": {
          "base_uri": "https://localhost:8080/"
        },
        "id": "t9SZSnQ9Anz8",
        "outputId": "741485f8-4f0c-4a51-c217-c4bcecd7c85d"
      },
      "outputs": [
        {
          "name": "stdout",
          "output_type": "stream",
          "text": [
            "26/26 [==============================] - 0s 2ms/step\n",
            "24/24 [==============================] - 0s 2ms/step\n"
          ]
        }
      ],
      "source": [
        "###use model to predict values for the validation set and testing set\n",
        "## use our original scaler to reverse_transform to return to original values (USD)\n",
        "validationPredict =  scaler.inverse_transform(model.predict(validX).reshape(-1,1))\n",
        "testPredict =  scaler.inverse_transform(model.predict(testX).reshape(-1,1))"
      ]
    },
    {
      "cell_type": "code",
      "execution_count": 17,
      "metadata": {
        "id": "aDtBqU03BJ3a"
      },
      "outputs": [],
      "source": [
        "## again inverse_transform to get real Y-values back to USD\n",
        "validY = scaler.inverse_transform(validY.reshape(-1, 1))\n",
        "testY = scaler.inverse_transform(testY.reshape(-1, 1))"
      ]
    },
    {
      "cell_type": "markdown",
      "metadata": {
        "id": "7f4DV9ewHjid"
      },
      "source": [
        "## As a best guess, use current S&P500 price, as a predictor of the price in 14 days time...\n",
        "\n",
        "-If we can beat this with our model, shows our prediction is better than just saying S&P500 price will be the same in 2 weeks"
      ]
    },
    {
      "cell_type": "code",
      "execution_count": 18,
      "metadata": {
        "id": "wBeGaXWsFTYN"
      },
      "outputs": [],
      "source": [
        "def get_last_X_from_series(sequence):\n",
        "  x1 =  [sequence[i,0,n_past-1] for i in np.arange(len(sequence))]\n",
        "  x2 = np.array(x1)\n",
        "  x3 = np.reshape(x2,(-1,1))\n",
        "  x4 = scaler.inverse_transform(x3)\n",
        "\n",
        "  return x4\n",
        "\n",
        "\n",
        "\n",
        "validation_lastX_equals_Y =  get_last_X_from_series(validX)\n",
        "test_lastX_equals_Y = get_last_X_from_series(testX)\n"
      ]
    },
    {
      "cell_type": "markdown",
      "metadata": {
        "id": "YY5YMKhzLn7H"
      },
      "source": [
        "## Asses predictions\n",
        "\n"
      ]
    },
    {
      "cell_type": "code",
      "execution_count": 19,
      "metadata": {
        "id": "z-tIqaAyCBIi"
      },
      "outputs": [],
      "source": [
        "def RMSE(y_true, y_pred, prefix):\n",
        "  error = y_true-y_pred\n",
        "  squared_error = error **2\n",
        "  mean_squared_error = np.mean(squared_error)\n",
        "  root_mean_squared_error = np.sqrt(mean_squared_error)\n",
        "  return f\"{prefix} RMSE = ${root_mean_squared_error:.2f}\"\n"
      ]
    },
    {
      "cell_type": "code",
      "execution_count": 20,
      "metadata": {
        "colab": {
          "base_uri": "https://localhost:8080/"
        },
        "id": "BtZlXRsaIZaI",
        "outputId": "8adcbb74-f582-49f8-f393-c8ed3c03f6de"
      },
      "outputs": [
        {
          "name": "stdout",
          "output_type": "stream",
          "text": [
            "validation_lastX_equals_Y RMSE = $116.64\n",
            "LSTM validation RMSE = $127.30\n",
            "test_lastX_equals_Y RMSE = $127.63\n",
            "LSTM test RMSE = $152.31\n"
          ]
        }
      ],
      "source": [
        "print(RMSE(validY, validation_lastX_equals_Y, 'validation_lastX_equals_Y'))\n",
        "print(RMSE(validY, validationPredict, 'LSTM validation'))\n",
        "print(RMSE(testY, test_lastX_equals_Y, 'test_lastX_equals_Y'))\n",
        "print(RMSE(testY, testPredict, 'LSTM test'))\n"
      ]
    }
  ],
  "metadata": {
    "accelerator": "GPU",
    "colab": {
      "authorship_tag": "ABX9TyMZfMmvjgR2xhIFJKDhZrL+",
      "include_colab_link": true,
      "provenance": []
    },
    "gpuClass": "standard",
    "kernelspec": {
      "display_name": "Python 3",
      "language": "python",
      "name": "python3"
    },
    "language_info": {
      "codemirror_mode": {
        "name": "ipython",
        "version": 3
      },
      "file_extension": ".py",
      "mimetype": "text/x-python",
      "name": "python",
      "nbconvert_exporter": "python",
      "pygments_lexer": "ipython3",
      "version": "3.9.13"
    },
    "vscode": {
      "interpreter": {
        "hash": "a8fc5f4be5aeb4c2f7e9bc939b74a7fe16a549ac8816bf19dcfbca8b4887a582"
      }
    }
  },
  "nbformat": 4,
  "nbformat_minor": 0
}
