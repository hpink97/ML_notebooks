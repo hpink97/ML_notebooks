{
  "nbformat": 4,
  "nbformat_minor": 0,
  "metadata": {
    "colab": {
      "provenance": [],
      "authorship_tag": "ABX9TyOJ0lkZytJnk/uNHu0i3/4M",
      "include_colab_link": true
    },
    "kernelspec": {
      "name": "python3",
      "display_name": "Python 3"
    },
    "language_info": {
      "name": "python"
    },
    "accelerator": "GPU",
    "gpuClass": "standard"
  },
  "cells": [
    {
      "cell_type": "markdown",
      "metadata": {
        "id": "view-in-github",
        "colab_type": "text"
      },
      "source": [
        "<a href=\"https://colab.research.google.com/github/hpink97/tensorflow_keras_practice/blob/main/IMBD_review_classifier.ipynb\" target=\"_parent\"><img src=\"https://colab.research.google.com/assets/colab-badge.svg\" alt=\"Open In Colab\"/></a>"
      ]
    },
    {
      "cell_type": "markdown",
      "source": [
        "# **Classification of IMBD movie reviews using Dense neural networks** \n",
        "- 50,000 (25k test & 25k train) text reviews for movies\n",
        "- labelled as positive (1) or negative (0)\n",
        "- Use a Dense-layer neural network to classify\n",
        "---\n",
        "\n"
      ],
      "metadata": {
        "id": "g6p25BAz-LML"
      }
    },
    {
      "cell_type": "code",
      "execution_count": 1,
      "metadata": {
        "id": "pd-F58bw9-Ed"
      },
      "outputs": [],
      "source": [
        "## Load libraries\n",
        "import numpy as np\n",
        "import matplotlib.pyplot as plt\n",
        "import gc #garbage collection needed to save RAM\n",
        "\n",
        "\n",
        "\n",
        "from tensorflow import keras\n",
        "from tensorflow.keras import layers\n",
        "from tensorflow.keras.datasets import imdb\n",
        "from sklearn.model_selection import train_test_split"
      ]
    },
    {
      "cell_type": "code",
      "source": [
        "## total dataset include over 80,000 words\n",
        "## many only appear once and are uninformative for the model\n",
        "## use top 8,000 most frequent words for model here\n",
        "n_words = 8000\n",
        "(train_data, train_labels),(test_data, test_labels) = imdb.load_data(num_words=n_words)"
      ],
      "metadata": {
        "id": "w4zhz8-Z-typ"
      },
      "execution_count": 2,
      "outputs": []
    },
    {
      "cell_type": "markdown",
      "source": [
        "### data encodes a list of word indicies, showing the sequence of specific words in the review"
      ],
      "metadata": {
        "id": "J1_U3zKn_jxY"
      }
    },
    {
      "cell_type": "code",
      "source": [
        "train_data.shape\n"
      ],
      "metadata": {
        "colab": {
          "base_uri": "https://localhost:8080/"
        },
        "id": "zluguypd_55k",
        "outputId": "3d1e33c8-d177-4e5c-ef74-6d6889da7cdf"
      },
      "execution_count": 3,
      "outputs": [
        {
          "output_type": "execute_result",
          "data": {
            "text/plain": [
              "(25000,)"
            ]
          },
          "metadata": {},
          "execution_count": 3
        }
      ]
    },
    {
      "cell_type": "code",
      "source": [
        "train_data[69][:20]"
      ],
      "metadata": {
        "colab": {
          "base_uri": "https://localhost:8080/"
        },
        "id": "78wCxtEw_Rdx",
        "outputId": "7752ecf2-42b0-444a-8910-2d4fb2966ea1"
      },
      "execution_count": 4,
      "outputs": [
        {
          "output_type": "execute_result",
          "data": {
            "text/plain": [
              "[1,\n",
              " 48,\n",
              " 335,\n",
              " 6,\n",
              " 337,\n",
              " 7,\n",
              " 22,\n",
              " 1359,\n",
              " 5,\n",
              " 104,\n",
              " 36,\n",
              " 92,\n",
              " 97,\n",
              " 4403,\n",
              " 40,\n",
              " 36,\n",
              " 343,\n",
              " 8,\n",
              " 133,\n",
              " 9]"
            ]
          },
          "metadata": {},
          "execution_count": 4
        }
      ]
    },
    {
      "cell_type": "markdown",
      "source": [
        "### convert index sequence back to words to read review \n",
        "- review 69 shown here\n",
        "- label data shows that the review is labelled as positive\n"
      ],
      "metadata": {
        "id": "nc1Oo02nDaBm"
      }
    },
    {
      "cell_type": "code",
      "source": [
        "word2index = imdb.get_word_index()\n",
        "index2word = dict(\n",
        "    [(value, key) for (key, value) in word2index.items()]\n",
        ")\n",
        "\n",
        "##indices 1-3 are used for padding start of sequence and unknown words \n",
        "## words not in most frequent 5000 that we pulled data for\n",
        "review_69 = \" \".join([index2word.get(i -3, '?') for i in train_data[69]])\n",
        "print(review_69)\n",
        "print(train_labels[69])"
      ],
      "metadata": {
        "colab": {
          "base_uri": "https://localhost:8080/"
        },
        "id": "_3ErXbqH_bxr",
        "outputId": "cea92ad1-fc80-4860-8dc7-4ab048517a62"
      },
      "execution_count": 5,
      "outputs": [
        {
          "output_type": "stream",
          "name": "stdout",
          "text": [
            "? if you're a fan of film noir and think they don't make 'em like they used to here is your answer they just don't make 'em in hollywood anymore we must turn to the french to remember how satisfying subtle and terrific a well made film from that genre can be read my lips is a wonderfully nasty little gift to the faithful from director jacques ? featuring sharp storytelling and fine performances from ? ? and vincent ? br br the basic plot could have been written in the 40's dumb but appealing ex con and a smart but ? femme fatale who turns out to be ? ambitious discover each other while living lives of bleak desperation and longing ? each other to meet their own ends develop complex love hate relationship cook up criminal scheme involving heist double crosses close calls and lots of money all action takes place in depressing seedy and or poorly lit locations br br ? has fashioned some modern twists of course the femme fatale is an ? office worker who happens to be nearly deaf and uses her lip reading ability to take revenge on those who ? her and where you might expect ? love scenes you discover that both characters are sexually awkward and immature add in a bit of modern technology and music and it seems like a contemporary film but make no mistake this is old school film noir it's as good as any film from the genre and easily one of the best films i've seen all year\n",
            "1\n"
          ]
        }
      ]
    },
    {
      "cell_type": "markdown",
      "source": [
        "### Use multi-hot enoding to standaradise imput format\n",
        "- lengths of reviews are all different\n",
        "- our neural network will require the input tensor to be of the same size\n",
        "- we generate vectorised sequences which are binary (1's where the word exists)\n",
        "- this does however lose ordering (we're just saying whether a word exists in the review"
      ],
      "metadata": {
        "id": "VAE6Ox54EHsv"
      }
    },
    {
      "cell_type": "code",
      "source": [
        "def multi_hot_enoding(sequences):\n",
        "  x = np.zeros((len(sequences), n_words))\n",
        "  for i, seq in enumerate(sequences):\n",
        "    for j in seq:\n",
        "      x[i,j] = 1\n",
        "  return x\n",
        "\n",
        "\n",
        "x_train = multi_hot_enoding(train_data)\n",
        "x_test = multi_hot_enoding(test_data)\n",
        "\n",
        "del train_data\n",
        "gc.collect()\n",
        "x_train[69]\n"
      ],
      "metadata": {
        "colab": {
          "base_uri": "https://localhost:8080/"
        },
        "id": "S26TAPsnEHGy",
        "outputId": "7ad96312-6e3f-48ac-fece-5f7d8f6b60ec"
      },
      "execution_count": 6,
      "outputs": [
        {
          "output_type": "execute_result",
          "data": {
            "text/plain": [
              "array([0., 1., 1., ..., 0., 0., 0.])"
            ]
          },
          "metadata": {},
          "execution_count": 6
        }
      ]
    },
    {
      "cell_type": "code",
      "source": [
        "### convert labels to vectors also \n",
        "y_train = np.asarray(train_labels).astype('float32')\n",
        "y_test = np.asarray(test_labels).astype('float32')"
      ],
      "metadata": {
        "id": "eggK7NzFDzDe"
      },
      "execution_count": 7,
      "outputs": []
    },
    {
      "cell_type": "markdown",
      "source": [
        "## Build the neural network "
      ],
      "metadata": {
        "id": "-fyJBk8jI9C2"
      }
    },
    {
      "cell_type": "code",
      "source": [
        "#build neural net classifier\n",
        "# use simple dense layers\n",
        "\n",
        "layer_size = 16\n",
        "\n",
        "review_clf = keras.Sequential([\n",
        "    layers.Dense(layer_size, activation='relu'),\n",
        "    #layers.Dense(layer_size-2, activation='relu'),\n",
        "    layers.Dense(1, activation='sigmoid'),\n",
        "])\n",
        "\n",
        "review_clf2 = keras.models.clone_model(review_clf)\n",
        "\n",
        "\n",
        "review_clf.compile(\n",
        "    optimizer='adam',\n",
        "    loss = 'binary_crossentropy',\n",
        "    metrics =['accuracy']\n",
        ")\n",
        "\n",
        "review_clf2.compile(\n",
        "    optimizer='adam',\n",
        "    loss = 'binary_crossentropy',\n",
        "    metrics =['accuracy']\n",
        ")\n",
        "\n",
        "\n",
        "\n"
      ],
      "metadata": {
        "id": "Zp7hIXPFJBKg"
      },
      "execution_count": 8,
      "outputs": []
    },
    {
      "cell_type": "code",
      "source": [
        "partial_x_train, x_val, partial_y_train, y_val = train_test_split(\n",
        "    x_train, y_train, test_size=0.35, random_state=7)\n",
        "\n",
        "print(f\"{partial_x_train.shape[0]} training samples, {x_val.shape[0]} validation samples and {y_test.shape[0]} test samples\")"
      ],
      "metadata": {
        "colab": {
          "base_uri": "https://localhost:8080/"
        },
        "id": "7rJJYyCtK3ah",
        "outputId": "c822adf2-5f7d-4020-942b-f0b28341eb39"
      },
      "execution_count": 9,
      "outputs": [
        {
          "output_type": "stream",
          "name": "stdout",
          "text": [
            "16250 training samples, 8750 validation samples and 25000 test samples\n"
          ]
        }
      ]
    },
    {
      "cell_type": "code",
      "source": [
        "model_epochs=[50,5]\n",
        "\n",
        "train_history_full = review_clf.fit(partial_x_train, partial_y_train, \n",
        "                                    epochs =model_epochs[0], batch_size = 500, \n",
        "                                    validation_data =(x_val, y_val))\n",
        "gc.collect()\n"
      ],
      "metadata": {
        "colab": {
          "base_uri": "https://localhost:8080/"
        },
        "id": "8ZnlYJF-MPb1",
        "outputId": "004e0026-6a6b-4bc6-bd0e-787c05248674"
      },
      "execution_count": 10,
      "outputs": [
        {
          "output_type": "stream",
          "name": "stdout",
          "text": [
            "Epoch 1/50\n",
            "33/33 [==============================] - 3s 35ms/step - loss: 0.5419 - accuracy: 0.7756 - val_loss: 0.4046 - val_accuracy: 0.8575\n",
            "Epoch 2/50\n",
            "33/33 [==============================] - 0s 15ms/step - loss: 0.3267 - accuracy: 0.8938 - val_loss: 0.3190 - val_accuracy: 0.8799\n",
            "Epoch 3/50\n",
            "33/33 [==============================] - 0s 15ms/step - loss: 0.2502 - accuracy: 0.9190 - val_loss: 0.2905 - val_accuracy: 0.8883\n",
            "Epoch 4/50\n",
            "33/33 [==============================] - 0s 15ms/step - loss: 0.2086 - accuracy: 0.9350 - val_loss: 0.2793 - val_accuracy: 0.8902\n",
            "Epoch 5/50\n",
            "33/33 [==============================] - 0s 15ms/step - loss: 0.1802 - accuracy: 0.9442 - val_loss: 0.2767 - val_accuracy: 0.8891\n",
            "Epoch 6/50\n",
            "33/33 [==============================] - 0s 15ms/step - loss: 0.1585 - accuracy: 0.9527 - val_loss: 0.2818 - val_accuracy: 0.8872\n",
            "Epoch 7/50\n",
            "33/33 [==============================] - 0s 15ms/step - loss: 0.1408 - accuracy: 0.9589 - val_loss: 0.2824 - val_accuracy: 0.8877\n",
            "Epoch 8/50\n",
            "33/33 [==============================] - 1s 16ms/step - loss: 0.1253 - accuracy: 0.9654 - val_loss: 0.2891 - val_accuracy: 0.8846\n",
            "Epoch 9/50\n",
            "33/33 [==============================] - 0s 15ms/step - loss: 0.1128 - accuracy: 0.9701 - val_loss: 0.2986 - val_accuracy: 0.8845\n",
            "Epoch 10/50\n",
            "33/33 [==============================] - 1s 15ms/step - loss: 0.1014 - accuracy: 0.9742 - val_loss: 0.3090 - val_accuracy: 0.8826\n",
            "Epoch 11/50\n",
            "33/33 [==============================] - 0s 14ms/step - loss: 0.0915 - accuracy: 0.9785 - val_loss: 0.3191 - val_accuracy: 0.8810\n",
            "Epoch 12/50\n",
            "33/33 [==============================] - 0s 15ms/step - loss: 0.0825 - accuracy: 0.9821 - val_loss: 0.3298 - val_accuracy: 0.8794\n",
            "Epoch 13/50\n",
            "33/33 [==============================] - 0s 15ms/step - loss: 0.0746 - accuracy: 0.9851 - val_loss: 0.3415 - val_accuracy: 0.8767\n",
            "Epoch 14/50\n",
            "33/33 [==============================] - 0s 15ms/step - loss: 0.0676 - accuracy: 0.9871 - val_loss: 0.3560 - val_accuracy: 0.8751\n",
            "Epoch 15/50\n",
            "33/33 [==============================] - 0s 15ms/step - loss: 0.0612 - accuracy: 0.9894 - val_loss: 0.3674 - val_accuracy: 0.8744\n",
            "Epoch 16/50\n",
            "33/33 [==============================] - 0s 15ms/step - loss: 0.0553 - accuracy: 0.9916 - val_loss: 0.3799 - val_accuracy: 0.8721\n",
            "Epoch 17/50\n",
            "33/33 [==============================] - 0s 14ms/step - loss: 0.0504 - accuracy: 0.9930 - val_loss: 0.3937 - val_accuracy: 0.8714\n",
            "Epoch 18/50\n",
            "33/33 [==============================] - 1s 15ms/step - loss: 0.0457 - accuracy: 0.9943 - val_loss: 0.4082 - val_accuracy: 0.8702\n",
            "Epoch 19/50\n",
            "33/33 [==============================] - 1s 20ms/step - loss: 0.0415 - accuracy: 0.9953 - val_loss: 0.4246 - val_accuracy: 0.8703\n",
            "Epoch 20/50\n",
            "33/33 [==============================] - 0s 15ms/step - loss: 0.0379 - accuracy: 0.9959 - val_loss: 0.4349 - val_accuracy: 0.8691\n",
            "Epoch 21/50\n",
            "33/33 [==============================] - 0s 15ms/step - loss: 0.0345 - accuracy: 0.9968 - val_loss: 0.4503 - val_accuracy: 0.8680\n",
            "Epoch 22/50\n",
            "33/33 [==============================] - 0s 15ms/step - loss: 0.0314 - accuracy: 0.9975 - val_loss: 0.4634 - val_accuracy: 0.8677\n",
            "Epoch 23/50\n",
            "33/33 [==============================] - 0s 15ms/step - loss: 0.0287 - accuracy: 0.9982 - val_loss: 0.4776 - val_accuracy: 0.8672\n",
            "Epoch 24/50\n",
            "33/33 [==============================] - 0s 15ms/step - loss: 0.0265 - accuracy: 0.9985 - val_loss: 0.4895 - val_accuracy: 0.8651\n",
            "Epoch 25/50\n",
            "33/33 [==============================] - 0s 14ms/step - loss: 0.0246 - accuracy: 0.9987 - val_loss: 0.5042 - val_accuracy: 0.8648\n",
            "Epoch 26/50\n",
            "33/33 [==============================] - 0s 15ms/step - loss: 0.0222 - accuracy: 0.9992 - val_loss: 0.5175 - val_accuracy: 0.8651\n",
            "Epoch 27/50\n",
            "33/33 [==============================] - 0s 14ms/step - loss: 0.0204 - accuracy: 0.9994 - val_loss: 0.5303 - val_accuracy: 0.8649\n",
            "Epoch 28/50\n",
            "33/33 [==============================] - 0s 15ms/step - loss: 0.0189 - accuracy: 0.9995 - val_loss: 0.5438 - val_accuracy: 0.8627\n",
            "Epoch 29/50\n",
            "33/33 [==============================] - 0s 15ms/step - loss: 0.0174 - accuracy: 0.9996 - val_loss: 0.5544 - val_accuracy: 0.8638\n",
            "Epoch 30/50\n",
            "33/33 [==============================] - 1s 15ms/step - loss: 0.0162 - accuracy: 0.9998 - val_loss: 0.5675 - val_accuracy: 0.8627\n",
            "Epoch 31/50\n",
            "33/33 [==============================] - 0s 14ms/step - loss: 0.0149 - accuracy: 0.9998 - val_loss: 0.5810 - val_accuracy: 0.8625\n",
            "Epoch 32/50\n",
            "33/33 [==============================] - 0s 15ms/step - loss: 0.0140 - accuracy: 0.9999 - val_loss: 0.5945 - val_accuracy: 0.8615\n",
            "Epoch 33/50\n",
            "33/33 [==============================] - 0s 15ms/step - loss: 0.0129 - accuracy: 0.9999 - val_loss: 0.6075 - val_accuracy: 0.8610\n",
            "Epoch 34/50\n",
            "33/33 [==============================] - 0s 15ms/step - loss: 0.0121 - accuracy: 1.0000 - val_loss: 0.6156 - val_accuracy: 0.8609\n",
            "Epoch 35/50\n",
            "33/33 [==============================] - 0s 15ms/step - loss: 0.0112 - accuracy: 1.0000 - val_loss: 0.6271 - val_accuracy: 0.8608\n",
            "Epoch 36/50\n",
            "33/33 [==============================] - 0s 15ms/step - loss: 0.0105 - accuracy: 1.0000 - val_loss: 0.6368 - val_accuracy: 0.8611\n",
            "Epoch 37/50\n",
            "33/33 [==============================] - 0s 15ms/step - loss: 0.0099 - accuracy: 1.0000 - val_loss: 0.6478 - val_accuracy: 0.8606\n",
            "Epoch 38/50\n",
            "33/33 [==============================] - 0s 15ms/step - loss: 0.0092 - accuracy: 1.0000 - val_loss: 0.6603 - val_accuracy: 0.8595\n",
            "Epoch 39/50\n",
            "33/33 [==============================] - 0s 15ms/step - loss: 0.0087 - accuracy: 1.0000 - val_loss: 0.6693 - val_accuracy: 0.8599\n",
            "Epoch 40/50\n",
            "33/33 [==============================] - 0s 15ms/step - loss: 0.0081 - accuracy: 1.0000 - val_loss: 0.6790 - val_accuracy: 0.8595\n",
            "Epoch 41/50\n",
            "33/33 [==============================] - 0s 15ms/step - loss: 0.0076 - accuracy: 1.0000 - val_loss: 0.6892 - val_accuracy: 0.8587\n",
            "Epoch 42/50\n",
            "33/33 [==============================] - 0s 15ms/step - loss: 0.0072 - accuracy: 1.0000 - val_loss: 0.6997 - val_accuracy: 0.8586\n",
            "Epoch 43/50\n",
            "33/33 [==============================] - 0s 15ms/step - loss: 0.0068 - accuracy: 1.0000 - val_loss: 0.7095 - val_accuracy: 0.8581\n",
            "Epoch 44/50\n",
            "33/33 [==============================] - 0s 15ms/step - loss: 0.0064 - accuracy: 1.0000 - val_loss: 0.7190 - val_accuracy: 0.8577\n",
            "Epoch 45/50\n",
            "33/33 [==============================] - 0s 15ms/step - loss: 0.0061 - accuracy: 1.0000 - val_loss: 0.7264 - val_accuracy: 0.8586\n",
            "Epoch 46/50\n",
            "33/33 [==============================] - 0s 15ms/step - loss: 0.0058 - accuracy: 1.0000 - val_loss: 0.7364 - val_accuracy: 0.8576\n",
            "Epoch 47/50\n",
            "33/33 [==============================] - 0s 15ms/step - loss: 0.0054 - accuracy: 1.0000 - val_loss: 0.7454 - val_accuracy: 0.8576\n",
            "Epoch 48/50\n",
            "33/33 [==============================] - 0s 15ms/step - loss: 0.0052 - accuracy: 1.0000 - val_loss: 0.7532 - val_accuracy: 0.8581\n",
            "Epoch 49/50\n",
            "33/33 [==============================] - 0s 15ms/step - loss: 0.0049 - accuracy: 1.0000 - val_loss: 0.7649 - val_accuracy: 0.8568\n",
            "Epoch 50/50\n",
            "33/33 [==============================] - 0s 15ms/step - loss: 0.0046 - accuracy: 1.0000 - val_loss: 0.7715 - val_accuracy: 0.8567\n"
          ]
        },
        {
          "output_type": "execute_result",
          "data": {
            "text/plain": [
              "1402"
            ]
          },
          "metadata": {},
          "execution_count": 10
        }
      ]
    },
    {
      "cell_type": "markdown",
      "source": [],
      "metadata": {
        "id": "8kNHa_nmkCAH"
      }
    },
    {
      "cell_type": "code",
      "source": [
        "##plot \n",
        "plt.rcParams['figure.figsize'] = [12, 6]\n",
        "train_stats = train_history_full.history\n",
        "train_acc = train_stats['accuracy']\n",
        "val_acc = train_stats['val_accuracy']\n",
        "train_loss = train_stats['loss']\n",
        "val_loss = train_stats['val_loss']\n",
        "epochs = range(1, len(val_acc)+1)\n",
        "\n",
        "\n",
        "axs = (plt.figure(constrained_layout=True)\n",
        "       .subplots(1, 2, sharex=True, sharey=False))\n",
        "\n",
        "axs[0].plot(epochs, train_acc, 'ro',\n",
        "         label='Training Accuracy',)\n",
        "axs[0].plot(epochs, val_acc, 'b',\n",
        "         label = 'Validation Accuracy')\n",
        "axs[0].set_xlabel('Epochs (#Training Cycles)')\n",
        "axs[0].set_ylabel('accuracy')\n",
        "axs[0].legend()\n",
        "\n",
        "\n",
        "axs[1].plot(epochs, train_loss, 'ro',\n",
        "         label='Training Loss',)\n",
        "axs[1].plot(epochs, val_loss, 'b',\n",
        "         label = 'Validation Loss')\n",
        "axs[1].set_xlabel('Epochs (#Training Cycles)')\n",
        "axs[1].set_ylabel('Loss')\n",
        "axs[1].legend()\n",
        "plt.show()\n"
      ],
      "metadata": {
        "colab": {
          "base_uri": "https://localhost:8080/",
          "height": 457
        },
        "id": "nPhR4h8aTHoG",
        "outputId": "fb4a177f-00ea-43a2-a6d2-06e8ebd3de05"
      },
      "execution_count": 11,
      "outputs": [
        {
          "output_type": "display_data",
          "data": {
            "text/plain": [
              "<Figure size 864x432 with 2 Axes>"
            ],
            "image/png": "[encoded data removed]"
          },
          "metadata": {
            "needs_background": "light"
          }
        }
      ]
    },
    {
      "cell_type": "code",
      "source": [
        "review_clf2.fit(partial_x_train, partial_y_train,\n",
        "                epochs =model_epochs[1], batch_size = 500, \n",
        "                validation_data =(x_val, y_val))\n",
        "gc.collect()"
      ],
      "metadata": {
        "colab": {
          "base_uri": "https://localhost:8080/"
        },
        "id": "eK5zYwkDhr2m",
        "outputId": "d2c766a9-9e64-474d-ad94-d6be0f2e2aaa"
      },
      "execution_count": 12,
      "outputs": [
        {
          "output_type": "stream",
          "name": "stdout",
          "text": [
            "Epoch 1/5\n",
            "33/33 [==============================] - 1s 28ms/step - loss: 0.5260 - accuracy: 0.7790 - val_loss: 0.3892 - val_accuracy: 0.8591\n",
            "Epoch 2/5\n",
            "33/33 [==============================] - 0s 15ms/step - loss: 0.3122 - accuracy: 0.8969 - val_loss: 0.3103 - val_accuracy: 0.8803\n",
            "Epoch 3/5\n",
            "33/33 [==============================] - 0s 15ms/step - loss: 0.2373 - accuracy: 0.9234 - val_loss: 0.2846 - val_accuracy: 0.8894\n",
            "Epoch 4/5\n",
            "33/33 [==============================] - 0s 15ms/step - loss: 0.1956 - accuracy: 0.9393 - val_loss: 0.2782 - val_accuracy: 0.8901\n",
            "Epoch 5/5\n",
            "33/33 [==============================] - 0s 14ms/step - loss: 0.1680 - accuracy: 0.9492 - val_loss: 0.2768 - val_accuracy: 0.8874\n"
          ]
        },
        {
          "output_type": "execute_result",
          "data": {
            "text/plain": [
              "1440"
            ]
          },
          "metadata": {},
          "execution_count": 12
        }
      ]
    },
    {
      "cell_type": "markdown",
      "source": [
        "# Assess model accuracy on **test data**\n",
        "- we achieve 88.2% accuracy (not too bad) \n",
        "- we can see that the model which undergoes many training cycles (epochs) has become overfit (only 84% accuracy)"
      ],
      "metadata": {
        "id": "BK5MhT9IY2rJ"
      }
    },
    {
      "cell_type": "code",
      "source": [
        "gc.collect()\n",
        "model_results = review_clf.evaluate(x_test, y_test)\n",
        "loss = model_results[0]\n",
        "accuracy = model_results[1]*100\n",
        "print(f\"Neural Network IMDB review classifier trained on {n_words} unique words with 30 epochs. Achieving {accuracy:.1f}% accuracy and a loss of {loss:.2f}\")\n",
        "\n",
        "gc.collect()\n",
        "model_results = review_clf2.evaluate(x_test, y_test)\n",
        "loss2 = model_results[0]\n",
        "accuracy2 = model_results[1]*100\n",
        "print(f\"Neural Network IMDB review classifier trained on {n_words} unique words with 5 epochs. Achieving {accuracy2:.1f}% accuracy and a loss of {loss2:.2f}\")\n",
        "\n"
      ],
      "metadata": {
        "colab": {
          "base_uri": "https://localhost:8080/"
        },
        "id": "c7fVFz94NW1p",
        "outputId": "86229577-179b-4eeb-b8a5-c46eaaa22a2b"
      },
      "execution_count": 13,
      "outputs": [
        {
          "output_type": "stream",
          "name": "stdout",
          "text": [
            "782/782 [==============================] - 2s 3ms/step - loss: 0.8173 - accuracy: 0.8472\n",
            "Neural Network IMDB review classifier trained on 8000 unique words with 30 epochs. Achieving 84.7% accuracy and a loss of 0.82\n",
            "782/782 [==============================] - 2s 3ms/step - loss: 0.2952 - accuracy: 0.8800\n",
            "Neural Network IMDB review classifier trained on 8000 unique words with 5 epochs. Achieving 88.0% accuracy and a loss of 0.30\n"
          ]
        }
      ]
    },
    {
      "cell_type": "markdown",
      "source": [
        "### assess the models prediction confidence"
      ],
      "metadata": {
        "id": "RKrCAO-mbKsu"
      }
    },
    {
      "cell_type": "code",
      "source": [
        "gc.collect()\n",
        "y_pred = review_clf2.predict(x_test)\n",
        "\n",
        "\n",
        "n, bins, patches = plt.hist(y_pred, 100, density=False, facecolor='g', alpha=0.75)\n",
        "\n",
        "\n",
        "plt.xlabel('Probability of positive review')\n",
        "plt.ylabel('#Reviews')\n",
        "plt.title('IMDB review classifier prediction confidence')\n",
        "plt.grid(True)\n",
        "plt.show()"
      ],
      "metadata": {
        "colab": {
          "base_uri": "https://localhost:8080/",
          "height": 404
        },
        "id": "ZV2lW2qpZiQo",
        "outputId": "dfe23e0d-b540-4174-91bd-a0fd192959f1"
      },
      "execution_count": 14,
      "outputs": [
        {
          "output_type": "display_data",
          "data": {
            "text/plain": [
              "<Figure size 864x432 with 1 Axes>"
            ],
            "image/png": "[encoded data removed]"
          },
          "metadata": {
            "needs_background": "light"
          }
        }
      ]
    },
    {
      "cell_type": "code",
      "source": [
        "\n",
        "\n",
        "test = y_pred == np.min(y_pred)\n",
        "ind = [i for i, x in enumerate(test) if x]\n",
        "most_negative_review = test_data[ind[0]]\n",
        "\" \".join([index2word.get(i -3, '?') for i in most_negative_review])"
      ],
      "metadata": {
        "colab": {
          "base_uri": "https://localhost:8080/",
          "height": 105
        },
        "id": "Z_qAo93Dagb-",
        "outputId": "59960dfe-0814-45b6-d506-083ecc3192d3"
      },
      "execution_count": 15,
      "outputs": [
        {
          "output_type": "execute_result",
          "data": {
            "text/plain": [
              "\"? ? or creatures from the ? as i'm positive it's more ? known as filmed under as the title creatures from the ? appears over a moving image in the same ? type as the rest of the credits starts with five 20 something kids mike clay rogers his girlfriend margaret sharon sisters julie ann wolf dorothy ? an annoying idiot named bobby michael ? whom decide to all fit into a small rubber boat head out to sea don't ask why as i don't know oh the complete idiot bobby left the ? behind never thought to tell anyone so it comes as no great surprise that they end up stranded out at sea without any ? for the ? to make matters worse they become trapped in a thunder storm discover a dead body floating in the water shortly after their luck seems to change when they come across a ? potential safety in a flash everyone ? the ? begin to explore first of all they find a scientific lab with various fish ? computer equipment then down below they find fully ? ? ? they find a ? ? ? who appears mad can't talk they eat fish from the ? which makes dorothy ? up green vomit ? slugs they learn that these fish are living ? of years old have been ? by ? waste dumped in the sea that they fly ? bite are generally unpleasant to be around i really can't be bothered to go on with this plot outline so i won't here's what i think br br this italian production was produced directed by under the ? al i'd hide under a different name if i made a film this bad too i think ? is quite simply one of the worst films ever there are so many things wrong with this film it's difficult to know where to start first the script by richard is total crap it makes no sense whatsoever is so slow dull it was torture for me to sit through why would five people just simply set ? for the middle of the ocean on a rubber ? barely big enough to fit them all in what were they planning on doing exactly why do we often get point of view shots from these fish creatures but they seem to be totally invisible to the characters as they are never shown on screen even though they are right next to a character how do these fish get around the boat as there is no water for them to swim in people's actions reactions to things are all wrong they constantly split up they make bizarre decisions that simply don't make any sense in the situation they find themselves in some of the dialogue is as awful as anything i've heard i could go on all day about all the plot holes ridiculous goings on but i'll run out of space if i do the fish creatures themselves look awful a mixture of rubbish rubber puppets some really bad stop motion animation at the end the scenes where they interact with the human cast also look terrible with some bad super ? i have heard a lot of comments saying that ? is gory don't make me laugh forget it there is virtually no blood or gore in ? whatsoever there are a couple of slimy scenes when bobby ? into a fish monster while having sex with julie but it's pretty brief he doesn't kill her he just sort of ? ? on her grows a couple of ? a fish head comes out of his mouth later on ? ? starts to ? some dark ? but that's it we never get to actually see what happens to her or what the ? is dorothy has a fish creature come out of her back off screen control her but again we never get to see what happens to her while margaret commits suicide a very brief shot of a plastic ? stuck to her ? easily the ? scene is when dorothy ? up that green stuff with what looks like ? slugs in it that's it only one person actually dies on screen for the most part ? is quite tame as exciting as watching paint dry i nearly fell asleep it's so boring i can't see how anybody can like this total crap i just can't the acting is awful the dubbing is awful the characters are awful i hated all of them ? is predictably crap as well with an ? budget of only ? 000 all i can say is where did the money go the sets are monotonous dull with one lab a few ? the special are bottom of the barrel stuff including the most fake looking exploding boat ever the cinematography is bland the music sucks there is zero atmosphere or tension as a whole ? like it's name sake is as low in the food chain as it could possibly be i hate ? it's awful in every single aspect of it's overlong ? minute duration do yourself a favour avoid this one at all costs unless your either a ? or ?\""
            ],
            "application/vnd.google.colaboratory.intrinsic+json": {
              "type": "string"
            }
          },
          "metadata": {},
          "execution_count": 15
        }
      ]
    },
    {
      "cell_type": "code",
      "source": [
        "\n",
        "\n",
        "test = y_pred == np.max(y_pred)\n",
        "ind = [i for i, x in enumerate(test) if x]\n",
        "most_positive_review = test_data[ind[0]]\n",
        "\" \".join([index2word.get(i -3, '?') for i in most_positive_review])"
      ],
      "metadata": {
        "colab": {
          "base_uri": "https://localhost:8080/",
          "height": 105
        },
        "id": "abv4MabNfYa_",
        "outputId": "8270aef2-3007-4a80-f7bc-7a1f0712a4ce"
      },
      "execution_count": 16,
      "outputs": [
        {
          "output_type": "execute_result",
          "data": {
            "text/plain": [
              "\"? looking back at the career of alfred hitchcock it never fails to be surprising how such a brilliant and ? man could be ? sufficient recognition for how revolutionary he was for the film industry it is likely a sign of how ahead of his time hitchcock was always attempting to push the ? and never ? along with a film made simply for the purpose of being entertaining but always with a deeper more poignant motive on his mind strangers on a train one of hitchcock's first and more underrated hits is a perfect example of these traits an entertaining and suspenseful story even when viewed over 50 years later yes but so carefully and ? constructed it stands today as a masterpiece in film technique br br arguably one of the ? suspense thrillers strangers on a train may come across as slightly dated in certain aspects but it ? every bit of superbly crafted tension as it did back in 1951 if perhaps slightly less shocking the brilliant use of cinematography and lighting as well as quick careful editing are what really make the film stand out drawing out every possible ? of tension and ? the audience's focus even in slower scenes if there was ever any doubt of what a simply masterful filmmaker hitchcock was simply watching five minutes of strangers on a train should be enough to ? such ? every shot is so carefully chosen and constructed all serving to drive the storyline ahead in a particularly innovative fashion sadly enough there are certain moments in the story which are out of place enough to jar our focus away from the superb cinematography and editing bruno being able to reach down to the bottom of a ? ? is simply unbelievable and the figure of a stereotypical old man ? under a wildly out of control ? provides unintentional comedic relief in what is meant to be the film's most tense and engaging scene these are only brief moments but they are enough to stand out as painfully weak in an otherwise stellar film br br but what really makes strangers on a train stand out is the story premise as hollywood films of late run the risk of ? ? further and further into the ? of ? ? after ? it's wonderfully refreshing to see a 50 year old film with a premise which actually comes across as smart and original sure it's fairly straightforward but the concept of ? murders is simply one that would not fly in films of today's day and age which makes it all the more entertaining to watch the film's brilliant screenplay keeps the action ? at a ? pace while providing us with some wonderfully memorable lines all the while one can't help but notice the deeper themes hitchcock is ? to throughout as well especially the concept of darkness in ? heart demonstrated by elderly ladies being fascinated and ? by the ? of murder as well as ? own ? attitude towards death ? also works in many moments of dark humour bruno popping a child's ? with his cigarette is priceless and irony shooting suspenseful scenes in happy easy going ? such as the iconic ? scenes to create an even more eerie atmosphere this may be a suspense thriller yes but to overlook the brain ? beneath it would be simply ? br br the ? figure of bruno ? to ? perfection by robert walker sadly in his last film role but easily stealing the film from his very talented fellow cast members is without a doubt what makes strangers on a train so memorable as the character is a marvel to behold here we have a simply superbly crafted villainous figure all the more intriguing by how ordinary and ? he seems rather than ? ? and ? the hero at every possible moment bruno is a calm controlled psychotic mess he speaks of murder in such an ? tone yet ? a passionate ? in his eye when discussing different ? of killing people bruno could seem to represent the id as ? would put it the inner darker and ? aspects of mankind it makes an interesting contrast to the hero figure guy haines and how bland and uninteresting he seems almost as if to drive home the ? of evil being much more interesting and appealing than constantly ? to do the right thing br br yet despite this implied message ? still twists our emotions enough that we root for guy at every turn and cheer at each new ? he is forced to overcome it's a testament to actor ? ? talent that despite robert ? villain easily stealing the show ? hero still comes across as sympathetic still commanding our support even when falling prey to being a far less compelling character superb support is given by ruth roman who manages to overcome the ? and be a more innovative and complex romantic interest figure ? rogers giving a stunning performance as guy's ? manipulative and ? first wife and patricia hitchcock proving that she is far more talented than being simply the director's daughter would ? the superb cast headed by a simply wonderful walker really bring the film to life adding so much more merit to the film than simply hitchcock's breathtaking ? br br all in all strangers on a train may still come across as slightly too dated for certain viewers but it's still a shock how modern and appealing to contemporary audiences seems considering it was released half a century ago once again hitchcock proves his ? ? of tension and film technique and the film's surprisingly original and enjoyable premise is alone worth a viewing highly recommended to anyone wishing to ? a brilliantly made but superbly entertaining film experience br br 9 10\""
            ],
            "application/vnd.google.colaboratory.intrinsic+json": {
              "type": "string"
            }
          },
          "metadata": {},
          "execution_count": 16
        }
      ]
    }
  ]
}