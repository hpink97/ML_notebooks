{
  "nbformat": 4,
  "nbformat_minor": 0,
  "metadata": {
    "colab": {
      "provenance": [],
      "collapsed_sections": [],
      "authorship_tag": "ABX9TyMzAcOtYiic2MAc7qhA3XVl",
      "include_colab_link": true
    },
    "kernelspec": {
      "name": "python3",
      "display_name": "Python 3"
    },
    "language_info": {
      "name": "python"
    },
    "accelerator": "GPU",
    "gpuClass": "standard"
  },
  "cells": [
    {
      "cell_type": "markdown",
      "metadata": {
        "id": "view-in-github",
        "colab_type": "text"
      },
      "source": [
        "<a href=\"https://colab.research.google.com/github/hpink97/tensorflow_keras_practice/blob/main/IMBD_review_classifier.ipynb\" target=\"_parent\"><img src=\"https://colab.research.google.com/assets/colab-badge.svg\" alt=\"Open In Colab\"/></a>"
      ]
    },
    {
      "cell_type": "markdown",
      "source": [
        "# **Classification of IMBD movie reviews using Dense neural networks** \n",
        "- 50,000 (25k test & 25k train) text reviews for movies\n",
        "- labelled as positive (1) or negative (0)\n",
        "- Use a Dense-layer neural network to classify\n",
        "---\n",
        "\n"
      ],
      "metadata": {
        "id": "g6p25BAz-LML"
      }
    },
    {
      "cell_type": "code",
      "execution_count": 1,
      "metadata": {
        "id": "pd-F58bw9-Ed"
      },
      "outputs": [],
      "source": [
        "## Load libraries\n",
        "import numpy as np\n",
        "import matplotlib.pyplot as plt\n",
        "import gc #garbage collection needed to save RAM\n",
        "\n",
        "\n",
        "\n",
        "from tensorflow import keras\n",
        "from tensorflow.keras import layers\n",
        "from tensorflow.keras.datasets import imdb\n",
        "from sklearn.model_selection import train_test_split"
      ]
    },
    {
      "cell_type": "code",
      "source": [
        "## total dataset include over 80,000 words\n",
        "## many only appear once and are uninformative for the model\n",
        "## use top 8,000 most frequent words for model here\n",
        "n_words = 8000\n",
        "(train_data, train_labels),(test_data, test_labels) = imdb.load_data(num_words=n_words)"
      ],
      "metadata": {
        "id": "w4zhz8-Z-typ"
      },
      "execution_count": 2,
      "outputs": []
    },
    {
      "cell_type": "markdown",
      "source": [
        "### data encodes a list of word indicies, showing the sequence of specific words in the review"
      ],
      "metadata": {
        "id": "J1_U3zKn_jxY"
      }
    },
    {
      "cell_type": "code",
      "source": [
        "train_data.shape\n"
      ],
      "metadata": {
        "colab": {
          "base_uri": "https://localhost:8080/"
        },
        "id": "zluguypd_55k",
        "outputId": "da235d7a-5545-4abb-eb02-60cd29d6c1c9"
      },
      "execution_count": 3,
      "outputs": [
        {
          "output_type": "execute_result",
          "data": {
            "text/plain": [
              "(25000,)"
            ]
          },
          "metadata": {},
          "execution_count": 3
        }
      ]
    },
    {
      "cell_type": "code",
      "source": [
        "train_data[69][:20]"
      ],
      "metadata": {
        "colab": {
          "base_uri": "https://localhost:8080/"
        },
        "id": "78wCxtEw_Rdx",
        "outputId": "50293c54-703a-40ca-a8f0-d3bd53ebc34b"
      },
      "execution_count": 4,
      "outputs": [
        {
          "output_type": "execute_result",
          "data": {
            "text/plain": [
              "[1,\n",
              " 48,\n",
              " 335,\n",
              " 6,\n",
              " 337,\n",
              " 7,\n",
              " 22,\n",
              " 1359,\n",
              " 5,\n",
              " 104,\n",
              " 36,\n",
              " 92,\n",
              " 97,\n",
              " 4403,\n",
              " 40,\n",
              " 36,\n",
              " 343,\n",
              " 8,\n",
              " 133,\n",
              " 9]"
            ]
          },
          "metadata": {},
          "execution_count": 4
        }
      ]
    },
    {
      "cell_type": "markdown",
      "source": [
        "### convert index sequence back to words to read review \n",
        "- review 69 shown here\n",
        "- label data shows that the review is labelled as positive\n"
      ],
      "metadata": {
        "id": "nc1Oo02nDaBm"
      }
    },
    {
      "cell_type": "code",
      "source": [
        "word2index = imdb.get_word_index()\n",
        "index2word = dict(\n",
        "    [(value, key) for (key, value) in word2index.items()]\n",
        ")\n",
        "\n",
        "##indices 1-3 are used for padding start of sequence and unknown words \n",
        "## words not in most frequent 5000 that we pulled data for\n",
        "review_69 = \" \".join([index2word.get(i -3, '?') for i in train_data[69]])\n",
        "print(review_69)\n",
        "print(train_labels[69])"
      ],
      "metadata": {
        "colab": {
          "base_uri": "https://localhost:8080/"
        },
        "id": "_3ErXbqH_bxr",
        "outputId": "03847340-2366-4957-ad6d-976e183542ec"
      },
      "execution_count": 5,
      "outputs": [
        {
          "output_type": "stream",
          "name": "stdout",
          "text": [
            "? if you're a fan of film noir and think they don't make 'em like they used to here is your answer they just don't make 'em in hollywood anymore we must turn to the french to remember how satisfying subtle and terrific a well made film from that genre can be read my lips is a wonderfully nasty little gift to the faithful from director jacques ? featuring sharp storytelling and fine performances from ? ? and vincent ? br br the basic plot could have been written in the 40's dumb but appealing ex con and a smart but ? femme fatale who turns out to be ? ambitious discover each other while living lives of bleak desperation and longing ? each other to meet their own ends develop complex love hate relationship cook up criminal scheme involving heist double crosses close calls and lots of money all action takes place in depressing seedy and or poorly lit locations br br ? has fashioned some modern twists of course the femme fatale is an ? office worker who happens to be nearly deaf and uses her lip reading ability to take revenge on those who ? her and where you might expect ? love scenes you discover that both characters are sexually awkward and immature add in a bit of modern technology and music and it seems like a contemporary film but make no mistake this is old school film noir it's as good as any film from the genre and easily one of the best films i've seen all year\n",
            "1\n"
          ]
        }
      ]
    },
    {
      "cell_type": "markdown",
      "source": [
        "### Use multi-hot enoding to standaradise imput format\n",
        "- lengths of reviews are all different\n",
        "- our neural network will require the input tensor to be of the same size\n",
        "- we generate vectorised sequences which are binary (1's where the word exists)\n",
        "- this does however lose ordering (we're just saying whether a word exists in the review"
      ],
      "metadata": {
        "id": "VAE6Ox54EHsv"
      }
    },
    {
      "cell_type": "code",
      "source": [
        "def multi_hot_enoding(sequences):\n",
        "  x = np.zeros((len(sequences), n_words))\n",
        "  for i, seq in enumerate(sequences):\n",
        "    for j in seq:\n",
        "      x[i,j] = 1\n",
        "  return x\n",
        "\n",
        "\n",
        "x_train = multi_hot_enoding(train_data)\n",
        "x_test = multi_hot_enoding(test_data)\n",
        "\n",
        "#train_data object no longer needed - delete to save RAM\n",
        "del train_data\n",
        "gc.collect()\n",
        "x_train[69]\n"
      ],
      "metadata": {
        "colab": {
          "base_uri": "https://localhost:8080/"
        },
        "id": "S26TAPsnEHGy",
        "outputId": "0bb1ece0-1a8a-495e-9e64-e3769d18a573"
      },
      "execution_count": 6,
      "outputs": [
        {
          "output_type": "execute_result",
          "data": {
            "text/plain": [
              "array([0., 1., 1., ..., 0., 0., 0.])"
            ]
          },
          "metadata": {},
          "execution_count": 6
        }
      ]
    },
    {
      "cell_type": "code",
      "source": [
        "### convert labels to vectors also \n",
        "y_train = np.asarray(train_labels).astype('float32')\n",
        "y_test = np.asarray(test_labels).astype('float32')"
      ],
      "metadata": {
        "id": "eggK7NzFDzDe"
      },
      "execution_count": 7,
      "outputs": []
    },
    {
      "cell_type": "markdown",
      "source": [
        "## Build the neural network "
      ],
      "metadata": {
        "id": "-fyJBk8jI9C2"
      }
    },
    {
      "cell_type": "code",
      "source": [
        "#build neural net classifier\n",
        "# use simple dense layers\n",
        "\n",
        "layer_size = 16\n",
        "\n",
        "review_clf = keras.Sequential([\n",
        "    layers.Dense(layer_size, activation='relu'),\n",
        "    #layers.Dense(layer_size-2, activation='relu'),\n",
        "    layers.Dense(1, activation='sigmoid'),\n",
        "])\n",
        "\n",
        "\n",
        "\n",
        "review_clf.compile(\n",
        "    optimizer='adam',\n",
        "    loss = 'binary_crossentropy',\n",
        "    metrics =['accuracy']\n",
        ")\n",
        "\n",
        "\n",
        "\n"
      ],
      "metadata": {
        "id": "Zp7hIXPFJBKg"
      },
      "execution_count": 8,
      "outputs": []
    },
    {
      "cell_type": "code",
      "source": [
        "partial_x_train, x_val, partial_y_train, y_val = train_test_split(\n",
        "    x_train, y_train, test_size=0.35, random_state=7)\n",
        "\n",
        "print(f\"{partial_x_train.shape[0]} training samples, {x_val.shape[0]} validation samples and {y_test.shape[0]} test samples\")"
      ],
      "metadata": {
        "colab": {
          "base_uri": "https://localhost:8080/"
        },
        "id": "7rJJYyCtK3ah",
        "outputId": "c77edc27-6ea7-4877-bbdf-8097cb109c0d"
      },
      "execution_count": 9,
      "outputs": [
        {
          "output_type": "stream",
          "name": "stdout",
          "text": [
            "16250 training samples, 8750 validation samples and 25000 test samples\n"
          ]
        }
      ]
    },
    {
      "cell_type": "markdown",
      "source": [
        "# **Train the model**\n",
        "- 50 training cycles of back-propogation and weights updates\n",
        "- Training performed in batches of 500 samples"
      ],
      "metadata": {
        "id": "OK-hHVQkrpcf"
      }
    },
    {
      "cell_type": "code",
      "source": [
        "\n",
        "train_history_full = review_clf.fit(partial_x_train, partial_y_train, \n",
        "                                    epochs =50, batch_size = 500, \n",
        "                                    validation_data =(x_val, y_val))\n",
        "gc.collect() # collect garbage\n"
      ],
      "metadata": {
        "colab": {
          "base_uri": "https://localhost:8080/"
        },
        "id": "8ZnlYJF-MPb1",
        "outputId": "0cfa2ef6-8e36-4b73-d20c-d45c79f27d42"
      },
      "execution_count": 10,
      "outputs": [
        {
          "output_type": "stream",
          "name": "stdout",
          "text": [
            "Epoch 1/50\n",
            "33/33 [==============================] - 3s 46ms/step - loss: 0.5189 - accuracy: 0.7829 - val_loss: 0.3817 - val_accuracy: 0.8632\n",
            "Epoch 2/50\n",
            "33/33 [==============================] - 1s 25ms/step - loss: 0.3076 - accuracy: 0.8997 - val_loss: 0.3096 - val_accuracy: 0.8834\n",
            "Epoch 3/50\n",
            "33/33 [==============================] - 1s 22ms/step - loss: 0.2389 - accuracy: 0.9222 - val_loss: 0.2869 - val_accuracy: 0.8873\n",
            "Epoch 4/50\n",
            "33/33 [==============================] - 1s 21ms/step - loss: 0.2005 - accuracy: 0.9370 - val_loss: 0.2789 - val_accuracy: 0.8875\n",
            "Epoch 5/50\n",
            "33/33 [==============================] - 1s 22ms/step - loss: 0.1730 - accuracy: 0.9481 - val_loss: 0.2790 - val_accuracy: 0.8883\n",
            "Epoch 6/50\n",
            "33/33 [==============================] - 1s 23ms/step - loss: 0.1529 - accuracy: 0.9564 - val_loss: 0.2790 - val_accuracy: 0.8879\n",
            "Epoch 7/50\n",
            "33/33 [==============================] - 1s 21ms/step - loss: 0.1354 - accuracy: 0.9623 - val_loss: 0.2850 - val_accuracy: 0.8843\n",
            "Epoch 8/50\n",
            "33/33 [==============================] - 1s 20ms/step - loss: 0.1215 - accuracy: 0.9672 - val_loss: 0.2918 - val_accuracy: 0.8863\n",
            "Epoch 9/50\n",
            "33/33 [==============================] - 1s 22ms/step - loss: 0.1096 - accuracy: 0.9715 - val_loss: 0.3015 - val_accuracy: 0.8814\n",
            "Epoch 10/50\n",
            "33/33 [==============================] - 1s 22ms/step - loss: 0.0997 - accuracy: 0.9751 - val_loss: 0.3108 - val_accuracy: 0.8825\n",
            "Epoch 11/50\n",
            "33/33 [==============================] - 1s 18ms/step - loss: 0.0899 - accuracy: 0.9796 - val_loss: 0.3200 - val_accuracy: 0.8795\n",
            "Epoch 12/50\n",
            "33/33 [==============================] - 1s 22ms/step - loss: 0.0815 - accuracy: 0.9825 - val_loss: 0.3317 - val_accuracy: 0.8779\n",
            "Epoch 13/50\n",
            "33/33 [==============================] - 1s 21ms/step - loss: 0.0742 - accuracy: 0.9843 - val_loss: 0.3444 - val_accuracy: 0.8760\n",
            "Epoch 14/50\n",
            "33/33 [==============================] - 1s 22ms/step - loss: 0.0672 - accuracy: 0.9878 - val_loss: 0.3564 - val_accuracy: 0.8744\n",
            "Epoch 15/50\n",
            "33/33 [==============================] - 1s 21ms/step - loss: 0.0615 - accuracy: 0.9892 - val_loss: 0.3707 - val_accuracy: 0.8729\n",
            "Epoch 16/50\n",
            "33/33 [==============================] - 0s 15ms/step - loss: 0.0558 - accuracy: 0.9912 - val_loss: 0.3833 - val_accuracy: 0.8729\n",
            "Epoch 17/50\n",
            "33/33 [==============================] - 0s 15ms/step - loss: 0.0512 - accuracy: 0.9925 - val_loss: 0.3964 - val_accuracy: 0.8713\n",
            "Epoch 18/50\n",
            "33/33 [==============================] - 1s 15ms/step - loss: 0.0472 - accuracy: 0.9932 - val_loss: 0.4121 - val_accuracy: 0.8687\n",
            "Epoch 19/50\n",
            "33/33 [==============================] - 0s 15ms/step - loss: 0.0429 - accuracy: 0.9951 - val_loss: 0.4238 - val_accuracy: 0.8705\n",
            "Epoch 20/50\n",
            "33/33 [==============================] - 0s 15ms/step - loss: 0.0391 - accuracy: 0.9960 - val_loss: 0.4379 - val_accuracy: 0.8691\n",
            "Epoch 21/50\n",
            "33/33 [==============================] - 0s 15ms/step - loss: 0.0357 - accuracy: 0.9967 - val_loss: 0.4522 - val_accuracy: 0.8685\n",
            "Epoch 22/50\n",
            "33/33 [==============================] - 0s 15ms/step - loss: 0.0329 - accuracy: 0.9973 - val_loss: 0.4665 - val_accuracy: 0.8670\n",
            "Epoch 23/50\n",
            "33/33 [==============================] - 1s 20ms/step - loss: 0.0301 - accuracy: 0.9978 - val_loss: 0.4801 - val_accuracy: 0.8669\n",
            "Epoch 24/50\n",
            "33/33 [==============================] - 0s 15ms/step - loss: 0.0276 - accuracy: 0.9985 - val_loss: 0.4953 - val_accuracy: 0.8650\n",
            "Epoch 25/50\n",
            "33/33 [==============================] - 0s 15ms/step - loss: 0.0256 - accuracy: 0.9989 - val_loss: 0.5074 - val_accuracy: 0.8648\n",
            "Epoch 26/50\n",
            "33/33 [==============================] - 0s 15ms/step - loss: 0.0234 - accuracy: 0.9993 - val_loss: 0.5208 - val_accuracy: 0.8642\n",
            "Epoch 27/50\n",
            "33/33 [==============================] - 0s 15ms/step - loss: 0.0218 - accuracy: 0.9993 - val_loss: 0.5350 - val_accuracy: 0.8638\n",
            "Epoch 28/50\n",
            "33/33 [==============================] - 0s 15ms/step - loss: 0.0202 - accuracy: 0.9995 - val_loss: 0.5485 - val_accuracy: 0.8630\n",
            "Epoch 29/50\n",
            "33/33 [==============================] - 0s 15ms/step - loss: 0.0186 - accuracy: 0.9996 - val_loss: 0.5615 - val_accuracy: 0.8623\n",
            "Epoch 30/50\n",
            "33/33 [==============================] - 0s 15ms/step - loss: 0.0172 - accuracy: 0.9998 - val_loss: 0.5736 - val_accuracy: 0.8622\n",
            "Epoch 31/50\n",
            "33/33 [==============================] - 0s 15ms/step - loss: 0.0160 - accuracy: 0.9997 - val_loss: 0.5855 - val_accuracy: 0.8616\n",
            "Epoch 32/50\n",
            "33/33 [==============================] - 1s 15ms/step - loss: 0.0150 - accuracy: 0.9998 - val_loss: 0.5984 - val_accuracy: 0.8613\n",
            "Epoch 33/50\n",
            "33/33 [==============================] - 0s 14ms/step - loss: 0.0139 - accuracy: 0.9998 - val_loss: 0.6100 - val_accuracy: 0.8609\n",
            "Epoch 34/50\n",
            "33/33 [==============================] - 0s 14ms/step - loss: 0.0129 - accuracy: 0.9999 - val_loss: 0.6221 - val_accuracy: 0.8607\n",
            "Epoch 35/50\n",
            "33/33 [==============================] - 0s 14ms/step - loss: 0.0121 - accuracy: 0.9999 - val_loss: 0.6333 - val_accuracy: 0.8611\n",
            "Epoch 36/50\n",
            "33/33 [==============================] - 0s 15ms/step - loss: 0.0113 - accuracy: 1.0000 - val_loss: 0.6455 - val_accuracy: 0.8605\n",
            "Epoch 37/50\n",
            "33/33 [==============================] - 0s 15ms/step - loss: 0.0106 - accuracy: 1.0000 - val_loss: 0.6561 - val_accuracy: 0.8601\n",
            "Epoch 38/50\n",
            "33/33 [==============================] - 0s 15ms/step - loss: 0.0099 - accuracy: 1.0000 - val_loss: 0.6664 - val_accuracy: 0.8598\n",
            "Epoch 39/50\n",
            "33/33 [==============================] - 0s 15ms/step - loss: 0.0093 - accuracy: 1.0000 - val_loss: 0.6782 - val_accuracy: 0.8595\n",
            "Epoch 40/50\n",
            "33/33 [==============================] - 0s 15ms/step - loss: 0.0088 - accuracy: 1.0000 - val_loss: 0.6887 - val_accuracy: 0.8594\n",
            "Epoch 41/50\n",
            "33/33 [==============================] - 1s 16ms/step - loss: 0.0083 - accuracy: 1.0000 - val_loss: 0.6996 - val_accuracy: 0.8590\n",
            "Epoch 42/50\n",
            "33/33 [==============================] - 0s 15ms/step - loss: 0.0078 - accuracy: 1.0000 - val_loss: 0.7096 - val_accuracy: 0.8582\n",
            "Epoch 43/50\n",
            "33/33 [==============================] - 0s 15ms/step - loss: 0.0073 - accuracy: 1.0000 - val_loss: 0.7204 - val_accuracy: 0.8587\n",
            "Epoch 44/50\n",
            "33/33 [==============================] - 1s 15ms/step - loss: 0.0069 - accuracy: 1.0000 - val_loss: 0.7300 - val_accuracy: 0.8583\n",
            "Epoch 45/50\n",
            "33/33 [==============================] - 0s 15ms/step - loss: 0.0065 - accuracy: 1.0000 - val_loss: 0.7394 - val_accuracy: 0.8574\n",
            "Epoch 46/50\n",
            "33/33 [==============================] - 0s 15ms/step - loss: 0.0062 - accuracy: 1.0000 - val_loss: 0.7491 - val_accuracy: 0.8570\n",
            "Epoch 47/50\n",
            "33/33 [==============================] - 0s 15ms/step - loss: 0.0059 - accuracy: 1.0000 - val_loss: 0.7586 - val_accuracy: 0.8578\n",
            "Epoch 48/50\n",
            "33/33 [==============================] - 0s 15ms/step - loss: 0.0056 - accuracy: 1.0000 - val_loss: 0.7688 - val_accuracy: 0.8569\n",
            "Epoch 49/50\n",
            "33/33 [==============================] - 0s 15ms/step - loss: 0.0053 - accuracy: 1.0000 - val_loss: 0.7774 - val_accuracy: 0.8570\n",
            "Epoch 50/50\n",
            "33/33 [==============================] - 0s 15ms/step - loss: 0.0051 - accuracy: 1.0000 - val_loss: 0.7867 - val_accuracy: 0.8565\n"
          ]
        },
        {
          "output_type": "execute_result",
          "data": {
            "text/plain": [
              "1402"
            ]
          },
          "metadata": {},
          "execution_count": 10
        }
      ]
    },
    {
      "cell_type": "markdown",
      "source": [
        "## Plot accuracy/loss results throughout training cycles\n",
        "- After more than 5 cycles, the model begins to **overfit**\n",
        "- After ~30 cycles, the model has perfectly memorised the training data, but has lost performance on unseen data\n"
      ],
      "metadata": {
        "id": "8kNHa_nmkCAH"
      }
    },
    {
      "cell_type": "code",
      "source": [
        "##plot \n",
        "plt.rcParams['figure.figsize'] = [12, 6]\n",
        "train_stats = train_history_full.history\n",
        "train_acc = train_stats['accuracy']\n",
        "val_acc = train_stats['val_accuracy']\n",
        "train_loss = train_stats['loss']\n",
        "val_loss = train_stats['val_loss']\n",
        "epochs = range(1, len(val_acc)+1)\n",
        "\n",
        "\n",
        "axs = (plt.figure(constrained_layout=True)\n",
        "       .subplots(1, 2, sharex=True, sharey=False))\n",
        "\n",
        "axs[0].plot(epochs, train_acc, 'ro',\n",
        "         label='Training Accuracy',)\n",
        "axs[0].plot(epochs, val_acc, 'b',\n",
        "         label = 'Validation Accuracy')\n",
        "axs[0].set_xlabel('Epochs (#Training Cycles)')\n",
        "axs[0].set_ylabel('accuracy')\n",
        "axs[0].legend()\n",
        "\n",
        "\n",
        "axs[1].plot(epochs, train_loss, 'ro',\n",
        "         label='Training Loss',)\n",
        "axs[1].plot(epochs, val_loss, 'b',\n",
        "         label = 'Validation Loss')\n",
        "axs[1].set_xlabel('Epochs (#Training Cycles)')\n",
        "axs[1].set_ylabel('Loss')\n",
        "axs[1].legend()\n",
        "plt.show()\n"
      ],
      "metadata": {
        "colab": {
          "base_uri": "https://localhost:8080/",
          "height": 457
        },
        "id": "nPhR4h8aTHoG",
        "outputId": "803a437d-02d3-4d8f-d0d5-dcc2d3486210"
      },
      "execution_count": 11,
      "outputs": [
        {
          "output_type": "display_data",
          "data": {
            "text/plain": [
              "<Figure size 864x432 with 2 Axes>"
            ],
            "image/png": "[encoded data removed]"
          },
          "metadata": {
            "needs_background": "light"
          }
        }
      ]
    },
    {
      "cell_type": "markdown",
      "source": [
        "## Re-train model with identical paramaters, but fewer training cycles (to avoid overfitting)"
      ],
      "metadata": {
        "id": "vOkFp40gp1nB"
      }
    },
    {
      "cell_type": "code",
      "source": [
        "review_clf2 = keras.Sequential([\n",
        "    layers.Dense(layer_size, activation='relu'),\n",
        "    #layers.Dense(layer_size-2, activation='relu'),\n",
        "    layers.Dense(1, activation='sigmoid'),\n",
        "])\n",
        "\n",
        "review_clf2.compile(\n",
        "    optimizer='adam',\n",
        "    loss = 'binary_crossentropy',\n",
        "    metrics =['accuracy']\n",
        ")\n",
        "\n",
        "#find epoch which achieved best validation accuracy in previous model\n",
        "\n",
        "best_acc = [i for i, x in enumerate(val_acc == np.max(val_acc)) if x] \n",
        "best_epoch = best_acc[0]+1\n",
        "\n",
        "review_clf2.fit(partial_x_train, partial_y_train,\n",
        "                epochs =best_epoch, batch_size = 500, \n",
        "                validation_data =(x_val, y_val))\n",
        "gc.collect()"
      ],
      "metadata": {
        "colab": {
          "base_uri": "https://localhost:8080/"
        },
        "id": "eK5zYwkDhr2m",
        "outputId": "207bb29b-d8cd-4992-e229-0fc11c2774aa"
      },
      "execution_count": 12,
      "outputs": [
        {
          "output_type": "stream",
          "name": "stdout",
          "text": [
            "Epoch 1/5\n",
            "33/33 [==============================] - 1s 29ms/step - loss: 0.5620 - accuracy: 0.7748 - val_loss: 0.4324 - val_accuracy: 0.8543\n",
            "Epoch 2/5\n",
            "33/33 [==============================] - 0s 15ms/step - loss: 0.3531 - accuracy: 0.8886 - val_loss: 0.3352 - val_accuracy: 0.8768\n",
            "Epoch 3/5\n",
            "33/33 [==============================] - 1s 15ms/step - loss: 0.2678 - accuracy: 0.9149 - val_loss: 0.3004 - val_accuracy: 0.8853\n",
            "Epoch 4/5\n",
            "33/33 [==============================] - 0s 15ms/step - loss: 0.2217 - accuracy: 0.9294 - val_loss: 0.2837 - val_accuracy: 0.8888\n",
            "Epoch 5/5\n",
            "33/33 [==============================] - 0s 15ms/step - loss: 0.1905 - accuracy: 0.9394 - val_loss: 0.2771 - val_accuracy: 0.8891\n"
          ]
        },
        {
          "output_type": "execute_result",
          "data": {
            "text/plain": [
              "1440"
            ]
          },
          "metadata": {},
          "execution_count": 12
        }
      ]
    },
    {
      "cell_type": "markdown",
      "source": [
        "# Assess model accuracy on **test data**\n",
        "- we achieve 88.3% accuracy (not too bad) \n",
        "- we can see that the model which undergoes many training cycles (epochs) has become overfit (only 84% accuracy)"
      ],
      "metadata": {
        "id": "BK5MhT9IY2rJ"
      }
    },
    {
      "cell_type": "code",
      "source": [
        "gc.collect()\n",
        "model_results = review_clf.evaluate(x_test, y_test)\n",
        "loss = model_results[0]\n",
        "accuracy = model_results[1]*100\n",
        "print(f\"Neural Network IMDB review classifier trained on {n_words} unique words with 30 epochs. Achieving {accuracy:.1f}% accuracy and a loss of {loss:.2f}\")\n",
        "\n",
        "gc.collect()\n",
        "model_results = review_clf2.evaluate(x_test, y_test)\n",
        "loss2 = model_results[0]\n",
        "accuracy2 = model_results[1]*100\n",
        "print(f\"Neural Network IMDB review classifier trained on {n_words} unique words with 5 epochs. Achieving {accuracy2:.1f}% accuracy and a loss of {loss2:.2f}\")\n",
        "\n"
      ],
      "metadata": {
        "colab": {
          "base_uri": "https://localhost:8080/"
        },
        "id": "c7fVFz94NW1p",
        "outputId": "506efff7-f1f1-4f71-9d95-f4cdab761f02"
      },
      "execution_count": 13,
      "outputs": [
        {
          "output_type": "stream",
          "name": "stdout",
          "text": [
            "782/782 [==============================] - 2s 3ms/step - loss: 0.8347 - accuracy: 0.8465\n",
            "Neural Network IMDB review classifier trained on 8000 unique words with 30 epochs. Achieving 84.6% accuracy and a loss of 0.83\n",
            "782/782 [==============================] - 2s 3ms/step - loss: 0.2925 - accuracy: 0.8833\n",
            "Neural Network IMDB review classifier trained on 8000 unique words with 5 epochs. Achieving 88.3% accuracy and a loss of 0.29\n"
          ]
        }
      ]
    },
    {
      "cell_type": "markdown",
      "source": [
        "### assess the models prediction confidence"
      ],
      "metadata": {
        "id": "RKrCAO-mbKsu"
      }
    },
    {
      "cell_type": "code",
      "source": [
        "gc.collect()\n",
        "y_pred = review_clf2.predict(x_test)\n",
        "\n",
        "\n",
        "n, bins, patches = plt.hist(y_pred, 100, density=False, facecolor='g', alpha=0.75)\n",
        "\n",
        "\n",
        "plt.xlabel('Probability of positive review')\n",
        "plt.ylabel('#Reviews')\n",
        "plt.title('IMDB review classifier prediction confidence')\n",
        "plt.grid(True)\n",
        "plt.show()"
      ],
      "metadata": {
        "colab": {
          "base_uri": "https://localhost:8080/",
          "height": 404
        },
        "id": "ZV2lW2qpZiQo",
        "outputId": "31527215-208c-46d3-8ff3-59983f4d3ed0"
      },
      "execution_count": 14,
      "outputs": [
        {
          "output_type": "display_data",
          "data": {
            "text/plain": [
              "<Figure size 864x432 with 1 Axes>"
            ],
            "image/png": "[encoded data removed]"
          },
          "metadata": {
            "needs_background": "light"
          }
        }
      ]
    },
    {
      "cell_type": "markdown",
      "source": [
        "## Find the reviews that the model predicts to be the most negative and the most positive"
      ],
      "metadata": {
        "id": "MHWLwyAssN5G"
      }
    },
    {
      "cell_type": "code",
      "source": [
        "\n",
        "test = y_pred == np.min(y_pred)\n",
        "ind = [i for i, x in enumerate(test) if x]\n",
        "most_negative_review = test_data[ind[0]]\n",
        "\" \".join([index2word.get(i -3, '?') for i in most_negative_review])"
      ],
      "metadata": {
        "colab": {
          "base_uri": "https://localhost:8080/",
          "height": 105
        },
        "id": "Z_qAo93Dagb-",
        "outputId": "69b9e3e8-1d35-4da2-9bee-05eb56021d0b"
      },
      "execution_count": 15,
      "outputs": [
        {
          "output_type": "execute_result",
          "data": {
            "text/plain": [
              "\"? ? or creatures from the ? as i'm positive it's more ? known as filmed under as the title creatures from the ? appears over a moving image in the same ? type as the rest of the credits starts with five 20 something kids mike clay rogers his girlfriend margaret sharon sisters julie ann wolf dorothy ? an annoying idiot named bobby michael ? whom decide to all fit into a small rubber boat head out to sea don't ask why as i don't know oh the complete idiot bobby left the ? behind never thought to tell anyone so it comes as no great surprise that they end up stranded out at sea without any ? for the ? to make matters worse they become trapped in a thunder storm discover a dead body floating in the water shortly after their luck seems to change when they come across a ? potential safety in a flash everyone ? the ? begin to explore first of all they find a scientific lab with various fish ? computer equipment then down below they find fully ? ? ? they find a ? ? ? who appears mad can't talk they eat fish from the ? which makes dorothy ? up green vomit ? slugs they learn that these fish are living ? of years old have been ? by ? waste dumped in the sea that they fly ? bite are generally unpleasant to be around i really can't be bothered to go on with this plot outline so i won't here's what i think br br this italian production was produced directed by under the ? al i'd hide under a different name if i made a film this bad too i think ? is quite simply one of the worst films ever there are so many things wrong with this film it's difficult to know where to start first the script by richard is total crap it makes no sense whatsoever is so slow dull it was torture for me to sit through why would five people just simply set ? for the middle of the ocean on a rubber ? barely big enough to fit them all in what were they planning on doing exactly why do we often get point of view shots from these fish creatures but they seem to be totally invisible to the characters as they are never shown on screen even though they are right next to a character how do these fish get around the boat as there is no water for them to swim in people's actions reactions to things are all wrong they constantly split up they make bizarre decisions that simply don't make any sense in the situation they find themselves in some of the dialogue is as awful as anything i've heard i could go on all day about all the plot holes ridiculous goings on but i'll run out of space if i do the fish creatures themselves look awful a mixture of rubbish rubber puppets some really bad stop motion animation at the end the scenes where they interact with the human cast also look terrible with some bad super ? i have heard a lot of comments saying that ? is gory don't make me laugh forget it there is virtually no blood or gore in ? whatsoever there are a couple of slimy scenes when bobby ? into a fish monster while having sex with julie but it's pretty brief he doesn't kill her he just sort of ? ? on her grows a couple of ? a fish head comes out of his mouth later on ? ? starts to ? some dark ? but that's it we never get to actually see what happens to her or what the ? is dorothy has a fish creature come out of her back off screen control her but again we never get to see what happens to her while margaret commits suicide a very brief shot of a plastic ? stuck to her ? easily the ? scene is when dorothy ? up that green stuff with what looks like ? slugs in it that's it only one person actually dies on screen for the most part ? is quite tame as exciting as watching paint dry i nearly fell asleep it's so boring i can't see how anybody can like this total crap i just can't the acting is awful the dubbing is awful the characters are awful i hated all of them ? is predictably crap as well with an ? budget of only ? 000 all i can say is where did the money go the sets are monotonous dull with one lab a few ? the special are bottom of the barrel stuff including the most fake looking exploding boat ever the cinematography is bland the music sucks there is zero atmosphere or tension as a whole ? like it's name sake is as low in the food chain as it could possibly be i hate ? it's awful in every single aspect of it's overlong ? minute duration do yourself a favour avoid this one at all costs unless your either a ? or ?\""
            ],
            "application/vnd.google.colaboratory.intrinsic+json": {
              "type": "string"
            }
          },
          "metadata": {},
          "execution_count": 15
        }
      ]
    },
    {
      "cell_type": "code",
      "source": [
        "\n",
        "\n",
        "test = y_pred == np.max(y_pred)\n",
        "ind = [i for i, x in enumerate(test) if x]\n",
        "most_positive_review = test_data[ind[0]]\n",
        "\" \".join([index2word.get(i -3, '?') for i in most_positive_review])"
      ],
      "metadata": {
        "colab": {
          "base_uri": "https://localhost:8080/",
          "height": 105
        },
        "id": "abv4MabNfYa_",
        "outputId": "eafc078c-82e2-4dcd-baaa-036966348c31"
      },
      "execution_count": 16,
      "outputs": [
        {
          "output_type": "execute_result",
          "data": {
            "text/plain": [
              "\"? life is ? of ? possibilities some known others a mystery and destined to remain so and what of the vast unknown the ? beyond which knowledge has no established boundaries or ? who is to say what exists or what is possible valid questions all of which are raised and explored in the story of a particular ? personal journey a strange and dramatic odyssey that defies facts and logic in k ? ' directed by and starring kevin spacey and jeff bridges in the wake of an incident in new ? central station a man named spacey is ? to a ? hospital in manhattan where he is delivered into the care of dr mark powell bridges who attempts to ? the truth about his patient who claims to be from the distant planet k ? it quickly becomes a challenge for dr powell as with his calm direct ? manner and a ? for produce he eats ? ? and all and red delicious ? are his favorites is quite convincing but it's ? job as well as his nature to be skeptical claims however remain intact and stand up even under the most intense ? and the ? eye of dr powell who finds himself in something of a ? even tells him the exact date and time that he will ? for k ? a ? return trip that allows powell but a short time to sort it all out and powell just can't seem to get his mind around the idea that he is dealing with a real alien being and it's something he is going to have to resolve quickly if he is ever going to know the truth and he has to know the truth after all is the only thing that is going to set him free in his own mind br br has created and delivered a sensitive thought provoking film that challenges the viewer by ? the mystery surrounding while forcing you to reflect upon your own concepts of what is in fact possible and as you never know for sure about until the denouement you are able to identify with powell seeing the situation from his point of view and trying to solve the ? right along with him creates an atmosphere of wonder and a real sense of being confronted with something that is truly unique as the story unfolds and you begin to realize that just may be what he says he is and in the context of the reality to which the film is ? it's an engrossing matter to try to wrap your mind around how do you react when all of the evidence is contrary to the physical limitations we've set for ourselves while at the heart of the film there is a ? depth of humanity that is evident not only in but in dr powell as well all of which makes for an extremely engaging and gripping drama br br as we've come to expect kevin spacey gives a brilliant performance as presenting his character from the inside out emotionally deep and physically convincing at the same time this is a unique individual and spacey brings him to life with care and the ability to share those moments that are particularly revealing which adds to the ? of the character and the credibility of the story itself for this film to work it is essential that we believe who and what is we do and it does spacey simply pulls it off ? it's a memorable performance from which ? a character that will stay with you for a long long time br br jeff bridges meanwhile emerges on equal ? with spacey ? making a very real person of dr powell it's a fairly straightforward role and the challenge for bridges was to take this very normal and ordinary character and make him unique in his own right which opposite the character of was no small task and again for this film to work it was necessary for bridges to rise to the occasion and with exceptional skill and being the ? professional that he is he succeeds without question bridges ? powell with an underlying complexity and is so giving in his performance that it makes the interaction between powell and vibrant and at times intense it's a ? of two of the finest actors in the business doing what they do best creating a dynamic that is alive and inspiring it's a great job by bridges who never attempts to steal the spotlight from which serves to raise the level of the film to an even higher notch br br the supporting cast includes mary ? rachel ? ? dr ajay ? dr vincent ? scott ? ? ? betty and ? williams ernie an entertaining emotionally involving film k is a ? on possibilities as well as an examination of the ever ? ? of the human condition it's a film that demands an open mind and ? those who are able to approach it on it's own terms and embrace it in the end it makes you realize just how real k ? is and it makes you appreciate journey and just how much we all share and have in common with those around us human or alien and it may just make you reflect upon your own journey where you've been and where you're going and that's the magic of the movies i rate this one 10 10 br br\""
            ],
            "application/vnd.google.colaboratory.intrinsic+json": {
              "type": "string"
            }
          },
          "metadata": {},
          "execution_count": 16
        }
      ]
    }
  ]
}