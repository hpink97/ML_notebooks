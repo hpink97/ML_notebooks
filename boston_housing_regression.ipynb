{
  "nbformat": 4,
  "nbformat_minor": 0,
  "metadata": {
    "colab": {
      "provenance": [],
      "collapsed_sections": [],
      "authorship_tag": "ABX9TyOv0z7u+h5Ttekg1n2i05Qo",
      "include_colab_link": true
    },
    "kernelspec": {
      "name": "python3",
      "display_name": "Python 3"
    },
    "language_info": {
      "name": "python"
    }
  },
  "cells": [
    {
      "cell_type": "markdown",
      "metadata": {
        "id": "view-in-github",
        "colab_type": "text"
      },
      "source": [
        "<a href=\"https://colab.research.google.com/github/hpink97/tensorflow_keras_practice/blob/main/boston_housing_regression.ipynb\" target=\"_parent\"><img src=\"https://colab.research.google.com/assets/colab-badge.svg\" alt=\"Open In Colab\"/></a>"
      ]
    },
    {
      "cell_type": "markdown",
      "source": [
        "#House Price Prediction using tensorflow"
      ],
      "metadata": {
        "id": "JTV-M4TLNDpv"
      }
    },
    {
      "cell_type": "code",
      "execution_count": 1,
      "metadata": {
        "id": "B-tHwj9hM3Jp"
      },
      "outputs": [],
      "source": [
        "import numpy as np\n",
        "import pandas as pd\n",
        "import matplotlib.pyplot as plt\n",
        "from tensorflow import keras\n",
        "from tensorflow.keras import layers\n",
        "from tensorflow.keras.datasets import boston_housing\n",
        "from sklearn.preprocessing import StandardScaler\n",
        "\n",
        "plt.rcParams['figure.figsize'] = [12, 8]"
      ]
    },
    {
      "cell_type": "code",
      "source": [
        "(train_data, train_labels), (test_data,test_labels) = (boston_housing.load_data())"
      ],
      "metadata": {
        "id": "lsC5DgoBN0nw"
      },
      "execution_count": 2,
      "outputs": []
    },
    {
      "cell_type": "markdown",
      "source": [
        "### View the training data\n",
        "- We have 12 varaibles, which all appear to be numeric\n",
        "- Numeric variables are on different scales\n",
        "- We also only have 403 test data points"
      ],
      "metadata": {
        "id": "h5mcxvjhOgcO"
      }
    },
    {
      "cell_type": "code",
      "source": [
        "test_df = pd.DataFrame(train_data)\n",
        "test_df.tail(10)"
      ],
      "metadata": {
        "colab": {
          "base_uri": "https://localhost:8080/",
          "height": 322
        },
        "id": "GLcISXzuOPWG",
        "outputId": "de447ee7-e61f-4769-a6c8-8fab677ce815"
      },
      "execution_count": 3,
      "outputs": [
        {
          "output_type": "execute_result",
          "data": {
            "text/plain": [
              "           0     1      2    3       4      5      6       7     8      9   \\\n",
              "394   8.98296   0.0  18.10  1.0  0.7700  6.212   97.4  2.1222  24.0  666.0   \n",
              "395  45.74610   0.0  18.10  0.0  0.6930  4.519  100.0  1.6582  24.0  666.0   \n",
              "396  10.67180   0.0  18.10  0.0  0.7400  6.459   94.8  1.9879  24.0  666.0   \n",
              "397   0.22969   0.0  10.59  0.0  0.4890  6.326   52.5  4.3549   4.0  277.0   \n",
              "398  18.49820   0.0  18.10  0.0  0.6680  4.138  100.0  1.1370  24.0  666.0   \n",
              "399   0.21977   0.0   6.91  0.0  0.4480  5.602   62.0  6.0877   3.0  233.0   \n",
              "400   0.16211  20.0   6.96  0.0  0.4640  6.240   16.3  4.4290   3.0  223.0   \n",
              "401   0.03466  35.0   6.06  0.0  0.4379  6.031   23.3  6.6407   1.0  304.0   \n",
              "402   2.14918   0.0  19.58  0.0  0.8710  5.709   98.5  1.6232   5.0  403.0   \n",
              "403   0.01439  60.0   2.93  0.0  0.4010  6.604   18.8  6.2196   1.0  265.0   \n",
              "\n",
              "       10      11     12  \n",
              "394  20.2  377.73  17.60  \n",
              "395  20.2   88.27  36.98  \n",
              "396  20.2   43.06  23.98  \n",
              "397  18.6  394.87  10.97  \n",
              "398  20.2  396.90  37.97  \n",
              "399  17.9  396.90  16.20  \n",
              "400  18.6  396.90   6.59  \n",
              "401  16.9  362.25   7.83  \n",
              "402  14.7  261.95  15.79  \n",
              "403  15.6  376.70   4.38  "
            ],
            "text/html": [
              "\n",
              "  <div id=\"df-5dea930f-8bd6-4ede-93e2-e340e92c3273\">\n",
              "    <div class=\"colab-df-container\">\n",
              "      <div>\n",
              "<style scoped>\n",
              "    .dataframe tbody tr th:only-of-type {\n",
              "        vertical-align: middle;\n",
              "    }\n",
              "\n",
              "    .dataframe tbody tr th {\n",
              "        vertical-align: top;\n",
              "    }\n",
              "\n",
              "    .dataframe thead th {\n",
              "        text-align: right;\n",
              "    }\n",
              "</style>\n",
              "<table border=\"1\" class=\"dataframe\">\n",
              "  <thead>\n",
              "    <tr style=\"text-align: right;\">\n",
              "      <th></th>\n",
              "      <th>0</th>\n",
              "      <th>1</th>\n",
              "      <th>2</th>\n",
              "      <th>3</th>\n",
              "      <th>4</th>\n",
              "      <th>5</th>\n",
              "      <th>6</th>\n",
              "      <th>7</th>\n",
              "      <th>8</th>\n",
              "      <th>9</th>\n",
              "      <th>10</th>\n",
              "      <th>11</th>\n",
              "      <th>12</th>\n",
              "    </tr>\n",
              "  </thead>\n",
              "  <tbody>\n",
              "    <tr>\n",
              "      <th>394</th>\n",
              "      <td>8.98296</td>\n",
              "      <td>0.0</td>\n",
              "      <td>18.10</td>\n",
              "      <td>1.0</td>\n",
              "      <td>0.7700</td>\n",
              "      <td>6.212</td>\n",
              "      <td>97.4</td>\n",
              "      <td>2.1222</td>\n",
              "      <td>24.0</td>\n",
              "      <td>666.0</td>\n",
              "      <td>20.2</td>\n",
              "      <td>377.73</td>\n",
              "      <td>17.60</td>\n",
              "    </tr>\n",
              "    <tr>\n",
              "      <th>395</th>\n",
              "      <td>45.74610</td>\n",
              "      <td>0.0</td>\n",
              "      <td>18.10</td>\n",
              "      <td>0.0</td>\n",
              "      <td>0.6930</td>\n",
              "      <td>4.519</td>\n",
              "      <td>100.0</td>\n",
              "      <td>1.6582</td>\n",
              "      <td>24.0</td>\n",
              "      <td>666.0</td>\n",
              "      <td>20.2</td>\n",
              "      <td>88.27</td>\n",
              "      <td>36.98</td>\n",
              "    </tr>\n",
              "    <tr>\n",
              "      <th>396</th>\n",
              "      <td>10.67180</td>\n",
              "      <td>0.0</td>\n",
              "      <td>18.10</td>\n",
              "      <td>0.0</td>\n",
              "      <td>0.7400</td>\n",
              "      <td>6.459</td>\n",
              "      <td>94.8</td>\n",
              "      <td>1.9879</td>\n",
              "      <td>24.0</td>\n",
              "      <td>666.0</td>\n",
              "      <td>20.2</td>\n",
              "      <td>43.06</td>\n",
              "      <td>23.98</td>\n",
              "    </tr>\n",
              "    <tr>\n",
              "      <th>397</th>\n",
              "      <td>0.22969</td>\n",
              "      <td>0.0</td>\n",
              "      <td>10.59</td>\n",
              "      <td>0.0</td>\n",
              "      <td>0.4890</td>\n",
              "      <td>6.326</td>\n",
              "      <td>52.5</td>\n",
              "      <td>4.3549</td>\n",
              "      <td>4.0</td>\n",
              "      <td>277.0</td>\n",
              "      <td>18.6</td>\n",
              "      <td>394.87</td>\n",
              "      <td>10.97</td>\n",
              "    </tr>\n",
              "    <tr>\n",
              "      <th>398</th>\n",
              "      <td>18.49820</td>\n",
              "      <td>0.0</td>\n",
              "      <td>18.10</td>\n",
              "      <td>0.0</td>\n",
              "      <td>0.6680</td>\n",
              "      <td>4.138</td>\n",
              "      <td>100.0</td>\n",
              "      <td>1.1370</td>\n",
              "      <td>24.0</td>\n",
              "      <td>666.0</td>\n",
              "      <td>20.2</td>\n",
              "      <td>396.90</td>\n",
              "      <td>37.97</td>\n",
              "    </tr>\n",
              "    <tr>\n",
              "      <th>399</th>\n",
              "      <td>0.21977</td>\n",
              "      <td>0.0</td>\n",
              "      <td>6.91</td>\n",
              "      <td>0.0</td>\n",
              "      <td>0.4480</td>\n",
              "      <td>5.602</td>\n",
              "      <td>62.0</td>\n",
              "      <td>6.0877</td>\n",
              "      <td>3.0</td>\n",
              "      <td>233.0</td>\n",
              "      <td>17.9</td>\n",
              "      <td>396.90</td>\n",
              "      <td>16.20</td>\n",
              "    </tr>\n",
              "    <tr>\n",
              "      <th>400</th>\n",
              "      <td>0.16211</td>\n",
              "      <td>20.0</td>\n",
              "      <td>6.96</td>\n",
              "      <td>0.0</td>\n",
              "      <td>0.4640</td>\n",
              "      <td>6.240</td>\n",
              "      <td>16.3</td>\n",
              "      <td>4.4290</td>\n",
              "      <td>3.0</td>\n",
              "      <td>223.0</td>\n",
              "      <td>18.6</td>\n",
              "      <td>396.90</td>\n",
              "      <td>6.59</td>\n",
              "    </tr>\n",
              "    <tr>\n",
              "      <th>401</th>\n",
              "      <td>0.03466</td>\n",
              "      <td>35.0</td>\n",
              "      <td>6.06</td>\n",
              "      <td>0.0</td>\n",
              "      <td>0.4379</td>\n",
              "      <td>6.031</td>\n",
              "      <td>23.3</td>\n",
              "      <td>6.6407</td>\n",
              "      <td>1.0</td>\n",
              "      <td>304.0</td>\n",
              "      <td>16.9</td>\n",
              "      <td>362.25</td>\n",
              "      <td>7.83</td>\n",
              "    </tr>\n",
              "    <tr>\n",
              "      <th>402</th>\n",
              "      <td>2.14918</td>\n",
              "      <td>0.0</td>\n",
              "      <td>19.58</td>\n",
              "      <td>0.0</td>\n",
              "      <td>0.8710</td>\n",
              "      <td>5.709</td>\n",
              "      <td>98.5</td>\n",
              "      <td>1.6232</td>\n",
              "      <td>5.0</td>\n",
              "      <td>403.0</td>\n",
              "      <td>14.7</td>\n",
              "      <td>261.95</td>\n",
              "      <td>15.79</td>\n",
              "    </tr>\n",
              "    <tr>\n",
              "      <th>403</th>\n",
              "      <td>0.01439</td>\n",
              "      <td>60.0</td>\n",
              "      <td>2.93</td>\n",
              "      <td>0.0</td>\n",
              "      <td>0.4010</td>\n",
              "      <td>6.604</td>\n",
              "      <td>18.8</td>\n",
              "      <td>6.2196</td>\n",
              "      <td>1.0</td>\n",
              "      <td>265.0</td>\n",
              "      <td>15.6</td>\n",
              "      <td>376.70</td>\n",
              "      <td>4.38</td>\n",
              "    </tr>\n",
              "  </tbody>\n",
              "</table>\n",
              "</div>\n",
              "      <button class=\"colab-df-convert\" onclick=\"convertToInteractive('df-5dea930f-8bd6-4ede-93e2-e340e92c3273')\"\n",
              "              title=\"Convert this dataframe to an interactive table.\"\n",
              "              style=\"display:none;\">\n",
              "        \n",
              "  <svg xmlns=\"http://www.w3.org/2000/svg\" height=\"24px\"viewBox=\"0 0 24 24\"\n",
              "       width=\"24px\">\n",
              "    <path d=\"M0 0h24v24H0V0z\" fill=\"none\"/>\n",
              "    <path d=\"M18.56 5.44l.94 2.06.94-2.06 2.06-.94-2.06-.94-.94-2.06-.94 2.06-2.06.94zm-11 1L8.5 8.5l.94-2.06 2.06-.94-2.06-.94L8.5 2.5l-.94 2.06-2.06.94zm10 10l.94 2.06.94-2.06 2.06-.94-2.06-.94-.94-2.06-.94 2.06-2.06.94z\"/><path d=\"M17.41 7.96l-1.37-1.37c-.4-.4-.92-.59-1.43-.59-.52 0-1.04.2-1.43.59L10.3 9.45l-7.72 7.72c-.78.78-.78 2.05 0 2.83L4 21.41c.39.39.9.59 1.41.59.51 0 1.02-.2 1.41-.59l7.78-7.78 2.81-2.81c.8-.78.8-2.07 0-2.86zM5.41 20L4 18.59l7.72-7.72 1.47 1.35L5.41 20z\"/>\n",
              "  </svg>\n",
              "      </button>\n",
              "      \n",
              "  <style>\n",
              "    .colab-df-container {\n",
              "      display:flex;\n",
              "      flex-wrap:wrap;\n",
              "      gap: 12px;\n",
              "    }\n",
              "\n",
              "    .colab-df-convert {\n",
              "      background-color: #E8F0FE;\n",
              "      border: none;\n",
              "      border-radius: 50%;\n",
              "      cursor: pointer;\n",
              "      display: none;\n",
              "      fill: #1967D2;\n",
              "      height: 32px;\n",
              "      padding: 0 0 0 0;\n",
              "      width: 32px;\n",
              "    }\n",
              "\n",
              "    .colab-df-convert:hover {\n",
              "      background-color: #E2EBFA;\n",
              "      box-shadow: 0px 1px 2px rgba(60, 64, 67, 0.3), 0px 1px 3px 1px rgba(60, 64, 67, 0.15);\n",
              "      fill: #174EA6;\n",
              "    }\n",
              "\n",
              "    [theme=dark] .colab-df-convert {\n",
              "      background-color: #3B4455;\n",
              "      fill: #D2E3FC;\n",
              "    }\n",
              "\n",
              "    [theme=dark] .colab-df-convert:hover {\n",
              "      background-color: #434B5C;\n",
              "      box-shadow: 0px 1px 3px 1px rgba(0, 0, 0, 0.15);\n",
              "      filter: drop-shadow(0px 1px 2px rgba(0, 0, 0, 0.3));\n",
              "      fill: #FFFFFF;\n",
              "    }\n",
              "  </style>\n",
              "\n",
              "      <script>\n",
              "        const buttonEl =\n",
              "          document.querySelector('#df-5dea930f-8bd6-4ede-93e2-e340e92c3273 button.colab-df-convert');\n",
              "        buttonEl.style.display =\n",
              "          google.colab.kernel.accessAllowed ? 'block' : 'none';\n",
              "\n",
              "        async function convertToInteractive(key) {\n",
              "          const element = document.querySelector('#df-5dea930f-8bd6-4ede-93e2-e340e92c3273');\n",
              "          const dataTable =\n",
              "            await google.colab.kernel.invokeFunction('convertToInteractive',\n",
              "                                                     [key], {});\n",
              "          if (!dataTable) return;\n",
              "\n",
              "          const docLinkHtml = 'Like what you see? Visit the ' +\n",
              "            '<a target=\"_blank\" href=https://colab.research.google.com/notebooks/data_table.ipynb>data table notebook</a>'\n",
              "            + ' to learn more about interactive tables.';\n",
              "          element.innerHTML = '';\n",
              "          dataTable['output_type'] = 'display_data';\n",
              "          await google.colab.output.renderOutput(dataTable, element);\n",
              "          const docLink = document.createElement('div');\n",
              "          docLink.innerHTML = docLinkHtml;\n",
              "          element.appendChild(docLink);\n",
              "        }\n",
              "      </script>\n",
              "    </div>\n",
              "  </div>\n",
              "  "
            ]
          },
          "metadata": {},
          "execution_count": 3
        }
      ]
    },
    {
      "cell_type": "code",
      "source": [
        "## scale data\n",
        "transformer = StandardScaler().fit(train_data)\n",
        "scaled_train_data = transformer.transform(train_data)\n",
        "scaled_test_data = transformer.transform(test_data)\n",
        "pd.DataFrame(scaled_train_data)"
      ],
      "metadata": {
        "colab": {
          "base_uri": "https://localhost:8080/",
          "height": 424
        },
        "id": "ergHQ2AOPuq_",
        "outputId": "cb10469e-a769-4e2d-804e-34e9d07c672b"
      },
      "execution_count": 4,
      "outputs": [
        {
          "output_type": "execute_result",
          "data": {
            "text/plain": [
              "           0         1         2         3         4         5         6   \\\n",
              "0   -0.272246 -0.483615 -0.435762 -0.256833 -0.165227 -0.176443  0.813062   \n",
              "1   -0.403427  2.991784 -1.333912 -0.256833 -1.215182  1.894346 -1.910361   \n",
              "2    0.124940 -0.483615  1.028326 -0.256833  0.628642 -1.829688  1.110488   \n",
              "3   -0.401494 -0.483615 -0.869402 -0.256833 -0.361560 -0.324558 -1.236672   \n",
              "4   -0.005634 -0.483615  1.028326 -0.256833  1.328612  0.153642  0.694808   \n",
              "..        ...       ...       ...       ...       ...       ...       ...   \n",
              "399 -0.381973 -0.483615 -0.616568 -0.256833 -0.933487 -0.938177 -0.251223   \n",
              "400 -0.388221  0.358906 -0.609218 -0.256833 -0.796907 -0.038202 -1.888860   \n",
              "401 -0.402030  0.990797 -0.741515 -0.256833 -1.019702 -0.333021 -1.638018   \n",
              "402 -0.172920 -0.483615  1.245881 -0.256833  2.677335 -0.787241  1.056737   \n",
              "403 -0.404226  2.043948 -1.201615 -0.256833 -1.334689  0.475263 -1.799274   \n",
              "\n",
              "           7         8         9         10        11        12  \n",
              "0    0.116698 -0.626249 -0.595170  1.148500  0.448077  0.825220  \n",
              "1    1.247585 -0.856463 -0.348433 -1.718189  0.431906 -1.329202  \n",
              "2   -1.187439  1.675886  1.565287  0.784476  0.220617 -1.308500  \n",
              "3    1.107180 -0.511142 -1.094663  0.784476  0.448077 -0.652926  \n",
              "4   -0.578572  1.675886  1.565287  0.784476  0.389882  0.263497  \n",
              "..        ...       ...       ...       ...       ...       ...  \n",
              "399  1.157680 -0.741356 -1.040501 -0.262093  0.448077  0.477421  \n",
              "400  0.339660 -0.741356 -1.100681  0.056428  0.448077 -0.848908  \n",
              "401  1.430403 -0.971569 -0.613224 -0.717123  0.079439 -0.677769  \n",
              "402 -1.044075 -0.511142 -0.017443 -1.718189 -0.987644  0.420835  \n",
              "403  1.222729 -0.971569 -0.847926 -1.308662  0.233171 -1.153923  \n",
              "\n",
              "[404 rows x 13 columns]"
            ],
            "text/html": [
              "\n",
              "  <div id=\"df-2f8e9d40-4b6a-4056-8ef1-4bed61592ac9\">\n",
              "    <div class=\"colab-df-container\">\n",
              "      <div>\n",
              "<style scoped>\n",
              "    .dataframe tbody tr th:only-of-type {\n",
              "        vertical-align: middle;\n",
              "    }\n",
              "\n",
              "    .dataframe tbody tr th {\n",
              "        vertical-align: top;\n",
              "    }\n",
              "\n",
              "    .dataframe thead th {\n",
              "        text-align: right;\n",
              "    }\n",
              "</style>\n",
              "<table border=\"1\" class=\"dataframe\">\n",
              "  <thead>\n",
              "    <tr style=\"text-align: right;\">\n",
              "      <th></th>\n",
              "      <th>0</th>\n",
              "      <th>1</th>\n",
              "      <th>2</th>\n",
              "      <th>3</th>\n",
              "      <th>4</th>\n",
              "      <th>5</th>\n",
              "      <th>6</th>\n",
              "      <th>7</th>\n",
              "      <th>8</th>\n",
              "      <th>9</th>\n",
              "      <th>10</th>\n",
              "      <th>11</th>\n",
              "      <th>12</th>\n",
              "    </tr>\n",
              "  </thead>\n",
              "  <tbody>\n",
              "    <tr>\n",
              "      <th>0</th>\n",
              "      <td>-0.272246</td>\n",
              "      <td>-0.483615</td>\n",
              "      <td>-0.435762</td>\n",
              "      <td>-0.256833</td>\n",
              "      <td>-0.165227</td>\n",
              "      <td>-0.176443</td>\n",
              "      <td>0.813062</td>\n",
              "      <td>0.116698</td>\n",
              "      <td>-0.626249</td>\n",
              "      <td>-0.595170</td>\n",
              "      <td>1.148500</td>\n",
              "      <td>0.448077</td>\n",
              "      <td>0.825220</td>\n",
              "    </tr>\n",
              "    <tr>\n",
              "      <th>1</th>\n",
              "      <td>-0.403427</td>\n",
              "      <td>2.991784</td>\n",
              "      <td>-1.333912</td>\n",
              "      <td>-0.256833</td>\n",
              "      <td>-1.215182</td>\n",
              "      <td>1.894346</td>\n",
              "      <td>-1.910361</td>\n",
              "      <td>1.247585</td>\n",
              "      <td>-0.856463</td>\n",
              "      <td>-0.348433</td>\n",
              "      <td>-1.718189</td>\n",
              "      <td>0.431906</td>\n",
              "      <td>-1.329202</td>\n",
              "    </tr>\n",
              "    <tr>\n",
              "      <th>2</th>\n",
              "      <td>0.124940</td>\n",
              "      <td>-0.483615</td>\n",
              "      <td>1.028326</td>\n",
              "      <td>-0.256833</td>\n",
              "      <td>0.628642</td>\n",
              "      <td>-1.829688</td>\n",
              "      <td>1.110488</td>\n",
              "      <td>-1.187439</td>\n",
              "      <td>1.675886</td>\n",
              "      <td>1.565287</td>\n",
              "      <td>0.784476</td>\n",
              "      <td>0.220617</td>\n",
              "      <td>-1.308500</td>\n",
              "    </tr>\n",
              "    <tr>\n",
              "      <th>3</th>\n",
              "      <td>-0.401494</td>\n",
              "      <td>-0.483615</td>\n",
              "      <td>-0.869402</td>\n",
              "      <td>-0.256833</td>\n",
              "      <td>-0.361560</td>\n",
              "      <td>-0.324558</td>\n",
              "      <td>-1.236672</td>\n",
              "      <td>1.107180</td>\n",
              "      <td>-0.511142</td>\n",
              "      <td>-1.094663</td>\n",
              "      <td>0.784476</td>\n",
              "      <td>0.448077</td>\n",
              "      <td>-0.652926</td>\n",
              "    </tr>\n",
              "    <tr>\n",
              "      <th>4</th>\n",
              "      <td>-0.005634</td>\n",
              "      <td>-0.483615</td>\n",
              "      <td>1.028326</td>\n",
              "      <td>-0.256833</td>\n",
              "      <td>1.328612</td>\n",
              "      <td>0.153642</td>\n",
              "      <td>0.694808</td>\n",
              "      <td>-0.578572</td>\n",
              "      <td>1.675886</td>\n",
              "      <td>1.565287</td>\n",
              "      <td>0.784476</td>\n",
              "      <td>0.389882</td>\n",
              "      <td>0.263497</td>\n",
              "    </tr>\n",
              "    <tr>\n",
              "      <th>...</th>\n",
              "      <td>...</td>\n",
              "      <td>...</td>\n",
              "      <td>...</td>\n",
              "      <td>...</td>\n",
              "      <td>...</td>\n",
              "      <td>...</td>\n",
              "      <td>...</td>\n",
              "      <td>...</td>\n",
              "      <td>...</td>\n",
              "      <td>...</td>\n",
              "      <td>...</td>\n",
              "      <td>...</td>\n",
              "      <td>...</td>\n",
              "    </tr>\n",
              "    <tr>\n",
              "      <th>399</th>\n",
              "      <td>-0.381973</td>\n",
              "      <td>-0.483615</td>\n",
              "      <td>-0.616568</td>\n",
              "      <td>-0.256833</td>\n",
              "      <td>-0.933487</td>\n",
              "      <td>-0.938177</td>\n",
              "      <td>-0.251223</td>\n",
              "      <td>1.157680</td>\n",
              "      <td>-0.741356</td>\n",
              "      <td>-1.040501</td>\n",
              "      <td>-0.262093</td>\n",
              "      <td>0.448077</td>\n",
              "      <td>0.477421</td>\n",
              "    </tr>\n",
              "    <tr>\n",
              "      <th>400</th>\n",
              "      <td>-0.388221</td>\n",
              "      <td>0.358906</td>\n",
              "      <td>-0.609218</td>\n",
              "      <td>-0.256833</td>\n",
              "      <td>-0.796907</td>\n",
              "      <td>-0.038202</td>\n",
              "      <td>-1.888860</td>\n",
              "      <td>0.339660</td>\n",
              "      <td>-0.741356</td>\n",
              "      <td>-1.100681</td>\n",
              "      <td>0.056428</td>\n",
              "      <td>0.448077</td>\n",
              "      <td>-0.848908</td>\n",
              "    </tr>\n",
              "    <tr>\n",
              "      <th>401</th>\n",
              "      <td>-0.402030</td>\n",
              "      <td>0.990797</td>\n",
              "      <td>-0.741515</td>\n",
              "      <td>-0.256833</td>\n",
              "      <td>-1.019702</td>\n",
              "      <td>-0.333021</td>\n",
              "      <td>-1.638018</td>\n",
              "      <td>1.430403</td>\n",
              "      <td>-0.971569</td>\n",
              "      <td>-0.613224</td>\n",
              "      <td>-0.717123</td>\n",
              "      <td>0.079439</td>\n",
              "      <td>-0.677769</td>\n",
              "    </tr>\n",
              "    <tr>\n",
              "      <th>402</th>\n",
              "      <td>-0.172920</td>\n",
              "      <td>-0.483615</td>\n",
              "      <td>1.245881</td>\n",
              "      <td>-0.256833</td>\n",
              "      <td>2.677335</td>\n",
              "      <td>-0.787241</td>\n",
              "      <td>1.056737</td>\n",
              "      <td>-1.044075</td>\n",
              "      <td>-0.511142</td>\n",
              "      <td>-0.017443</td>\n",
              "      <td>-1.718189</td>\n",
              "      <td>-0.987644</td>\n",
              "      <td>0.420835</td>\n",
              "    </tr>\n",
              "    <tr>\n",
              "      <th>403</th>\n",
              "      <td>-0.404226</td>\n",
              "      <td>2.043948</td>\n",
              "      <td>-1.201615</td>\n",
              "      <td>-0.256833</td>\n",
              "      <td>-1.334689</td>\n",
              "      <td>0.475263</td>\n",
              "      <td>-1.799274</td>\n",
              "      <td>1.222729</td>\n",
              "      <td>-0.971569</td>\n",
              "      <td>-0.847926</td>\n",
              "      <td>-1.308662</td>\n",
              "      <td>0.233171</td>\n",
              "      <td>-1.153923</td>\n",
              "    </tr>\n",
              "  </tbody>\n",
              "</table>\n",
              "<p>404 rows × 13 columns</p>\n",
              "</div>\n",
              "      <button class=\"colab-df-convert\" onclick=\"convertToInteractive('df-2f8e9d40-4b6a-4056-8ef1-4bed61592ac9')\"\n",
              "              title=\"Convert this dataframe to an interactive table.\"\n",
              "              style=\"display:none;\">\n",
              "        \n",
              "  <svg xmlns=\"http://www.w3.org/2000/svg\" height=\"24px\"viewBox=\"0 0 24 24\"\n",
              "       width=\"24px\">\n",
              "    <path d=\"M0 0h24v24H0V0z\" fill=\"none\"/>\n",
              "    <path d=\"M18.56 5.44l.94 2.06.94-2.06 2.06-.94-2.06-.94-.94-2.06-.94 2.06-2.06.94zm-11 1L8.5 8.5l.94-2.06 2.06-.94-2.06-.94L8.5 2.5l-.94 2.06-2.06.94zm10 10l.94 2.06.94-2.06 2.06-.94-2.06-.94-.94-2.06-.94 2.06-2.06.94z\"/><path d=\"M17.41 7.96l-1.37-1.37c-.4-.4-.92-.59-1.43-.59-.52 0-1.04.2-1.43.59L10.3 9.45l-7.72 7.72c-.78.78-.78 2.05 0 2.83L4 21.41c.39.39.9.59 1.41.59.51 0 1.02-.2 1.41-.59l7.78-7.78 2.81-2.81c.8-.78.8-2.07 0-2.86zM5.41 20L4 18.59l7.72-7.72 1.47 1.35L5.41 20z\"/>\n",
              "  </svg>\n",
              "      </button>\n",
              "      \n",
              "  <style>\n",
              "    .colab-df-container {\n",
              "      display:flex;\n",
              "      flex-wrap:wrap;\n",
              "      gap: 12px;\n",
              "    }\n",
              "\n",
              "    .colab-df-convert {\n",
              "      background-color: #E8F0FE;\n",
              "      border: none;\n",
              "      border-radius: 50%;\n",
              "      cursor: pointer;\n",
              "      display: none;\n",
              "      fill: #1967D2;\n",
              "      height: 32px;\n",
              "      padding: 0 0 0 0;\n",
              "      width: 32px;\n",
              "    }\n",
              "\n",
              "    .colab-df-convert:hover {\n",
              "      background-color: #E2EBFA;\n",
              "      box-shadow: 0px 1px 2px rgba(60, 64, 67, 0.3), 0px 1px 3px 1px rgba(60, 64, 67, 0.15);\n",
              "      fill: #174EA6;\n",
              "    }\n",
              "\n",
              "    [theme=dark] .colab-df-convert {\n",
              "      background-color: #3B4455;\n",
              "      fill: #D2E3FC;\n",
              "    }\n",
              "\n",
              "    [theme=dark] .colab-df-convert:hover {\n",
              "      background-color: #434B5C;\n",
              "      box-shadow: 0px 1px 3px 1px rgba(0, 0, 0, 0.15);\n",
              "      filter: drop-shadow(0px 1px 2px rgba(0, 0, 0, 0.3));\n",
              "      fill: #FFFFFF;\n",
              "    }\n",
              "  </style>\n",
              "\n",
              "      <script>\n",
              "        const buttonEl =\n",
              "          document.querySelector('#df-2f8e9d40-4b6a-4056-8ef1-4bed61592ac9 button.colab-df-convert');\n",
              "        buttonEl.style.display =\n",
              "          google.colab.kernel.accessAllowed ? 'block' : 'none';\n",
              "\n",
              "        async function convertToInteractive(key) {\n",
              "          const element = document.querySelector('#df-2f8e9d40-4b6a-4056-8ef1-4bed61592ac9');\n",
              "          const dataTable =\n",
              "            await google.colab.kernel.invokeFunction('convertToInteractive',\n",
              "                                                     [key], {});\n",
              "          if (!dataTable) return;\n",
              "\n",
              "          const docLinkHtml = 'Like what you see? Visit the ' +\n",
              "            '<a target=\"_blank\" href=https://colab.research.google.com/notebooks/data_table.ipynb>data table notebook</a>'\n",
              "            + ' to learn more about interactive tables.';\n",
              "          element.innerHTML = '';\n",
              "          dataTable['output_type'] = 'display_data';\n",
              "          await google.colab.output.renderOutput(dataTable, element);\n",
              "          const docLink = document.createElement('div');\n",
              "          docLink.innerHTML = docLinkHtml;\n",
              "          element.appendChild(docLink);\n",
              "        }\n",
              "      </script>\n",
              "    </div>\n",
              "  </div>\n",
              "  "
            ]
          },
          "metadata": {},
          "execution_count": 4
        }
      ]
    },
    {
      "cell_type": "code",
      "source": [
        "## means for each feature are very close to zero\n",
        "scaled_train_data.mean(axis=0)"
      ],
      "metadata": {
        "colab": {
          "base_uri": "https://localhost:8080/"
        },
        "id": "-09PKM6uQkfX",
        "outputId": "586b93c2-fada-4af5-d520-5acf3ee9b78a"
      },
      "execution_count": 5,
      "outputs": [
        {
          "output_type": "execute_result",
          "data": {
            "text/plain": [
              "array([-1.01541438e-16,  1.09923072e-17,  1.74337992e-15, -1.26686340e-16,\n",
              "       -5.25377321e-15,  6.41414864e-15,  2.98441140e-16,  4.94653823e-16,\n",
              "        1.12671149e-17, -1.98136337e-16,  2.36686358e-14,  5.95679996e-15,\n",
              "        6.13920356e-16])"
            ]
          },
          "metadata": {},
          "execution_count": 5
        }
      ]
    },
    {
      "cell_type": "code",
      "source": [
        "#standard deviation for all features are 1\n",
        "scaled_train_data.std(axis=0)"
      ],
      "metadata": {
        "colab": {
          "base_uri": "https://localhost:8080/"
        },
        "id": "CDoQ4ybcRTZZ",
        "outputId": "ceb27961-8cec-4af4-9461-e7efb68f551a"
      },
      "execution_count": 6,
      "outputs": [
        {
          "output_type": "execute_result",
          "data": {
            "text/plain": [
              "array([1., 1., 1., 1., 1., 1., 1., 1., 1., 1., 1., 1., 1.])"
            ]
          },
          "metadata": {},
          "execution_count": 6
        }
      ]
    },
    {
      "cell_type": "markdown",
      "source": [
        "## Define a function to build and compile a sequential model of dense layers of variable size\n",
        "- will allow experimentation with neural net architeture later on"
      ],
      "metadata": {
        "id": "QaGgGcUm0rxq"
      }
    },
    {
      "cell_type": "code",
      "source": [
        "def build_model(hidden_layer_sizes, output_layer_size):\n",
        "  model = keras.Sequential()\n",
        "  for n in hidden_layer_sizes:\n",
        "    model.add(layers.Dense(n, activation='relu'))\n",
        "  model.add(layers.Dense(output_layer_size))\n",
        "  #compile model\n",
        "  model.compile(optimizer='rmsprop',loss='mse',metrics=['mae'])\n",
        "\n",
        "  return(model)\n",
        "\n",
        "\n"
      ],
      "metadata": {
        "id": "shR2zsvNReva"
      },
      "execution_count": 7,
      "outputs": []
    },
    {
      "cell_type": "markdown",
      "source": [
        "### Perform K-fold cross validation (as few datapoints)"
      ],
      "metadata": {
        "id": "Vu8f3dLAUeXC"
      }
    },
    {
      "cell_type": "code",
      "source": [
        "def train_CV(k_folds, n_epoch, model_hidden_layer_sizes):\n",
        "  #calculate the number of validation samples required\n",
        "  n_val_samples = len(train_data)//k_folds\n",
        "  #initiate empty arrays to fill with validation results\n",
        "  train_mae_history =[]\n",
        "  val_mae_history =[]\n",
        "  for k in range(k_folds):\n",
        "    print(f\"----Processing fold #{k+1} of {k_folds}----\")\n",
        "    #assign validation split for each k-fold\n",
        "    start_row = k*n_val_samples\n",
        "    end_row = (k+1)*n_val_samples\n",
        "    val_data = scaled_train_data[start_row:end_row]\n",
        "    val_targets = train_labels[start_row:end_row]\n",
        "    #set non-validation samples as training smaples\n",
        "    partial_train = np.concatenate([scaled_train_data[:start_row],\n",
        "                                  scaled_train_data[end_row:]],axis=0)\n",
        "    \n",
        "    partial_train_labels =  np.concatenate([train_labels[:start_row],\n",
        "                                                            train_labels[end_row:]],axis=0)\n",
        "    \n",
        "    #create and compile model with inpuuted archietcture\n",
        "    model = build_model(hidden_layer_sizes=model_hidden_layer_sizes,\n",
        "                        output_layer_size= 1)\n",
        "    #train model\n",
        "    training_history = model.fit(partial_train,partial_train_labels,\n",
        "                                validation_data = (val_data, val_targets),\n",
        "                                epochs=n_epoch, batch_size =24, verbose=0)\n",
        "\n",
        "\n",
        "    train_mae_history.append(training_history.history['mae'])\n",
        "    val_mae_history.append(training_history.history['val_mae'])\n",
        "  \n",
        "  #calculate the average MAE scores (across all K-folds) for each epoch\n",
        "  avg_val_mae = [np.mean([x[i] for  x in val_mae_history]) for i in range(n_epoch)]\n",
        "  avg_train_mae = [np.mean([x[i] for  x in train_mae_history]) for i in range(n_epoch)]\n",
        "  ##find epoch where best validation score (across folds) occurs\n",
        "  best_epoch = [i for i, x in enumerate(avg_val_mae == np.min(avg_val_mae)) if x]\n",
        "  best_epoch = best_epoch[0]+1\n",
        "\n",
        "  print(f\"best validation MAE was {np.min(avg_val_mae):.3f}, which was observed at epoch {best_epoch}\")\n",
        "  \n",
        "  return avg_train_mae, avg_val_mae,best_epoch\n"
      ],
      "metadata": {
        "id": "g9ClLnSHUQIp"
      },
      "execution_count": 8,
      "outputs": []
    },
    {
      "cell_type": "code",
      "source": [
        "def plot_train_val_mae(train, val,start_epoch):\n",
        "  trained_epochs = range(1, len(val)+1)\n",
        "  start_index = start_epoch-1\n",
        "  trained_epochs_trunc = trained_epochs[start_index:]\n",
        "  train_mae_trunc = train[start_index:]\n",
        "  val_mae_trunc = val[start_index:]\n",
        "\n",
        "  plt.plot(trained_epochs_trunc, train_mae_trunc, 'ro',\n",
        "          label='Training MAE',)\n",
        "  plt.plot(trained_epochs_trunc, val_mae_trunc, 'b',\n",
        "          label = 'Validation MAE')\n",
        "  plt.hlines(y=np.min(val_mae_trunc),\n",
        "             xmin=-1,\n",
        "             xmax=np.max(trained_epochs_trunc),\n",
        "             label = 'Best Validation MAE')\n",
        "  plt.xlabel('Epochs (#Training Cycles)')\n",
        "  plt.ylabel('Mean Abosulte Error (MAE)')\n",
        "  plt.legend()"
      ],
      "metadata": {
        "id": "V6LH5gQx_7el"
      },
      "execution_count": 9,
      "outputs": []
    },
    {
      "cell_type": "code",
      "source": [
        "def test_model(model_hidden_layer_sizes, n_epoch):\n",
        "  model = build_model(hidden_layer_sizes=model_hidden_layer_sizes,\n",
        "                        output_layer_size= 1)\n",
        "  \n",
        "  model.fit(scaled_train_data, train_labels, epochs=n_epoch, batch_size=16, verbose=0)\n",
        "  test_mse, test_mae = model.evaluate(scaled_test_data, test_labels,verbose=0)\n",
        "\n",
        "  print(f\"Test Mean Absolute Error (MAE) = {test_mae:.3f}\")\n"
      ],
      "metadata": {
        "id": "dXihxwJAvt36"
      },
      "execution_count": 10,
      "outputs": []
    },
    {
      "cell_type": "markdown",
      "source": [
        "### Train the first model - start off (over) simplistic with small layer sizes\n",
        "- Two dense layers, of 12 and 8 neurions respectively\n"
      ],
      "metadata": {
        "id": "V8Vpm4dDx72o"
      }
    },
    {
      "cell_type": "code",
      "source": [
        "layer_sizes_1 = [12,8]\n",
        "train_mae1, val_mae1, best_epoch1 = train_CV(k_folds=4,\n",
        "                                        n_epoch=500, \n",
        "                                        model_hidden_layer_sizes=layer_sizes_1)"
      ],
      "metadata": {
        "colab": {
          "base_uri": "https://localhost:8080/"
        },
        "id": "7zsNFTCnjW19",
        "outputId": "7831f91e-25ba-4642-d056-d18f37b64f6c"
      },
      "execution_count": 11,
      "outputs": [
        {
          "output_type": "stream",
          "name": "stdout",
          "text": [
            "----Processing fold #1 of 4----\n",
            "----Processing fold #2 of 4----\n",
            "----Processing fold #3 of 4----\n",
            "----Processing fold #4 of 4----\n",
            "best validation MAE was 2.340, which was observed at epoch 398\n"
          ]
        }
      ]
    },
    {
      "cell_type": "code",
      "source": [
        "test_model(model_hidden_layer_sizes=layer_sizes_1, n_epoch=best_epoch1)"
      ],
      "metadata": {
        "colab": {
          "base_uri": "https://localhost:8080/"
        },
        "id": "ukIsZsx4x-Ua",
        "outputId": "44129395-1e92-4071-e7fd-9b5443c7f77b"
      },
      "execution_count": 12,
      "outputs": [
        {
          "output_type": "stream",
          "name": "stdout",
          "text": [
            "Test Mean Absolute Error (MAE) = 2.635\n"
          ]
        }
      ]
    },
    {
      "cell_type": "markdown",
      "source": [
        "## Try to make a deeper more complex model to see if we can improve our results\n",
        "- Try a model with 4 dense layers\n",
        "- Our validation accuracy is considerably reduced (20% improvement)\n",
        "- However the test accuracy is actually worse...\n",
        "- Suggests model is far too complex and is over-fitting due to our small sample size"
      ],
      "metadata": {
        "id": "HqwPlnJ21bRq"
      }
    },
    {
      "cell_type": "code",
      "source": [
        "layer_sizes_2 = [512,256,128,64]\n",
        "train_mae2, val_mae2, best_epoch2 = train_CV(k_folds=4,\n",
        "                                        n_epoch=750, \n",
        "                                        model_hidden_layer_sizes=layer_sizes_2)"
      ],
      "metadata": {
        "colab": {
          "base_uri": "https://localhost:8080/"
        },
        "id": "RKONZrnQt2Eq",
        "outputId": "d3b11415-e9e3-4bc3-9b86-f0b45bcfb93d"
      },
      "execution_count": 13,
      "outputs": [
        {
          "output_type": "stream",
          "name": "stdout",
          "text": [
            "----Processing fold #1 of 4----\n",
            "----Processing fold #2 of 4----\n",
            "----Processing fold #3 of 4----\n",
            "----Processing fold #4 of 4----\n",
            "best validation MAE was 2.185, which was observed at epoch 105\n"
          ]
        }
      ]
    },
    {
      "cell_type": "code",
      "source": [
        "plot_train_val_mae(train_mae2, val_mae2,start_epoch=10)"
      ],
      "metadata": {
        "colab": {
          "base_uri": "https://localhost:8080/",
          "height": 497
        },
        "id": "VbpEw3gdBOmj",
        "outputId": "9f61496e-4223-4fb2-818d-bf62f36ffd91"
      },
      "execution_count": 14,
      "outputs": [
        {
          "output_type": "display_data",
          "data": {
            "text/plain": [
              "<Figure size 864x576 with 1 Axes>"
            ],
            "image/png": "[encoded data removed]"
          },
          "metadata": {
            "needs_background": "light"
          }
        }
      ]
    },
    {
      "cell_type": "code",
      "source": [
        "test_model(model_hidden_layer_sizes=layer_sizes_2, n_epoch=best_epoch2)"
      ],
      "metadata": {
        "colab": {
          "base_uri": "https://localhost:8080/"
        },
        "id": "SEfvjI11zANb",
        "outputId": "2ad8fa9b-76e1-4e5d-b3a8-8020f1046c41"
      },
      "execution_count": 15,
      "outputs": [
        {
          "output_type": "stream",
          "name": "stdout",
          "text": [
            "Test Mean Absolute Error (MAE) = 2.757\n"
          ]
        }
      ]
    },
    {
      "cell_type": "markdown",
      "source": [
        "## Increasing model simplicity \n",
        "- Create a more simplistic model - dense layers of 96 and 64 neurons respectively\n",
        "- Slightly worse validation results than previously\n",
        "- However, performs much better on test data\n",
        "\n",
        "---\n",
        "\n"
      ],
      "metadata": {
        "id": "nZShPLwdi7V9"
      }
    },
    {
      "cell_type": "code",
      "source": [
        "layer_sizes_3 = [64,32]\n",
        "train_mae3, val_mae3, best_epoch3 = train_CV(k_folds=4,\n",
        "                                        n_epoch=300, \n",
        "                                        model_hidden_layer_sizes=layer_sizes_3)"
      ],
      "metadata": {
        "colab": {
          "base_uri": "https://localhost:8080/"
        },
        "id": "hh8oIkhpuomD",
        "outputId": "0f6cc40e-ff4d-4433-b620-466bd21adf5b"
      },
      "execution_count": 16,
      "outputs": [
        {
          "output_type": "stream",
          "name": "stdout",
          "text": [
            "----Processing fold #1 of 4----\n",
            "----Processing fold #2 of 4----\n",
            "----Processing fold #3 of 4----\n",
            "----Processing fold #4 of 4----\n",
            "best validation MAE was 2.281, which was observed at epoch 220\n"
          ]
        }
      ]
    },
    {
      "cell_type": "code",
      "source": [
        "plot_train_val_mae(train_mae3, val_mae3,start_epoch=1)"
      ],
      "metadata": {
        "colab": {
          "base_uri": "https://localhost:8080/",
          "height": 497
        },
        "id": "tfEWftFcBy9T",
        "outputId": "6b71d89b-157e-4995-8943-21a7c72104f2"
      },
      "execution_count": 17,
      "outputs": [
        {
          "output_type": "display_data",
          "data": {
            "text/plain": [
              "<Figure size 864x576 with 1 Axes>"
            ],
            "image/png": "[encoded data removed]"
          },
          "metadata": {
            "needs_background": "light"
          }
        }
      ]
    },
    {
      "cell_type": "code",
      "source": [
        "plot_train_val_mae(train_mae3, val_mae3,start_epoch=20)"
      ],
      "metadata": {
        "colab": {
          "base_uri": "https://localhost:8080/",
          "height": 497
        },
        "id": "H6dGnYAsB5U9",
        "outputId": "cb610bc3-f418-4cf0-966b-5c372b2403b3"
      },
      "execution_count": 18,
      "outputs": [
        {
          "output_type": "display_data",
          "data": {
            "text/plain": [
              "<Figure size 864x576 with 1 Axes>"
            ],
            "image/png": "[encoded data removed]"
          },
          "metadata": {
            "needs_background": "light"
          }
        }
      ]
    },
    {
      "cell_type": "code",
      "source": [
        "test_model(model_hidden_layer_sizes=layer_sizes_3, n_epoch=best_epoch3)"
      ],
      "metadata": {
        "colab": {
          "base_uri": "https://localhost:8080/"
        },
        "id": "j_6TMiTQ29Ir",
        "outputId": "37dc5c5c-4b09-47b5-e149-85aab64593fc"
      },
      "execution_count": 19,
      "outputs": [
        {
          "output_type": "stream",
          "name": "stdout",
          "text": [
            "Test Mean Absolute Error (MAE) = 2.480\n"
          ]
        }
      ]
    },
    {
      "cell_type": "code",
      "source": [
        "layer_sizes_4 = [42,28]\n",
        "train_mae4, val_mae4, best_epoch4 = train_CV(k_folds=6,\n",
        "                                        n_epoch=1500, \n",
        "                                        model_hidden_layer_sizes=layer_sizes_4)"
      ],
      "metadata": {
        "colab": {
          "base_uri": "https://localhost:8080/"
        },
        "id": "C5OKQvIJ5GS-",
        "outputId": "56301273-3a88-4d67-da69-7f985e5de34e"
      },
      "execution_count": 20,
      "outputs": [
        {
          "output_type": "stream",
          "name": "stdout",
          "text": [
            "----Processing fold #1 of 6----\n",
            "----Processing fold #2 of 6----\n",
            "----Processing fold #3 of 6----\n",
            "----Processing fold #4 of 6----\n",
            "----Processing fold #5 of 6----\n",
            "----Processing fold #6 of 6----\n",
            "best validation MAE was 2.187, which was observed at epoch 270\n"
          ]
        }
      ]
    },
    {
      "cell_type": "code",
      "source": [
        "plot_train_val_mae(train=train_mae4, val = val_mae4, start_epoch=15)"
      ],
      "metadata": {
        "colab": {
          "base_uri": "https://localhost:8080/",
          "height": 497
        },
        "id": "4zhuk5WyFK7l",
        "outputId": "8fc9d268-6919-4eb0-8441-7b4668cf0bf5"
      },
      "execution_count": 21,
      "outputs": [
        {
          "output_type": "display_data",
          "data": {
            "text/plain": [
              "<Figure size 864x576 with 1 Axes>"
            ],
            "image/png": "[encoded data removed]"
          },
          "metadata": {
            "needs_background": "light"
          }
        }
      ]
    },
    {
      "cell_type": "code",
      "source": [
        "test_model(model_hidden_layer_sizes=layer_sizes_4, n_epoch=best_epoch4)"
      ],
      "metadata": {
        "colab": {
          "base_uri": "https://localhost:8080/"
        },
        "id": "-gbnOIAH5yeG",
        "outputId": "13b44b4b-760a-4cd4-a426-7c2cf7190718"
      },
      "execution_count": 22,
      "outputs": [
        {
          "output_type": "stream",
          "name": "stdout",
          "text": [
            "Test Mean Absolute Error (MAE) = 2.539\n"
          ]
        }
      ]
    }
  ]
}