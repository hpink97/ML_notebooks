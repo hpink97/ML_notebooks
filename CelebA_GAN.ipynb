{
  "nbformat": 4,
  "nbformat_minor": 0,
  "metadata": {
    "colab": {
      "provenance": [],
      "authorship_tag": "ABX9TyOVKkmi2TkyxDVX4BsCuJ5k",
      "include_colab_link": true
    },
    "kernelspec": {
      "name": "python3",
      "display_name": "Python 3"
    },
    "language_info": {
      "name": "python"
    },
    "gpuClass": "standard"
  },
  "cells": [
    {
      "cell_type": "markdown",
      "metadata": {
        "id": "view-in-github",
        "colab_type": "text"
      },
      "source": [
        "<a href=\"https://colab.research.google.com/github/hpink97/ML_notebooks/blob/main/CelebA_GAN.ipynb\" target=\"_parent\"><img src=\"https://colab.research.google.com/assets/colab-badge.svg\" alt=\"Open In Colab\"/></a>"
      ]
    },
    {
      "cell_type": "markdown",
      "source": [
        "# AI generate human faces using Generative Adversarial Networks (GANs)\n",
        "\n",
        "GANs work by training 2 models simoultaneously **(generator & discriminator)** - which are trying to fool each other... \n",
        "\n",
        "Generator acts as the artist. It takes in completley random inputs and attempts to general believable looking images. The discrimiator is a standard image classification model which attempts to tell real images from fake. \n",
        "\n",
        "In training the generator will become better at producing believable images, and the discrimator will become better at detecting the fake images, until an equilibrium is reached."
      ],
      "metadata": {
        "id": "1sXcZUOJMzvs"
      }
    },
    {
      "cell_type": "code",
      "source": [
        "import tensorflow as tf\n",
        "from tensorflow import keras\n",
        "from tensorflow.keras import layers\n",
        "\n",
        "\n",
        "import matplotlib.pyplot as plt\n",
        "\n",
        "#file manipulation\n",
        "import os\n",
        "import zipfile\n",
        "import random"
      ],
      "metadata": {
        "id": "FMRlGNShQWez"
      },
      "execution_count": 2,
      "outputs": []
    },
    {
      "cell_type": "markdown",
      "source": [
        "## Import CelebA dataset - images of celebrities faces"
      ],
      "metadata": {
        "id": "XZ7Hy40nQuzI"
      }
    },
    {
      "cell_type": "code",
      "source": [
        "!mkdir data_faces && wget https://s3-us-west-1.amazonaws.com/udacity-dlnfd/datasets/celeba.zip "
      ],
      "metadata": {
        "colab": {
          "base_uri": "https://localhost:8080/"
        },
        "id": "c-5cjpnGQt4p",
        "outputId": "8545c1e4-883c-4ee8-ef2b-19e3017bc94b"
      },
      "execution_count": 3,
      "outputs": [
        {
          "output_type": "stream",
          "name": "stdout",
          "text": [
            "--2023-02-14 08:33:21--  https://s3-us-west-1.amazonaws.com/udacity-dlnfd/datasets/celeba.zip\n",
            "Resolving s3-us-west-1.amazonaws.com (s3-us-west-1.amazonaws.com)... 52.219.112.168\n",
            "Connecting to s3-us-west-1.amazonaws.com (s3-us-west-1.amazonaws.com)|52.219.112.168|:443... connected.\n",
            "HTTP request sent, awaiting response... 200 OK\n",
            "Length: 1443490838 (1.3G) [application/zip]\n",
            "Saving to: ‘celeba.zip’\n",
            "\n",
            "celeba.zip          100%[===================>]   1.34G  20.4MB/s    in 69s     \n",
            "\n",
            "2023-02-14 08:34:30 (20.0 MB/s) - ‘celeba.zip’ saved [1443490838/1443490838]\n",
            "\n"
          ]
        }
      ]
    },
    {
      "cell_type": "code",
      "source": [
        "##unzip\n",
        "with zipfile.ZipFile(\"celeba.zip\",\"r\") as zip_ref:\n",
        "  zip_ref.extractall(\"data_faces/\")\n",
        "\n",
        "root = 'data_faces/img_align_celeba'\n",
        "img_list = os.listdir(root)\n",
        "print(len(img_list))"
      ],
      "metadata": {
        "colab": {
          "base_uri": "https://localhost:8080/"
        },
        "id": "37A-rQxDSdOq",
        "outputId": "91a624e8-928a-4711-f423-9dadcdc51210"
      },
      "execution_count": 4,
      "outputs": [
        {
          "output_type": "stream",
          "name": "stdout",
          "text": [
            "202599\n"
          ]
        }
      ]
    },
    {
      "cell_type": "code",
      "source": [
        "random.shuffle(img_list)\n",
        "remove = img_list[75000:]\n",
        "for f in remove:\n",
        "    os.remove(os.path.join(root, f))\n",
        "\n",
        "img_list = os.listdir(root)\n",
        "print(len(img_list))"
      ],
      "metadata": {
        "colab": {
          "base_uri": "https://localhost:8080/"
        },
        "id": "SKAad-iVCoSA",
        "outputId": "847b7504-d884-4c35-e69e-3194ef9bb71a"
      },
      "execution_count": 6,
      "outputs": [
        {
          "output_type": "stream",
          "name": "stdout",
          "text": [
            "75000\n"
          ]
        }
      ]
    },
    {
      "cell_type": "code",
      "source": [
        "##import datset using keras\n",
        "faces = keras.utils.image_dataset_from_directory(\n",
        "    root,\n",
        "    ##don't care about original labels - for our GAN they'll all be labelled REAL\n",
        "    label_mode = None, \n",
        "    ##resize image to 64*64 - limited GPU!!\n",
        "    image_size = (64,64),\n",
        "    batch_size = 32, \n",
        "    smart_resize = True \n",
        ")\n",
        "\n",
        "##show sample face\n",
        "for batch in faces:\n",
        "  face = batch.numpy().astype('int32')[12]\n",
        "  plt.axis('off')\n",
        "  plt.imshow(face)\n",
        "  break\n"
      ],
      "metadata": {
        "colab": {
          "base_uri": "https://localhost:8080/",
          "height": 265
        },
        "id": "kfgmCBp4TLAZ",
        "outputId": "a01468d0-ae29-4396-9af4-57ac1a82d4c6"
      },
      "execution_count": 7,
      "outputs": [
        {
          "output_type": "stream",
          "name": "stdout",
          "text": [
            "Found 75000 files belonging to 1 classes.\n"
          ]
        },
        {
          "output_type": "display_data",
          "data": {
            "text/plain": [
              "<Figure size 432x288 with 1 Axes>"
            ],
            "image/png": "[encoded data removed]"
          },
          "metadata": {
            "needs_background": "light"
          }
        }
      ]
    },
    {
      "cell_type": "code",
      "source": [
        "face.shape"
      ],
      "metadata": {
        "colab": {
          "base_uri": "https://localhost:8080/"
        },
        "id": "C5Q8NmGXNZ7N",
        "outputId": "b40e4821-cfc4-4711-abd2-0d10caa86e6d"
      },
      "execution_count": 22,
      "outputs": [
        {
          "output_type": "execute_result",
          "data": {
            "text/plain": [
              "(64, 64, 3)"
            ]
          },
          "metadata": {},
          "execution_count": 22
        }
      ]
    },
    {
      "cell_type": "code",
      "source": [
        "##scale values to 0-1\n",
        "faces=faces.map(lambda x:x/255.) #scale between 0-1\n"
      ],
      "metadata": {
        "id": "1_qUBHnSVlWG"
      },
      "execution_count": 23,
      "outputs": []
    },
    {
      "cell_type": "markdown",
      "source": [
        "## GAN Discriminator - classify real vs fake images\n",
        "\n",
        "Striding seems to work better in GANs than MaxPooling. Also using LeakyReLU seems to also work better..."
      ],
      "metadata": {
        "id": "QjFxxsaGV90b"
      }
    },
    {
      "cell_type": "code",
      "source": [
        "discriminator = keras.Sequential(\n",
        "    [\n",
        "    keras.Input(shape=(64,64,3)), #input an image\n",
        "    layers.Conv2D(filters =64, kernel_size = 4, strides=2, padding = 'same'), \n",
        "    layers.LeakyReLU(alpha=0.2),\n",
        "    layers.Conv2D(filters =128, kernel_size = 4, strides=2, padding = 'same'), \n",
        "    layers.LeakyReLU(alpha=0.2),\n",
        "    layers.Conv2D(filters =128, kernel_size = 4, strides=2, padding = 'same'), \n",
        "    layers.LeakyReLU(alpha=0.2),\n",
        "    layers.Flatten(),\n",
        "    layers.Dropout(0.25),\n",
        "    layers.Dense(1, activation='sigmoid'),\n",
        "    ],\n",
        "    name = 'discriminator',\n",
        ")\n",
        "\n",
        "discriminator.summary()"
      ],
      "metadata": {
        "colab": {
          "base_uri": "https://localhost:8080/"
        },
        "id": "dzCB8Um3V41q",
        "outputId": "37314c9e-773b-4131-a157-3933b3be6146"
      },
      "execution_count": 24,
      "outputs": [
        {
          "output_type": "stream",
          "name": "stdout",
          "text": [
            "Model: \"discriminator\"\n",
            "_________________________________________________________________\n",
            " Layer (type)                Output Shape              Param #   \n",
            "=================================================================\n",
            " conv2d_4 (Conv2D)           (None, 32, 32, 64)        3136      \n",
            "                                                                 \n",
            " leaky_re_lu_6 (LeakyReLU)   (None, 32, 32, 64)        0         \n",
            "                                                                 \n",
            " conv2d_5 (Conv2D)           (None, 16, 16, 128)       131200    \n",
            "                                                                 \n",
            " leaky_re_lu_7 (LeakyReLU)   (None, 16, 16, 128)       0         \n",
            "                                                                 \n",
            " conv2d_6 (Conv2D)           (None, 8, 8, 128)         262272    \n",
            "                                                                 \n",
            " leaky_re_lu_8 (LeakyReLU)   (None, 8, 8, 128)         0         \n",
            "                                                                 \n",
            " flatten_1 (Flatten)         (None, 8192)              0         \n",
            "                                                                 \n",
            " dropout_1 (Dropout)         (None, 8192)              0         \n",
            "                                                                 \n",
            " dense_2 (Dense)             (None, 1)                 8193      \n",
            "                                                                 \n",
            "=================================================================\n",
            "Total params: 404,801\n",
            "Trainable params: 404,801\n",
            "Non-trainable params: 0\n",
            "_________________________________________________________________\n"
          ]
        }
      ]
    },
    {
      "cell_type": "markdown",
      "source": [
        "## GAN Generator \n",
        "\n",
        "This model will accept a random nornally distributed vector (**latent space**) as input, and generate a 64x64x3 image as output. Image will be noise to start with, but after training of model weights image should resemble a human face. \n",
        "\n",
        "**`Conv2DTranspose `** layers will be used to perform **deconvolution** (opposite on convolution), to generate the images. \n",
        "\n",
        "Kernel size of `Conv2dTransponse` layers **MUST** be divisible by stride size to avoid checkboard artifacts (linked to unequal coverage of pixel space by generator) \n",
        "\n",
        "`strides = 2` causes Output height x width to half in each `Conv2D layer` and dounle in each `Conv2DTransponse` layer. Important as generator model needs to reverse the dimensions of the discriminator (in order to end up with a 64x64x3 image)"
      ],
      "metadata": {
        "id": "zrKQA4zoZukq"
      }
    },
    {
      "cell_type": "code",
      "source": [
        "latent_space_dim = 128 \n",
        "\n",
        "generator = keras.Sequential(\n",
        "    [\n",
        "        keras.Input(shape=(latent_space_dim,)),\n",
        "    ##should be same dimension of discriminators flattened layer (8192)\n",
        "        layers.Dense(8*8*128), \n",
        "     ##reverse flattening - get back to output shape from last Conv2D layer\n",
        "        layers.Reshape((8,8,128)),\n",
        "     ##start deconvolution \n",
        "        layers.Conv2DTranspose(128, kernel_size =4, strides=2, padding ='same'),\n",
        "        layers.LeakyReLU(alpha=0.2),\n",
        "        layers.Conv2DTranspose(256, kernel_size =4, strides=2, padding ='same'),\n",
        "        layers.LeakyReLU(alpha=0.2),\n",
        "        layers.Conv2DTranspose(512, kernel_size =4, strides=2, padding ='same'),\n",
        "        layers.LeakyReLU(alpha=0.2), \n",
        "        layers.Conv2D(filters = 3, ##reverts back to 3 channel image\n",
        "                      kernel_size = 5, \n",
        "                      padding = 'same',\n",
        "                      activation = 'sigmoid'),\n",
        "     ], name = 'generator'\n",
        ")\n",
        "\n",
        "generator.summary()"
      ],
      "metadata": {
        "colab": {
          "base_uri": "https://localhost:8080/"
        },
        "id": "1cyl4esVZtYv",
        "outputId": "e5fbe74e-dc9a-4dc3-c1eb-167b1de56dee"
      },
      "execution_count": 25,
      "outputs": [
        {
          "output_type": "stream",
          "name": "stdout",
          "text": [
            "Model: \"generator\"\n",
            "_________________________________________________________________\n",
            " Layer (type)                Output Shape              Param #   \n",
            "=================================================================\n",
            " dense_3 (Dense)             (None, 8192)              1056768   \n",
            "                                                                 \n",
            " reshape_1 (Reshape)         (None, 8, 8, 128)         0         \n",
            "                                                                 \n",
            " conv2d_transpose_3 (Conv2DT  (None, 16, 16, 128)      262272    \n",
            " ranspose)                                                       \n",
            "                                                                 \n",
            " leaky_re_lu_9 (LeakyReLU)   (None, 16, 16, 128)       0         \n",
            "                                                                 \n",
            " conv2d_transpose_4 (Conv2DT  (None, 32, 32, 256)      524544    \n",
            " ranspose)                                                       \n",
            "                                                                 \n",
            " leaky_re_lu_10 (LeakyReLU)  (None, 32, 32, 256)       0         \n",
            "                                                                 \n",
            " conv2d_transpose_5 (Conv2DT  (None, 64, 64, 512)      2097664   \n",
            " ranspose)                                                       \n",
            "                                                                 \n",
            " leaky_re_lu_11 (LeakyReLU)  (None, 64, 64, 512)       0         \n",
            "                                                                 \n",
            " conv2d_7 (Conv2D)           (None, 64, 64, 3)         38403     \n",
            "                                                                 \n",
            "=================================================================\n",
            "Total params: 3,979,651\n",
            "Trainable params: 3,979,651\n",
            "Non-trainable params: 0\n",
            "_________________________________________________________________\n"
          ]
        }
      ]
    },
    {
      "cell_type": "markdown",
      "source": [
        "## Adversiral Network - combine discriminator and generator in a model"
      ],
      "metadata": {
        "id": "7TFZSXbUiK1W"
      }
    },
    {
      "cell_type": "code",
      "source": [
        "##devlop GAN class inheriting from keras model\n",
        "class GAN(keras.Model):\n",
        "  def __init__(self, discriminator, generator, latent_space_dim):\n",
        "    super().__init__()\n",
        "    #add the two models\n",
        "    self.discriminator = discriminator\n",
        "    self.generator = generator\n",
        "    self.latent_dim = latent_space_dim\n",
        "    ##define loss metrics for discriminator and generator\n",
        "    self.d_loss_metric = keras.metrics.Mean(name='d_loss')\n",
        "    self.g_loss_metric = keras.metrics.Mean(name= 'g_loss')\n",
        "  \n",
        "  def compile(self, d_optimizer, g_optimizer, loss_fn):\n",
        "    super(GAN, self).compile()\n",
        "    self.d_optimizer = d_optimizer\n",
        "    self.g_optimizer = g_optimizer\n",
        "    self.loss_fn = loss_fn\n",
        "\n",
        "  @property\n",
        "  def metrics(self):\n",
        "    m = [self.d_loss_metric, self.g_loss_metric]\n",
        "    return m\n",
        "\n",
        "  ###define function for training the combined model\n",
        "  def train_step(self, real_img):\n",
        "    batch_size = tf.shape(real_img)[0]\n",
        "    latent_vector = tf.random.normal(shape=(batch_size, self.latent_dim))\n",
        "    #print('make some fake images')\n",
        "    #use generator to produce fake images\n",
        "    fake_img = self.generator(latent_vector)\n",
        "    all_imgs = tf.concat([fake_img, real_img],axis=0)\n",
        "\n",
        "    labels = tf.concat([\n",
        "        tf.ones(shape=(batch_size, 1)),\n",
        "        tf.zeros(shape=(batch_size,1))\n",
        "    ],axis =0)\n",
        "\n",
        "    ##add some random noise to labels - because magic???\n",
        "    labels += 0.05* tf.random.uniform(tf.shape(labels))\n",
        "\n",
        "    #####################train the discriminator#######################\n",
        "    with tf.GradientTape() as d_tape:\n",
        "      pred_class = self.discriminator(all_imgs)\n",
        "      d_loss = self.loss_fn(labels, pred_class)\n",
        "    ##extract trainable weights and 9\n",
        "    d_gradients = d_tape.gradient(d_loss, self.discriminator.trainable_weights)\n",
        "    self.d_optimizer.apply_gradients(\n",
        "        zip(d_gradients,self.discriminator.trainable_weights)\n",
        "    )\n",
        "\n",
        "    ###################train the generator ##########################\n",
        "\n",
        "    latent_vector2 = tf.random.normal(shape=(batch_size, self.latent_dim))\n",
        "    ##incorrectly tell generator all images are real....\n",
        "    misleading_labels = tf.zeros(shape=(batch_size,1))\n",
        "\n",
        "    with tf.GradientTape() as g_tape:\n",
        "      fake_img2 = self.generator(latent_vector2)\n",
        "      ##predict class of new fake images with discriminator \n",
        "      pred_class2 = self.discriminator(fake_img2)\n",
        "      ##calculate loss discriminator predictions vs all images being real (isn't actually true)\n",
        "      ##however, when gradients are update to minimise loss...\n",
        "      ##we'll make images discriminator are more likely to think is true\n",
        "      g_loss = self.loss_fn(misleading_labels, pred_class2)\n",
        "    \n",
        "    g_gradients = g_tape.gradient(g_loss, self.generator.trainable_weights)\n",
        "    self.g_optimizer.apply_gradients(\n",
        "        zip(g_gradients, self.generator.trainable_weights)\n",
        "    )\n",
        "\n",
        "    ################update loss##################\n",
        "    self.d_loss_metric.update_state(d_loss)\n",
        "    self.g_loss_metric.update_state(g_loss)\n",
        "\n",
        "    loss_dict = {\"d_loss\":self.d_loss_metric.result(),\n",
        "                 \"g_loss\":self.g_loss_metric.result()}\n",
        "\n",
        "    return loss_dict\n",
        "                 \n",
        "\n",
        "\n",
        "    "
      ],
      "metadata": {
        "id": "fL-ULOXyiT-z"
      },
      "execution_count": 47,
      "outputs": []
    },
    {
      "cell_type": "code",
      "source": [
        "class GANMonitor(keras.callbacks.Callback):\n",
        "  def __init__(self, num_img =3, latent_dim = latent_space_dim):\n",
        "    self.num_img=3\n",
        "    self.latent_dim = latent_dim\n",
        "  \n",
        "  def on_epoch_end(self, epoch, logs=None):\n",
        "    latent_vector = tf.random.normal(shape=(self.num_img, self.latent_dim))\n",
        "    new_imgs = self.model.generator(latent_vector)\n",
        "    new_imgs *=255\n",
        "    new_imgs.numpy()\n",
        "    for n in range(self.num_img):\n",
        "      img=keras.utils.array_to_img(new_imgs[n])\n",
        "      img.save(f\"GAN_image_epoch{epoch:03d}_image_{n}.png\")"
      ],
      "metadata": {
        "id": "6FRNJ21cIl9O"
      },
      "execution_count": 44,
      "outputs": []
    },
    {
      "cell_type": "markdown",
      "source": [
        "## Let's train this mf"
      ],
      "metadata": {
        "id": "013OTxaQK4KG"
      }
    },
    {
      "cell_type": "code",
      "source": [
        "\n",
        "model = GAN(discriminator=discriminator,\n",
        "            generator= generator, \n",
        "            latent_space_dim = latent_space_dim)\n",
        "\n",
        "model.compile(d_optimizer= tf.keras.optimizers.Adam(learning_rate=1e-4),\n",
        "              g_optimizer = tf.keras.optimizers.Adam(learning_rate=1e-4),\n",
        "              loss_fn = keras.losses.BinaryCrossentropy(),\n",
        "              )\n",
        "\n",
        "\n"
      ],
      "metadata": {
        "id": "vMFbl0CwK3bH"
      },
      "execution_count": 48,
      "outputs": []
    },
    {
      "cell_type": "code",
      "source": [
        "model.fit(faces,\n",
        "          epochs=100,\n",
        "          callbacks=[GANMonitor(num_img=4, latent_dim=latent_space_dim)])"
      ],
      "metadata": {
        "colab": {
          "base_uri": "https://localhost:8080/"
        },
        "id": "aZZm4JUPSfdW",
        "outputId": "9b5ec8ac-e34c-40af-84bb-3abc8043913f"
      },
      "execution_count": null,
      "outputs": [
        {
          "output_type": "stream",
          "name": "stdout",
          "text": [
            "Epoch 1/100\n",
            "make some fake images\n",
            "make some fake images\n",
            "6332/6332 [==============================] - 1746s 275ms/step - d_loss: 0.5955 - g_loss: 1.2677\n",
            "Epoch 2/100\n",
            "6332/6332 [==============================] - 1755s 277ms/step - d_loss: 0.6416 - g_loss: 1.1101\n",
            "Epoch 3/100\n",
            "6332/6332 [==============================] - 1760s 278ms/step - d_loss: 0.6633 - g_loss: 1.0151\n",
            "Epoch 4/100\n",
            "6332/6332 [==============================] - 1759s 278ms/step - d_loss: 0.6400 - g_loss: 1.0859\n",
            "Epoch 5/100\n",
            "6332/6332 [==============================] - 1764s 279ms/step - d_loss: 0.6379 - g_loss: 1.1055\n",
            "Epoch 6/100\n",
            "6332/6332 [==============================] - 1762s 278ms/step - d_loss: 0.6472 - g_loss: 1.0126\n",
            "Epoch 7/100\n",
            "2776/6332 [============>.................] - ETA: 16:38 - d_loss: 0.6664 - g_loss: 0.9416"
          ]
        }
      ]
    }
  ]
}