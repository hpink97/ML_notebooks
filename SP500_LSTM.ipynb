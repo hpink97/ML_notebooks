{
  "cells": [
    {
      "cell_type": "markdown",
      "metadata": {
        "id": "view-in-github",
        "colab_type": "text"
      },
      "source": [
        "<a href=\"https://colab.research.google.com/github/hpink97/tensorflow_keras_practice/blob/main/SP500_LSTM.ipynb\" target=\"_parent\"><img src=\"https://colab.research.google.com/assets/colab-badge.svg\" alt=\"Open In Colab\"/></a>"
      ]
    },
    {
      "cell_type": "markdown",
      "source": [
        "## TO-DO list;\n",
        "\n",
        "\n",
        "*   Change target variable to percentage change instead of actual stock value\n",
        "*   X sequence will be daily percentage changes\n",
        "*   Y will be total percentage change in n_future period (e.g. 30 days)\n",
        "*   **Seperate scalers for daily perc_change and 30d perc_change**\n",
        "*   Will enable entire history to be used without being affected by low values\n",
        "\n"
      ],
      "metadata": {
        "id": "YWeoytrKjcDC"
      }
    },
    {
      "cell_type": "code",
      "execution_count": 24,
      "metadata": {
        "id": "r5m1z1EkJmUC"
      },
      "outputs": [],
      "source": [
        "#!pip install datapackage\n",
        "import numpy as np\n",
        "import pandas as pd\n",
        "import matplotlib.pyplot as plt\n",
        "import seaborn as sns\n",
        "\n",
        "import math\n",
        "\n",
        "from keras.callbacks import EarlyStopping\n",
        "from keras.models import Sequential\n",
        "from keras.layers import Dense, SimpleRNN, LSTM, Dropout\n",
        "from keras.preprocessing.sequence import TimeseriesGenerator\n",
        "from sklearn.preprocessing import MinMaxScaler, StandardScaler\n",
        "from sklearn.metrics import mean_squared_error\n",
        "import xgboost as xgb\n",
        "\n"
      ]
    },
    {
      "cell_type": "code",
      "execution_count": 25,
      "metadata": {
        "colab": {
          "base_uri": "https://localhost:8080/",
          "height": 206
        },
        "id": "caTx1gRXKBbD",
        "outputId": "d264704d-32bd-4865-bd23-7a283f5e493a"
      },
      "outputs": [
        {
          "output_type": "execute_result",
          "data": {
            "text/plain": [
              "            Date        Open        High         Low       Close   Adj Close  \\\n",
              "16815 1995-01-03  459.209991  459.269989  457.200012  459.109985  459.109985   \n",
              "16816 1995-01-04  459.130005  460.720001  457.559998  460.709991  460.709991   \n",
              "16817 1995-01-05  460.730011  461.299988  459.750000  460.339996  460.339996   \n",
              "16818 1995-01-06  460.380005  462.489990  459.470001  460.679993  460.679993   \n",
              "16819 1995-01-09  460.670013  461.769989  459.739990  460.829987  460.829987   \n",
              "\n",
              "          Volume  \n",
              "16815  262450000  \n",
              "16816  319510000  \n",
              "16817  309050000  \n",
              "16818  308070000  \n",
              "16819  278790000  "
            ],
            "text/html": [
              "\n",
              "  <div id=\"df-344d7284-bf63-4f07-8c18-def850257fe2\">\n",
              "    <div class=\"colab-df-container\">\n",
              "      <div>\n",
              "<style scoped>\n",
              "    .dataframe tbody tr th:only-of-type {\n",
              "        vertical-align: middle;\n",
              "    }\n",
              "\n",
              "    .dataframe tbody tr th {\n",
              "        vertical-align: top;\n",
              "    }\n",
              "\n",
              "    .dataframe thead th {\n",
              "        text-align: right;\n",
              "    }\n",
              "</style>\n",
              "<table border=\"1\" class=\"dataframe\">\n",
              "  <thead>\n",
              "    <tr style=\"text-align: right;\">\n",
              "      <th></th>\n",
              "      <th>Date</th>\n",
              "      <th>Open</th>\n",
              "      <th>High</th>\n",
              "      <th>Low</th>\n",
              "      <th>Close</th>\n",
              "      <th>Adj Close</th>\n",
              "      <th>Volume</th>\n",
              "    </tr>\n",
              "  </thead>\n",
              "  <tbody>\n",
              "    <tr>\n",
              "      <th>16815</th>\n",
              "      <td>1995-01-03</td>\n",
              "      <td>459.209991</td>\n",
              "      <td>459.269989</td>\n",
              "      <td>457.200012</td>\n",
              "      <td>459.109985</td>\n",
              "      <td>459.109985</td>\n",
              "      <td>262450000</td>\n",
              "    </tr>\n",
              "    <tr>\n",
              "      <th>16816</th>\n",
              "      <td>1995-01-04</td>\n",
              "      <td>459.130005</td>\n",
              "      <td>460.720001</td>\n",
              "      <td>457.559998</td>\n",
              "      <td>460.709991</td>\n",
              "      <td>460.709991</td>\n",
              "      <td>319510000</td>\n",
              "    </tr>\n",
              "    <tr>\n",
              "      <th>16817</th>\n",
              "      <td>1995-01-05</td>\n",
              "      <td>460.730011</td>\n",
              "      <td>461.299988</td>\n",
              "      <td>459.750000</td>\n",
              "      <td>460.339996</td>\n",
              "      <td>460.339996</td>\n",
              "      <td>309050000</td>\n",
              "    </tr>\n",
              "    <tr>\n",
              "      <th>16818</th>\n",
              "      <td>1995-01-06</td>\n",
              "      <td>460.380005</td>\n",
              "      <td>462.489990</td>\n",
              "      <td>459.470001</td>\n",
              "      <td>460.679993</td>\n",
              "      <td>460.679993</td>\n",
              "      <td>308070000</td>\n",
              "    </tr>\n",
              "    <tr>\n",
              "      <th>16819</th>\n",
              "      <td>1995-01-09</td>\n",
              "      <td>460.670013</td>\n",
              "      <td>461.769989</td>\n",
              "      <td>459.739990</td>\n",
              "      <td>460.829987</td>\n",
              "      <td>460.829987</td>\n",
              "      <td>278790000</td>\n",
              "    </tr>\n",
              "  </tbody>\n",
              "</table>\n",
              "</div>\n",
              "      <button class=\"colab-df-convert\" onclick=\"convertToInteractive('df-344d7284-bf63-4f07-8c18-def850257fe2')\"\n",
              "              title=\"Convert this dataframe to an interactive table.\"\n",
              "              style=\"display:none;\">\n",
              "        \n",
              "  <svg xmlns=\"http://www.w3.org/2000/svg\" height=\"24px\"viewBox=\"0 0 24 24\"\n",
              "       width=\"24px\">\n",
              "    <path d=\"M0 0h24v24H0V0z\" fill=\"none\"/>\n",
              "    <path d=\"M18.56 5.44l.94 2.06.94-2.06 2.06-.94-2.06-.94-.94-2.06-.94 2.06-2.06.94zm-11 1L8.5 8.5l.94-2.06 2.06-.94-2.06-.94L8.5 2.5l-.94 2.06-2.06.94zm10 10l.94 2.06.94-2.06 2.06-.94-2.06-.94-.94-2.06-.94 2.06-2.06.94z\"/><path d=\"M17.41 7.96l-1.37-1.37c-.4-.4-.92-.59-1.43-.59-.52 0-1.04.2-1.43.59L10.3 9.45l-7.72 7.72c-.78.78-.78 2.05 0 2.83L4 21.41c.39.39.9.59 1.41.59.51 0 1.02-.2 1.41-.59l7.78-7.78 2.81-2.81c.8-.78.8-2.07 0-2.86zM5.41 20L4 18.59l7.72-7.72 1.47 1.35L5.41 20z\"/>\n",
              "  </svg>\n",
              "      </button>\n",
              "      \n",
              "  <style>\n",
              "    .colab-df-container {\n",
              "      display:flex;\n",
              "      flex-wrap:wrap;\n",
              "      gap: 12px;\n",
              "    }\n",
              "\n",
              "    .colab-df-convert {\n",
              "      background-color: #E8F0FE;\n",
              "      border: none;\n",
              "      border-radius: 50%;\n",
              "      cursor: pointer;\n",
              "      display: none;\n",
              "      fill: #1967D2;\n",
              "      height: 32px;\n",
              "      padding: 0 0 0 0;\n",
              "      width: 32px;\n",
              "    }\n",
              "\n",
              "    .colab-df-convert:hover {\n",
              "      background-color: #E2EBFA;\n",
              "      box-shadow: 0px 1px 2px rgba(60, 64, 67, 0.3), 0px 1px 3px 1px rgba(60, 64, 67, 0.15);\n",
              "      fill: #174EA6;\n",
              "    }\n",
              "\n",
              "    [theme=dark] .colab-df-convert {\n",
              "      background-color: #3B4455;\n",
              "      fill: #D2E3FC;\n",
              "    }\n",
              "\n",
              "    [theme=dark] .colab-df-convert:hover {\n",
              "      background-color: #434B5C;\n",
              "      box-shadow: 0px 1px 3px 1px rgba(0, 0, 0, 0.15);\n",
              "      filter: drop-shadow(0px 1px 2px rgba(0, 0, 0, 0.3));\n",
              "      fill: #FFFFFF;\n",
              "    }\n",
              "  </style>\n",
              "\n",
              "      <script>\n",
              "        const buttonEl =\n",
              "          document.querySelector('#df-344d7284-bf63-4f07-8c18-def850257fe2 button.colab-df-convert');\n",
              "        buttonEl.style.display =\n",
              "          google.colab.kernel.accessAllowed ? 'block' : 'none';\n",
              "\n",
              "        async function convertToInteractive(key) {\n",
              "          const element = document.querySelector('#df-344d7284-bf63-4f07-8c18-def850257fe2');\n",
              "          const dataTable =\n",
              "            await google.colab.kernel.invokeFunction('convertToInteractive',\n",
              "                                                     [key], {});\n",
              "          if (!dataTable) return;\n",
              "\n",
              "          const docLinkHtml = 'Like what you see? Visit the ' +\n",
              "            '<a target=\"_blank\" href=https://colab.research.google.com/notebooks/data_table.ipynb>data table notebook</a>'\n",
              "            + ' to learn more about interactive tables.';\n",
              "          element.innerHTML = '';\n",
              "          dataTable['output_type'] = 'display_data';\n",
              "          await google.colab.output.renderOutput(dataTable, element);\n",
              "          const docLink = document.createElement('div');\n",
              "          docLink.innerHTML = docLinkHtml;\n",
              "          element.appendChild(docLink);\n",
              "        }\n",
              "      </script>\n",
              "    </div>\n",
              "  </div>\n",
              "  "
            ]
          },
          "metadata": {},
          "execution_count": 25
        }
      ],
      "source": [
        "data1 = pd.read_csv('https://raw.githubusercontent.com/hpink97/tensorflow_keras_practice/main/sp500_1927_2020.csv')\n",
        "data1.Date = pd.to_datetime(data1.Date)\n",
        "data1 = data1[data1.Date >='1995-01-01']\n",
        "\n",
        "data1.head()"
      ]
    },
    {
      "cell_type": "code",
      "execution_count": 26,
      "metadata": {
        "colab": {
          "base_uri": "https://localhost:8080/",
          "height": 206
        },
        "id": "QQZnYrSSOHQe",
        "outputId": "e6e3c188-38cc-4c21-d5be-c7b651e30f0a"
      },
      "outputs": [
        {
          "output_type": "execute_result",
          "data": {
            "text/plain": [
              "          Date    Close Volume     Open     High      Low\n",
              "539 2020-11-05  3510.45     --  3485.74  3529.05  3485.74\n",
              "538 2020-11-06  3509.44     --  3508.34  3521.58  3484.34\n",
              "537 2020-11-09  3550.50     --  3583.04  3645.99  3547.48\n",
              "536 2020-11-10  3545.53     --  3543.26  3557.22  3511.91\n",
              "535 2020-11-11  3572.66     --  3563.22  3581.16  3557.00"
            ],
            "text/html": [
              "\n",
              "  <div id=\"df-d8614a67-a843-4e8d-aafb-01309102ca81\">\n",
              "    <div class=\"colab-df-container\">\n",
              "      <div>\n",
              "<style scoped>\n",
              "    .dataframe tbody tr th:only-of-type {\n",
              "        vertical-align: middle;\n",
              "    }\n",
              "\n",
              "    .dataframe tbody tr th {\n",
              "        vertical-align: top;\n",
              "    }\n",
              "\n",
              "    .dataframe thead th {\n",
              "        text-align: right;\n",
              "    }\n",
              "</style>\n",
              "<table border=\"1\" class=\"dataframe\">\n",
              "  <thead>\n",
              "    <tr style=\"text-align: right;\">\n",
              "      <th></th>\n",
              "      <th>Date</th>\n",
              "      <th>Close</th>\n",
              "      <th>Volume</th>\n",
              "      <th>Open</th>\n",
              "      <th>High</th>\n",
              "      <th>Low</th>\n",
              "    </tr>\n",
              "  </thead>\n",
              "  <tbody>\n",
              "    <tr>\n",
              "      <th>539</th>\n",
              "      <td>2020-11-05</td>\n",
              "      <td>3510.45</td>\n",
              "      <td>--</td>\n",
              "      <td>3485.74</td>\n",
              "      <td>3529.05</td>\n",
              "      <td>3485.74</td>\n",
              "    </tr>\n",
              "    <tr>\n",
              "      <th>538</th>\n",
              "      <td>2020-11-06</td>\n",
              "      <td>3509.44</td>\n",
              "      <td>--</td>\n",
              "      <td>3508.34</td>\n",
              "      <td>3521.58</td>\n",
              "      <td>3484.34</td>\n",
              "    </tr>\n",
              "    <tr>\n",
              "      <th>537</th>\n",
              "      <td>2020-11-09</td>\n",
              "      <td>3550.50</td>\n",
              "      <td>--</td>\n",
              "      <td>3583.04</td>\n",
              "      <td>3645.99</td>\n",
              "      <td>3547.48</td>\n",
              "    </tr>\n",
              "    <tr>\n",
              "      <th>536</th>\n",
              "      <td>2020-11-10</td>\n",
              "      <td>3545.53</td>\n",
              "      <td>--</td>\n",
              "      <td>3543.26</td>\n",
              "      <td>3557.22</td>\n",
              "      <td>3511.91</td>\n",
              "    </tr>\n",
              "    <tr>\n",
              "      <th>535</th>\n",
              "      <td>2020-11-11</td>\n",
              "      <td>3572.66</td>\n",
              "      <td>--</td>\n",
              "      <td>3563.22</td>\n",
              "      <td>3581.16</td>\n",
              "      <td>3557.00</td>\n",
              "    </tr>\n",
              "  </tbody>\n",
              "</table>\n",
              "</div>\n",
              "      <button class=\"colab-df-convert\" onclick=\"convertToInteractive('df-d8614a67-a843-4e8d-aafb-01309102ca81')\"\n",
              "              title=\"Convert this dataframe to an interactive table.\"\n",
              "              style=\"display:none;\">\n",
              "        \n",
              "  <svg xmlns=\"http://www.w3.org/2000/svg\" height=\"24px\"viewBox=\"0 0 24 24\"\n",
              "       width=\"24px\">\n",
              "    <path d=\"M0 0h24v24H0V0z\" fill=\"none\"/>\n",
              "    <path d=\"M18.56 5.44l.94 2.06.94-2.06 2.06-.94-2.06-.94-.94-2.06-.94 2.06-2.06.94zm-11 1L8.5 8.5l.94-2.06 2.06-.94-2.06-.94L8.5 2.5l-.94 2.06-2.06.94zm10 10l.94 2.06.94-2.06 2.06-.94-2.06-.94-.94-2.06-.94 2.06-2.06.94z\"/><path d=\"M17.41 7.96l-1.37-1.37c-.4-.4-.92-.59-1.43-.59-.52 0-1.04.2-1.43.59L10.3 9.45l-7.72 7.72c-.78.78-.78 2.05 0 2.83L4 21.41c.39.39.9.59 1.41.59.51 0 1.02-.2 1.41-.59l7.78-7.78 2.81-2.81c.8-.78.8-2.07 0-2.86zM5.41 20L4 18.59l7.72-7.72 1.47 1.35L5.41 20z\"/>\n",
              "  </svg>\n",
              "      </button>\n",
              "      \n",
              "  <style>\n",
              "    .colab-df-container {\n",
              "      display:flex;\n",
              "      flex-wrap:wrap;\n",
              "      gap: 12px;\n",
              "    }\n",
              "\n",
              "    .colab-df-convert {\n",
              "      background-color: #E8F0FE;\n",
              "      border: none;\n",
              "      border-radius: 50%;\n",
              "      cursor: pointer;\n",
              "      display: none;\n",
              "      fill: #1967D2;\n",
              "      height: 32px;\n",
              "      padding: 0 0 0 0;\n",
              "      width: 32px;\n",
              "    }\n",
              "\n",
              "    .colab-df-convert:hover {\n",
              "      background-color: #E2EBFA;\n",
              "      box-shadow: 0px 1px 2px rgba(60, 64, 67, 0.3), 0px 1px 3px 1px rgba(60, 64, 67, 0.15);\n",
              "      fill: #174EA6;\n",
              "    }\n",
              "\n",
              "    [theme=dark] .colab-df-convert {\n",
              "      background-color: #3B4455;\n",
              "      fill: #D2E3FC;\n",
              "    }\n",
              "\n",
              "    [theme=dark] .colab-df-convert:hover {\n",
              "      background-color: #434B5C;\n",
              "      box-shadow: 0px 1px 3px 1px rgba(0, 0, 0, 0.15);\n",
              "      filter: drop-shadow(0px 1px 2px rgba(0, 0, 0, 0.3));\n",
              "      fill: #FFFFFF;\n",
              "    }\n",
              "  </style>\n",
              "\n",
              "      <script>\n",
              "        const buttonEl =\n",
              "          document.querySelector('#df-d8614a67-a843-4e8d-aafb-01309102ca81 button.colab-df-convert');\n",
              "        buttonEl.style.display =\n",
              "          google.colab.kernel.accessAllowed ? 'block' : 'none';\n",
              "\n",
              "        async function convertToInteractive(key) {\n",
              "          const element = document.querySelector('#df-d8614a67-a843-4e8d-aafb-01309102ca81');\n",
              "          const dataTable =\n",
              "            await google.colab.kernel.invokeFunction('convertToInteractive',\n",
              "                                                     [key], {});\n",
              "          if (!dataTable) return;\n",
              "\n",
              "          const docLinkHtml = 'Like what you see? Visit the ' +\n",
              "            '<a target=\"_blank\" href=https://colab.research.google.com/notebooks/data_table.ipynb>data table notebook</a>'\n",
              "            + ' to learn more about interactive tables.';\n",
              "          element.innerHTML = '';\n",
              "          dataTable['output_type'] = 'display_data';\n",
              "          await google.colab.output.renderOutput(dataTable, element);\n",
              "          const docLink = document.createElement('div');\n",
              "          docLink.innerHTML = docLinkHtml;\n",
              "          element.appendChild(docLink);\n",
              "        }\n",
              "      </script>\n",
              "    </div>\n",
              "  </div>\n",
              "  "
            ]
          },
          "metadata": {},
          "execution_count": 26
        }
      ],
      "source": [
        "data2 = pd.read_csv('https://raw.githubusercontent.com/hpink97/tensorflow_keras_practice/main/sp500_2012_2022.csv')\n",
        "data2.Date = pd.to_datetime(data2.Date)\n",
        "\n",
        "data2 = data2[data2.Date > data1.Date.max()]\n",
        "data2 = data2.sort_values('Date').rename(columns={'Close/Last':'Close'})\n",
        "\n",
        "data2.head()"
      ]
    },
    {
      "cell_type": "code",
      "execution_count": 27,
      "metadata": {
        "colab": {
          "base_uri": "https://localhost:8080/",
          "height": 455
        },
        "id": "tmNAwoJKPMZV",
        "outputId": "0b912f49-ed41-4816-c764-46441b6e8cfc"
      },
      "outputs": [
        {
          "output_type": "execute_result",
          "data": {
            "text/plain": [
              "                 Close  rolling_mean       Date\n",
              "Date                                           \n",
              "1995-01-03  459.109985    459.109985 1995-01-03\n",
              "1995-01-04  460.709991    460.709991 1995-01-04\n",
              "1995-01-05  460.339996    460.339996 1995-01-05\n",
              "1995-01-06  460.679993    460.679993 1995-01-06\n",
              "1995-01-07  460.829987    460.829987 1995-01-07\n",
              "...                ...           ...        ...\n",
              "1995-03-19  496.140015    496.140015 1995-03-19\n",
              "1995-03-20  496.140015    496.140015 1995-03-20\n",
              "1995-03-21  495.070007    495.070007 1995-03-21\n",
              "1995-03-22  495.670013    495.670013 1995-03-22\n",
              "1995-03-23  495.950012    495.950012 1995-03-23\n",
              "\n",
              "[80 rows x 3 columns]"
            ],
            "text/html": [
              "\n",
              "  <div id=\"df-9c01569c-eb24-4547-902d-68212dc943b9\">\n",
              "    <div class=\"colab-df-container\">\n",
              "      <div>\n",
              "<style scoped>\n",
              "    .dataframe tbody tr th:only-of-type {\n",
              "        vertical-align: middle;\n",
              "    }\n",
              "\n",
              "    .dataframe tbody tr th {\n",
              "        vertical-align: top;\n",
              "    }\n",
              "\n",
              "    .dataframe thead th {\n",
              "        text-align: right;\n",
              "    }\n",
              "</style>\n",
              "<table border=\"1\" class=\"dataframe\">\n",
              "  <thead>\n",
              "    <tr style=\"text-align: right;\">\n",
              "      <th></th>\n",
              "      <th>Close</th>\n",
              "      <th>rolling_mean</th>\n",
              "      <th>Date</th>\n",
              "    </tr>\n",
              "    <tr>\n",
              "      <th>Date</th>\n",
              "      <th></th>\n",
              "      <th></th>\n",
              "      <th></th>\n",
              "    </tr>\n",
              "  </thead>\n",
              "  <tbody>\n",
              "    <tr>\n",
              "      <th>1995-01-03</th>\n",
              "      <td>459.109985</td>\n",
              "      <td>459.109985</td>\n",
              "      <td>1995-01-03</td>\n",
              "    </tr>\n",
              "    <tr>\n",
              "      <th>1995-01-04</th>\n",
              "      <td>460.709991</td>\n",
              "      <td>460.709991</td>\n",
              "      <td>1995-01-04</td>\n",
              "    </tr>\n",
              "    <tr>\n",
              "      <th>1995-01-05</th>\n",
              "      <td>460.339996</td>\n",
              "      <td>460.339996</td>\n",
              "      <td>1995-01-05</td>\n",
              "    </tr>\n",
              "    <tr>\n",
              "      <th>1995-01-06</th>\n",
              "      <td>460.679993</td>\n",
              "      <td>460.679993</td>\n",
              "      <td>1995-01-06</td>\n",
              "    </tr>\n",
              "    <tr>\n",
              "      <th>1995-01-07</th>\n",
              "      <td>460.829987</td>\n",
              "      <td>460.829987</td>\n",
              "      <td>1995-01-07</td>\n",
              "    </tr>\n",
              "    <tr>\n",
              "      <th>...</th>\n",
              "      <td>...</td>\n",
              "      <td>...</td>\n",
              "      <td>...</td>\n",
              "    </tr>\n",
              "    <tr>\n",
              "      <th>1995-03-19</th>\n",
              "      <td>496.140015</td>\n",
              "      <td>496.140015</td>\n",
              "      <td>1995-03-19</td>\n",
              "    </tr>\n",
              "    <tr>\n",
              "      <th>1995-03-20</th>\n",
              "      <td>496.140015</td>\n",
              "      <td>496.140015</td>\n",
              "      <td>1995-03-20</td>\n",
              "    </tr>\n",
              "    <tr>\n",
              "      <th>1995-03-21</th>\n",
              "      <td>495.070007</td>\n",
              "      <td>495.070007</td>\n",
              "      <td>1995-03-21</td>\n",
              "    </tr>\n",
              "    <tr>\n",
              "      <th>1995-03-22</th>\n",
              "      <td>495.670013</td>\n",
              "      <td>495.670013</td>\n",
              "      <td>1995-03-22</td>\n",
              "    </tr>\n",
              "    <tr>\n",
              "      <th>1995-03-23</th>\n",
              "      <td>495.950012</td>\n",
              "      <td>495.950012</td>\n",
              "      <td>1995-03-23</td>\n",
              "    </tr>\n",
              "  </tbody>\n",
              "</table>\n",
              "<p>80 rows × 3 columns</p>\n",
              "</div>\n",
              "      <button class=\"colab-df-convert\" onclick=\"convertToInteractive('df-9c01569c-eb24-4547-902d-68212dc943b9')\"\n",
              "              title=\"Convert this dataframe to an interactive table.\"\n",
              "              style=\"display:none;\">\n",
              "        \n",
              "  <svg xmlns=\"http://www.w3.org/2000/svg\" height=\"24px\"viewBox=\"0 0 24 24\"\n",
              "       width=\"24px\">\n",
              "    <path d=\"M0 0h24v24H0V0z\" fill=\"none\"/>\n",
              "    <path d=\"M18.56 5.44l.94 2.06.94-2.06 2.06-.94-2.06-.94-.94-2.06-.94 2.06-2.06.94zm-11 1L8.5 8.5l.94-2.06 2.06-.94-2.06-.94L8.5 2.5l-.94 2.06-2.06.94zm10 10l.94 2.06.94-2.06 2.06-.94-2.06-.94-.94-2.06-.94 2.06-2.06.94z\"/><path d=\"M17.41 7.96l-1.37-1.37c-.4-.4-.92-.59-1.43-.59-.52 0-1.04.2-1.43.59L10.3 9.45l-7.72 7.72c-.78.78-.78 2.05 0 2.83L4 21.41c.39.39.9.59 1.41.59.51 0 1.02-.2 1.41-.59l7.78-7.78 2.81-2.81c.8-.78.8-2.07 0-2.86zM5.41 20L4 18.59l7.72-7.72 1.47 1.35L5.41 20z\"/>\n",
              "  </svg>\n",
              "      </button>\n",
              "      \n",
              "  <style>\n",
              "    .colab-df-container {\n",
              "      display:flex;\n",
              "      flex-wrap:wrap;\n",
              "      gap: 12px;\n",
              "    }\n",
              "\n",
              "    .colab-df-convert {\n",
              "      background-color: #E8F0FE;\n",
              "      border: none;\n",
              "      border-radius: 50%;\n",
              "      cursor: pointer;\n",
              "      display: none;\n",
              "      fill: #1967D2;\n",
              "      height: 32px;\n",
              "      padding: 0 0 0 0;\n",
              "      width: 32px;\n",
              "    }\n",
              "\n",
              "    .colab-df-convert:hover {\n",
              "      background-color: #E2EBFA;\n",
              "      box-shadow: 0px 1px 2px rgba(60, 64, 67, 0.3), 0px 1px 3px 1px rgba(60, 64, 67, 0.15);\n",
              "      fill: #174EA6;\n",
              "    }\n",
              "\n",
              "    [theme=dark] .colab-df-convert {\n",
              "      background-color: #3B4455;\n",
              "      fill: #D2E3FC;\n",
              "    }\n",
              "\n",
              "    [theme=dark] .colab-df-convert:hover {\n",
              "      background-color: #434B5C;\n",
              "      box-shadow: 0px 1px 3px 1px rgba(0, 0, 0, 0.15);\n",
              "      filter: drop-shadow(0px 1px 2px rgba(0, 0, 0, 0.3));\n",
              "      fill: #FFFFFF;\n",
              "    }\n",
              "  </style>\n",
              "\n",
              "      <script>\n",
              "        const buttonEl =\n",
              "          document.querySelector('#df-9c01569c-eb24-4547-902d-68212dc943b9 button.colab-df-convert');\n",
              "        buttonEl.style.display =\n",
              "          google.colab.kernel.accessAllowed ? 'block' : 'none';\n",
              "\n",
              "        async function convertToInteractive(key) {\n",
              "          const element = document.querySelector('#df-9c01569c-eb24-4547-902d-68212dc943b9');\n",
              "          const dataTable =\n",
              "            await google.colab.kernel.invokeFunction('convertToInteractive',\n",
              "                                                     [key], {});\n",
              "          if (!dataTable) return;\n",
              "\n",
              "          const docLinkHtml = 'Like what you see? Visit the ' +\n",
              "            '<a target=\"_blank\" href=https://colab.research.google.com/notebooks/data_table.ipynb>data table notebook</a>'\n",
              "            + ' to learn more about interactive tables.';\n",
              "          element.innerHTML = '';\n",
              "          dataTable['output_type'] = 'display_data';\n",
              "          await google.colab.output.renderOutput(dataTable, element);\n",
              "          const docLink = document.createElement('div');\n",
              "          docLink.innerHTML = docLinkHtml;\n",
              "          element.appendChild(docLink);\n",
              "        }\n",
              "      </script>\n",
              "    </div>\n",
              "  </div>\n",
              "  "
            ]
          },
          "metadata": {},
          "execution_count": 27
        }
      ],
      "source": [
        "data_array = [data1[['Date','Close']], data2[['Date','Close']]]\n",
        "\n",
        "df = pd.concat(data_array, ignore_index=True, sort=False)\n",
        "##fill in missing days\n",
        "df = df.set_index('Date').resample('1D').mean().bfill()\n",
        "df['rolling_mean'] = df.Close\n",
        "df['Date'] = df.index\n",
        "df = df.dropna()\n",
        "\n",
        "\n",
        "df[df.rolling_mean <500]\n"
      ]
    },
    {
      "cell_type": "code",
      "execution_count": 28,
      "metadata": {
        "colab": {
          "base_uri": "https://localhost:8080/",
          "height": 537
        },
        "id": "3EGHNLhjQR-h",
        "outputId": "85914bb2-c73f-42d2-c3ab-8919fb1511c0"
      },
      "outputs": [
        {
          "output_type": "execute_result",
          "data": {
            "text/plain": [
              "<matplotlib.axes._subplots.AxesSubplot at 0x7faf56853be0>"
            ]
          },
          "metadata": {},
          "execution_count": 28
        },
        {
          "output_type": "display_data",
          "data": {
            "text/plain": [
              "<Figure size 1008x595.44 with 1 Axes>"
            ],
            "image/png": "[encoded data removed]"
          },
          "metadata": {}
        }
      ],
      "source": [
        "sns.set(rc={'figure.figsize':(14.0,8.27)})\n",
        "sns.lineplot(data=df, x=\"Date\", y=\"rolling_mean\")"
      ]
    },
    {
      "cell_type": "code",
      "execution_count": 29,
      "metadata": {
        "colab": {
          "base_uri": "https://localhost:8080/",
          "height": 534
        },
        "id": "1oo61GpKSN0l",
        "outputId": "a1dbcbe3-d955-4c91-f9b8-716a5ada415f"
      },
      "outputs": [
        {
          "output_type": "display_data",
          "data": {
            "text/plain": [
              "<Figure size 1008x595.44 with 1 Axes>"
            ],
            "image/png": "[encoded data removed]"
          },
          "metadata": {}
        }
      ],
      "source": [
        "###calculate percentage change by year\n",
        "pcnt_change = df.copy()\n",
        "pcnt_change['year'] = df.Date.dt.year\n",
        "pcnt_change['month'] = df.Date.dt.month\n",
        "pcnt_change['day'] = df.Date.dt.day\n",
        "pcnt_change = pcnt_change.loc[(pcnt_change.month ==12) &( pcnt_change.day ==31),['year','rolling_mean']]\n",
        "pcnt_change['yr_pcnt_change'] = 100*pcnt_change['rolling_mean'].pct_change()\n",
        "pcnt_change = pcnt_change.dropna()\n",
        "\n",
        "x=pcnt_change.year\n",
        "y=pcnt_change.yr_pcnt_change\n",
        "\n",
        "profit_color = [{p< -10: 'red', -10<=p<=10: 'orange', p>8: 'green'}[True] for p in y]\n",
        "\n",
        "plt.bar(x, y, color=profit_color)\n",
        "plt.title('S&P 500 annual % change since 1927')\n",
        "plt.xticks(rotation=90)\n",
        "plt.show()"
      ]
    },
    {
      "cell_type": "markdown",
      "metadata": {
        "id": "74PgltP1gLV1"
      },
      "source": [
        "## Peform pre-processing of data for training"
      ]
    },
    {
      "cell_type": "code",
      "execution_count": 30,
      "metadata": {
        "colab": {
          "base_uri": "https://localhost:8080/"
        },
        "id": "uCOlQveWdUi7",
        "outputId": "f30e7172-d3a1-438c-e471-0a50a1e33feb"
      },
      "outputs": [
        {
          "output_type": "execute_result",
          "data": {
            "text/plain": [
              "array([[ 459.11],\n",
              "       [ 490.05],\n",
              "       [1249.05],\n",
              "       [1433.82]], dtype=float32)"
            ]
          },
          "metadata": {},
          "execution_count": 30
        }
      ],
      "source": [
        "### convert to numpy array 7day rolling average \n",
        "df = df.dropna()\n",
        "vals = df['rolling_mean'].values.reshape(-1, 1)\n",
        "vals = vals.astype('float32') #COnvert values to float\n",
        "\n",
        "vals[[0,69,5000,6500]]"
      ]
    },
    {
      "cell_type": "code",
      "execution_count": 31,
      "metadata": {
        "colab": {
          "base_uri": "https://localhost:8080/"
        },
        "id": "2X-V8ExIgQym",
        "outputId": "67fcbf89-2538-4969-9bbe-1028973344d8"
      },
      "outputs": [
        {
          "output_type": "execute_result",
          "data": {
            "text/plain": [
              "array([[0.        ],\n",
              "       [0.00713322],\n",
              "       [0.18212083],\n",
              "       [0.22471958]], dtype=float32)"
            ]
          },
          "metadata": {},
          "execution_count": 31
        }
      ],
      "source": [
        "##scale all stock prices to values between 0 and 1\n",
        "scaler = MinMaxScaler(feature_range=(0, 1)) #Also try QuantileTransformer\n",
        "vals = scaler.fit_transform(vals)\n",
        "vals[[0,69,5000,6500]]"
      ]
    },
    {
      "cell_type": "code",
      "execution_count": 32,
      "metadata": {
        "colab": {
          "base_uri": "https://localhost:8080/"
        },
        "id": "IGSuOjWxinSc",
        "outputId": "34600520-3bb7-430d-c34b-5c0c7acf1c3b"
      },
      "outputs": [
        {
          "output_type": "stream",
          "name": "stdout",
          "text": [
            "S&P500 data has been into train (7666 datapoints), validation (1329 datapoints) and test (1227 datapoints). \n",
            "Training data is from 03/01/1995 until 29/12/2015\n",
            "Validation data is from  30/12/2015 until 19/08/2019\n",
            "Testing data is from  20/08/2019 until 28/12/2022\n"
          ]
        }
      ],
      "source": [
        "##split into train-test split\n",
        "train_size = int(len(vals) * 0.75)\n",
        "validation_size = int(len(vals) * 0.88)\n",
        "test_size = len(vals) - validation_size\n",
        "train,validation, test = vals[0:train_size,:],vals[train_size:validation_size,:] ,vals[validation_size:len(vals),:]\n",
        "\n",
        "print(f\"S&P500 data has been into train ({len(train)} datapoints), validation ({len(validation)} datapoints) and test ({len(test)} datapoints). \")\n",
        "print(f\"Training data is from {df.Date[0]:%d/%m/%Y} until {df.Date[train_size-1]:%d/%m/%Y}\")\n",
        "print(f\"Validation data is from  {df.Date[train_size]:%d/%m/%Y} until {df.Date[validation_size-1]:%d/%m/%Y}\")\n",
        "print(f\"Testing data is from  {df.Date[validation_size]:%d/%m/%Y} until {df.Date[len(vals)-1]:%d/%m/%Y}\")\n",
        "\n",
        "##Test samples are after {df.Date[train_size]}\""
      ]
    },
    {
      "cell_type": "code",
      "execution_count": 33,
      "metadata": {
        "colab": {
          "base_uri": "https://localhost:8080/"
        },
        "id": "vEaLNmFe4gUY",
        "outputId": "fb6bb3c6-fe43-42a0-8877-ac09354bb7db"
      },
      "outputs": [
        {
          "output_type": "execute_result",
          "data": {
            "text/plain": [
              "True"
            ]
          },
          "metadata": {},
          "execution_count": 33
        }
      ],
      "source": [
        "len(test)+len(train)+len(validation) == len(vals)"
      ]
    },
    {
      "cell_type": "code",
      "execution_count": 34,
      "metadata": {
        "id": "EsgbQyLbwHnT"
      },
      "outputs": [],
      "source": [
        "def to_sequences(dataset, n_past, n_future):\n",
        "    x = []\n",
        "    y = []\n",
        "\n",
        "    for i in range(n_past, len(dataset) - n_future +1):\n",
        "        #print(i)\n",
        "        x.append(dataset[i - n_past:i,0])\n",
        "        y.append(dataset[i + n_future - 1:i + n_future, 0])\n",
        "        \n",
        "    return np.array(x),np.array(y)\n",
        "\n"
      ]
    },
    {
      "cell_type": "code",
      "execution_count": 35,
      "metadata": {
        "id": "ZiDFwMEIxpGe"
      },
      "outputs": [],
      "source": [
        "n_past = 182 ##16 weeks (approx 4mths) or previous data to train on\n",
        "n_future = 60 ## predict 12 weeks into the future\n",
        "\n",
        "trainX, trainY = to_sequences(train, n_past,n_future)\n",
        "validX, validY = to_sequences(validation, n_past,n_future) \n",
        "testX, testY = to_sequences(test, n_past,n_future)"
      ]
    },
    {
      "cell_type": "code",
      "execution_count": 36,
      "metadata": {
        "colab": {
          "base_uri": "https://localhost:8080/"
        },
        "id": "wSRBaob_r2ge",
        "outputId": "b7a58411-554b-4102-b365-329f0532b817"
      },
      "outputs": [
        {
          "output_type": "stream",
          "name": "stdout",
          "text": [
            "S&P500 data has been into train (7425 datapoints), validation (1088 datapoints) and test (986 datapoints). \n"
          ]
        }
      ],
      "source": [
        "##reshape data for LSTM\n",
        "trainX = np.reshape(trainX, (trainX.shape[0], 1, n_past))\n",
        "validX = np.reshape(validX, (validX.shape[0], 1, n_past))\n",
        "testX = np.reshape(testX, (testX.shape[0], 1, n_past))\n",
        "\n",
        "print(f\"S&P500 data has been into train ({len(trainX)} datapoints), validation ({len(validX)} datapoints) and test ({len(testX)} datapoints). \")\n"
      ]
    },
    {
      "cell_type": "code",
      "execution_count": 37,
      "metadata": {
        "id": "nVNq4GNAz0h_"
      },
      "outputs": [],
      "source": [
        "#print('Single LSTM with hidden Dense...')\n",
        "model = Sequential()\n",
        "model.add(LSTM(units = 300))#, return_sequences = True))\n",
        "model.add(Dropout(0.15))\n",
        "#model.add(LSTM(units = 50))\n",
        "#model.add(Dropout(0.08))\n",
        "model.add(Dense(24))\n",
        "model.add(Dense(1))\n",
        "model.compile(optimizer = 'adam', loss = 'mean_squared_error')\n"
      ]
    },
    {
      "cell_type": "code",
      "execution_count": 38,
      "metadata": {
        "colab": {
          "base_uri": "https://localhost:8080/"
        },
        "id": "qW8EN6DO2Wjp",
        "outputId": "224798ba-5f51-482c-b92e-36a607556342"
      },
      "outputs": [
        {
          "output_type": "stream",
          "name": "stdout",
          "text": [
            "Epoch 1/200\n",
            "30/30 [==============================] - 4s 51ms/step - loss: 0.0056 - val_loss: 0.0035\n",
            "Epoch 2/200\n",
            "30/30 [==============================] - 1s 31ms/step - loss: 8.1252e-04 - val_loss: 0.0034\n",
            "Epoch 3/200\n",
            "30/30 [==============================] - 1s 32ms/step - loss: 5.8789e-04 - val_loss: 0.0030\n",
            "Epoch 4/200\n",
            "30/30 [==============================] - 1s 32ms/step - loss: 5.3259e-04 - val_loss: 0.0019\n",
            "Epoch 5/200\n",
            "30/30 [==============================] - 1s 31ms/step - loss: 4.9847e-04 - val_loss: 0.0017\n",
            "Epoch 6/200\n",
            "30/30 [==============================] - 1s 32ms/step - loss: 4.4210e-04 - val_loss: 9.9045e-04\n",
            "Epoch 7/200\n",
            "30/30 [==============================] - 1s 32ms/step - loss: 4.2689e-04 - val_loss: 0.0017\n",
            "Epoch 8/200\n",
            "30/30 [==============================] - 1s 32ms/step - loss: 4.1255e-04 - val_loss: 0.0017\n",
            "Epoch 9/200\n",
            "30/30 [==============================] - 1s 33ms/step - loss: 4.0164e-04 - val_loss: 0.0019\n",
            "Epoch 10/200\n",
            "30/30 [==============================] - 1s 32ms/step - loss: 4.3851e-04 - val_loss: 9.9075e-04\n",
            "Epoch 11/200\n",
            "30/30 [==============================] - 1s 32ms/step - loss: 3.9129e-04 - val_loss: 0.0012\n",
            "Epoch 12/200\n",
            "30/30 [==============================] - 1s 32ms/step - loss: 3.7948e-04 - val_loss: 0.0029\n",
            "Epoch 13/200\n",
            "30/30 [==============================] - 1s 33ms/step - loss: 4.5837e-04 - val_loss: 9.5732e-04\n",
            "Epoch 14/200\n",
            "30/30 [==============================] - 1s 33ms/step - loss: 3.6957e-04 - val_loss: 9.7906e-04\n",
            "Epoch 15/200\n",
            "30/30 [==============================] - 1s 32ms/step - loss: 3.7691e-04 - val_loss: 0.0058\n",
            "Epoch 16/200\n",
            "30/30 [==============================] - 1s 33ms/step - loss: 6.0170e-04 - val_loss: 8.2706e-04\n",
            "Epoch 17/200\n",
            "30/30 [==============================] - 1s 32ms/step - loss: 4.0116e-04 - val_loss: 9.5962e-04\n",
            "Epoch 18/200\n",
            "30/30 [==============================] - 1s 33ms/step - loss: 3.7524e-04 - val_loss: 0.0030\n",
            "Epoch 19/200\n",
            "30/30 [==============================] - 1s 34ms/step - loss: 4.4370e-04 - val_loss: 0.0029\n",
            "Epoch 20/200\n",
            "30/30 [==============================] - 1s 33ms/step - loss: 4.3759e-04 - val_loss: 9.7917e-04\n",
            "Epoch 21/200\n",
            "30/30 [==============================] - 1s 32ms/step - loss: 3.6172e-04 - val_loss: 0.0011\n",
            "Epoch 22/200\n",
            "30/30 [==============================] - 1s 31ms/step - loss: 3.8398e-04 - val_loss: 0.0021\n",
            "Epoch 23/200\n",
            "30/30 [==============================] - 1s 32ms/step - loss: 3.7816e-04 - val_loss: 0.0010\n",
            "Epoch 24/200\n",
            "30/30 [==============================] - 1s 33ms/step - loss: 3.7096e-04 - val_loss: 0.0012\n",
            "Epoch 25/200\n",
            "30/30 [==============================] - 1s 32ms/step - loss: 3.8726e-04 - val_loss: 0.0028\n",
            "Epoch 26/200\n",
            "30/30 [==============================] - 1s 32ms/step - loss: 3.8582e-04 - val_loss: 0.0018\n",
            "Epoch 27/200\n",
            "30/30 [==============================] - 1s 32ms/step - loss: 3.6337e-04 - val_loss: 0.0011\n",
            "Epoch 28/200\n",
            "30/30 [==============================] - 1s 32ms/step - loss: 3.4705e-04 - val_loss: 0.0030\n",
            "Epoch 29/200\n",
            "30/30 [==============================] - 1s 32ms/step - loss: 3.9621e-04 - val_loss: 0.0015\n",
            "Epoch 30/200\n",
            "30/30 [==============================] - 1s 34ms/step - loss: 3.6172e-04 - val_loss: 0.0023\n",
            "Epoch 31/200\n",
            "30/30 [==============================] - 1s 32ms/step - loss: 4.1875e-04 - val_loss: 0.0044\n",
            "Epoch 32/200\n",
            "30/30 [==============================] - 1s 32ms/step - loss: 4.4893e-04 - val_loss: 0.0010\n",
            "Epoch 33/200\n",
            "30/30 [==============================] - 1s 33ms/step - loss: 3.5744e-04 - val_loss: 0.0020\n",
            "Epoch 34/200\n",
            "30/30 [==============================] - 1s 33ms/step - loss: 3.6310e-04 - val_loss: 0.0011\n",
            "Epoch 35/200\n",
            "30/30 [==============================] - 1s 32ms/step - loss: 3.4828e-04 - val_loss: 0.0010\n",
            "Epoch 36/200\n",
            "30/30 [==============================] - 1s 32ms/step - loss: 3.4004e-04 - val_loss: 0.0011\n",
            "Epoch 37/200\n",
            "30/30 [==============================] - 1s 32ms/step - loss: 3.3658e-04 - val_loss: 0.0018\n",
            "Epoch 38/200\n",
            "30/30 [==============================] - 1s 32ms/step - loss: 3.5756e-04 - val_loss: 0.0016\n",
            "Epoch 39/200\n",
            "30/30 [==============================] - 1s 32ms/step - loss: 3.5622e-04 - val_loss: 0.0112\n",
            "Epoch 40/200\n",
            "30/30 [==============================] - 1s 33ms/step - loss: 6.8639e-04 - val_loss: 0.0030\n",
            "Epoch 41/200\n",
            "30/30 [==============================] - 1s 32ms/step - loss: 4.1338e-04 - val_loss: 0.0023\n",
            "Epoch 42/200\n",
            "30/30 [==============================] - 1s 31ms/step - loss: 3.9874e-04 - val_loss: 0.0034\n",
            "Epoch 43/200\n",
            "30/30 [==============================] - 1s 30ms/step - loss: 4.8052e-04 - val_loss: 0.0028\n",
            "Epoch 44/200\n",
            "30/30 [==============================] - 1s 31ms/step - loss: 4.4754e-04 - val_loss: 0.0019\n",
            "Epoch 45/200\n",
            "30/30 [==============================] - 1s 33ms/step - loss: 3.7717e-04 - val_loss: 0.0013\n",
            "Epoch 46/200\n",
            "30/30 [==============================] - 1s 32ms/step - loss: 3.6238e-04 - val_loss: 0.0011\n",
            "Epoch 47/200\n",
            "30/30 [==============================] - 1s 32ms/step - loss: 3.4748e-04 - val_loss: 0.0021\n",
            "Epoch 48/200\n",
            "30/30 [==============================] - 1s 32ms/step - loss: 3.4968e-04 - val_loss: 0.0010\n",
            "Epoch 49/200\n",
            "30/30 [==============================] - 1s 33ms/step - loss: 3.3922e-04 - val_loss: 0.0015\n",
            "Epoch 50/200\n",
            "30/30 [==============================] - 1s 33ms/step - loss: 3.3588e-04 - val_loss: 0.0023\n",
            "Epoch 51/200\n",
            "30/30 [==============================] - 1s 33ms/step - loss: 3.5639e-04 - val_loss: 0.0029\n",
            "Epoch 52/200\n",
            "30/30 [==============================] - 1s 34ms/step - loss: 3.9167e-04 - val_loss: 0.0338\n",
            "Epoch 53/200\n",
            "30/30 [==============================] - 1s 33ms/step - loss: 0.0011 - val_loss: 8.3718e-04\n",
            "Epoch 54/200\n",
            "30/30 [==============================] - 1s 32ms/step - loss: 3.8423e-04 - val_loss: 0.0048\n",
            "Epoch 55/200\n",
            "30/30 [==============================] - 1s 34ms/step - loss: 4.8724e-04 - val_loss: 0.0021\n",
            "Epoch 56/200\n",
            "30/30 [==============================] - 1s 32ms/step - loss: 3.8983e-04 - val_loss: 9.7912e-04\n",
            "Epoch 57/200\n",
            "30/30 [==============================] - 1s 32ms/step - loss: 3.5906e-04 - val_loss: 0.0011\n",
            "Epoch 58/200\n",
            "30/30 [==============================] - 1s 32ms/step - loss: 3.4878e-04 - val_loss: 0.0020\n",
            "Epoch 59/200\n",
            "30/30 [==============================] - 1s 32ms/step - loss: 3.5256e-04 - val_loss: 0.0016\n",
            "Epoch 60/200\n",
            "30/30 [==============================] - 1s 32ms/step - loss: 3.7880e-04 - val_loss: 0.0042\n",
            "Epoch 61/200\n",
            "30/30 [==============================] - 1s 33ms/step - loss: 4.8373e-04 - val_loss: 0.0032\n",
            "Epoch 62/200\n",
            "30/30 [==============================] - 1s 31ms/step - loss: 4.0929e-04 - val_loss: 0.0015\n",
            "Epoch 63/200\n",
            "30/30 [==============================] - 1s 31ms/step - loss: 3.5928e-04 - val_loss: 0.0015\n",
            "Epoch 64/200\n",
            "30/30 [==============================] - 1s 32ms/step - loss: 4.0241e-04 - val_loss: 0.0010\n",
            "Epoch 65/200\n",
            "30/30 [==============================] - 1s 32ms/step - loss: 3.4233e-04 - val_loss: 0.0026\n",
            "Epoch 66/200\n",
            "30/30 [==============================] - 1s 32ms/step - loss: 4.4427e-04 - val_loss: 9.9804e-04\n",
            "Epoch 67/200\n",
            "30/30 [==============================] - 1s 32ms/step - loss: 3.5215e-04 - val_loss: 0.0026\n",
            "Epoch 68/200\n",
            "30/30 [==============================] - 1s 32ms/step - loss: 3.7482e-04 - val_loss: 0.0018\n",
            "Epoch 69/200\n",
            "30/30 [==============================] - 1s 32ms/step - loss: 3.3829e-04 - val_loss: 0.0013\n",
            "Epoch 70/200\n",
            "30/30 [==============================] - 1s 33ms/step - loss: 3.2887e-04 - val_loss: 0.0011\n",
            "Epoch 71/200\n",
            "30/30 [==============================] - 1s 33ms/step - loss: 3.2251e-04 - val_loss: 0.0026\n",
            "Epoch 72/200\n",
            "30/30 [==============================] - 1s 33ms/step - loss: 3.9164e-04 - val_loss: 0.0042\n",
            "Epoch 73/200\n",
            "30/30 [==============================] - 1s 32ms/step - loss: 4.5687e-04 - val_loss: 0.0016\n",
            "Epoch 74/200\n",
            "30/30 [==============================] - 1s 32ms/step - loss: 3.4554e-04 - val_loss: 0.0013\n",
            "Epoch 75/200\n",
            "30/30 [==============================] - 1s 32ms/step - loss: 3.3904e-04 - val_loss: 0.0029\n",
            "Epoch 76/200\n",
            "30/30 [==============================] - 1s 33ms/step - loss: 3.8089e-04 - val_loss: 0.0026\n",
            "Epoch 77/200\n",
            "30/30 [==============================] - 1s 32ms/step - loss: 3.7620e-04 - val_loss: 0.0013\n",
            "Epoch 78/200\n",
            "30/30 [==============================] - 1s 32ms/step - loss: 3.3880e-04 - val_loss: 0.0016\n",
            "Epoch 79/200\n",
            "30/30 [==============================] - 1s 34ms/step - loss: 3.4068e-04 - val_loss: 0.0027\n",
            "Epoch 80/200\n",
            "30/30 [==============================] - 2s 55ms/step - loss: 4.2040e-04 - val_loss: 0.0045\n",
            "Epoch 81/200\n",
            "30/30 [==============================] - 2s 60ms/step - loss: 4.0022e-04 - val_loss: 0.0017\n",
            "Epoch 82/200\n",
            "30/30 [==============================] - 2s 64ms/step - loss: 3.6898e-04 - val_loss: 0.0020\n",
            "Epoch 83/200\n",
            "30/30 [==============================] - 1s 45ms/step - loss: 3.6090e-04 - val_loss: 0.0028\n",
            "Epoch 84/200\n",
            "30/30 [==============================] - 1s 33ms/step - loss: 3.5240e-04 - val_loss: 0.0019\n",
            "Epoch 85/200\n",
            "30/30 [==============================] - 1s 33ms/step - loss: 3.6034e-04 - val_loss: 0.0011\n",
            "Epoch 86/200\n",
            "30/30 [==============================] - 1s 32ms/step - loss: 3.4298e-04 - val_loss: 0.0014\n",
            "Epoch 87/200\n",
            "30/30 [==============================] - 1s 32ms/step - loss: 3.4876e-04 - val_loss: 0.0032\n",
            "Epoch 88/200\n",
            "30/30 [==============================] - 1s 33ms/step - loss: 3.8052e-04 - val_loss: 0.0011\n",
            "Epoch 89/200\n",
            "30/30 [==============================] - 1s 33ms/step - loss: 3.5236e-04 - val_loss: 0.0031\n",
            "Epoch 90/200\n",
            "30/30 [==============================] - 1s 33ms/step - loss: 3.5940e-04 - val_loss: 0.0012\n",
            "Epoch 91/200\n",
            "29/30 [============================>.] - ETA: 0s - loss: 3.3781e-04Restoring model weights from the end of the best epoch: 16.\n",
            "30/30 [==============================] - 1s 33ms/step - loss: 3.3779e-04 - val_loss: 0.0012\n",
            "Epoch 91: early stopping\n"
          ]
        }
      ],
      "source": [
        "es = EarlyStopping(monitor='val_loss', min_delta=1e-6, patience=75, \n",
        "                       verbose=1, mode='min', restore_best_weights=True)\n",
        "\n",
        "###fit to model \n",
        "history = model.fit(trainX, trainY, validation_data=(validX, validY),\n",
        "          verbose=1, epochs=200, batch_size=256, callbacks=[es])"
      ]
    },
    {
      "cell_type": "code",
      "execution_count": 39,
      "metadata": {
        "colab": {
          "base_uri": "https://localhost:8080/"
        },
        "id": "t9SZSnQ9Anz8",
        "outputId": "c31aa2dc-d8ea-42a2-fc58-81389e469337"
      },
      "outputs": [
        {
          "output_type": "stream",
          "name": "stdout",
          "text": [
            "233/233 [==============================] - 2s 4ms/step\n",
            "34/34 [==============================] - 0s 4ms/step\n",
            "31/31 [==============================] - 0s 4ms/step\n"
          ]
        }
      ],
      "source": [
        "###use model to predict values for the validation set and testing set\n",
        "## use our original scaler to reverse_transform to return to original values (USD)\n",
        "trainPredict =  scaler.inverse_transform(model.predict(trainX).reshape(-1,1))\n",
        "validationPredict =  scaler.inverse_transform(model.predict(validX).reshape(-1,1))\n",
        "testPredict =  scaler.inverse_transform(model.predict(testX).reshape(-1,1))"
      ]
    },
    {
      "cell_type": "code",
      "execution_count": 40,
      "metadata": {
        "id": "aDtBqU03BJ3a"
      },
      "outputs": [],
      "source": [
        "## again inverse_transform to get real Y-values back to USD\n",
        "trainY = scaler.inverse_transform(trainY.reshape(-1, 1))\n",
        "validY = scaler.inverse_transform(validY.reshape(-1, 1))\n",
        "testY = scaler.inverse_transform(testY.reshape(-1, 1))"
      ]
    },
    {
      "cell_type": "markdown",
      "source": [
        "## As a best guess, use current S&P500 price, as a predictor of the price in 14 days time...\n",
        "\n",
        "-If we can beat this with our model, shows our prediction is better than just saying S&P500 price will be the same in 2 weeks"
      ],
      "metadata": {
        "id": "7f4DV9ewHjid"
      }
    },
    {
      "cell_type": "code",
      "source": [
        "def get_last_X_from_series(sequence):\n",
        "  x1 =  [sequence[i,0,n_past-1] for i in np.arange(len(sequence))]\n",
        "  x2 = np.array(x1)\n",
        "  x3 = np.reshape(x2,(-1,1))\n",
        "  x4 = scaler.inverse_transform(x3)\n",
        "\n",
        "  return x4\n",
        "\n",
        "\n",
        "train_lastX_equals_Y =  get_last_X_from_series(trainX)\n",
        "validation_lastX_equals_Y =  get_last_X_from_series(validX)\n",
        "test_lastX_equals_Y = get_last_X_from_series(testX)\n"
      ],
      "metadata": {
        "id": "wBeGaXWsFTYN"
      },
      "execution_count": 41,
      "outputs": []
    },
    {
      "cell_type": "markdown",
      "source": [
        "## Asses predictions\n",
        "\n"
      ],
      "metadata": {
        "id": "YY5YMKhzLn7H"
      }
    },
    {
      "cell_type": "code",
      "execution_count": 42,
      "metadata": {
        "id": "z-tIqaAyCBIi"
      },
      "outputs": [],
      "source": [
        "def RMSE(y_true, y_pred, prefix):\n",
        "  error = y_true-y_pred\n",
        "  squared_error = error **2\n",
        "  mean_squared_error = np.mean(squared_error)\n",
        "  root_mean_squared_error = np.sqrt(mean_squared_error)\n",
        "  return f\"{prefix} RMSE = ${root_mean_squared_error:.2f}\"\n"
      ]
    },
    {
      "cell_type": "code",
      "source": [
        "print(RMSE(trainY, train_lastX_equals_Y, 'validation_lastX_equals_Y'))\n",
        "print(RMSE(trainY, trainPredict, 'LSTM validation'))\n",
        "\n",
        "print(RMSE(validY, validation_lastX_equals_Y, 'validation_lastX_equals_Y'))\n",
        "print(RMSE(validY, validationPredict, 'LSTM validation'))\n",
        "\n",
        "print(RMSE(testY, test_lastX_equals_Y, 'test_lastX_equals_Y'))\n",
        "print(RMSE(testY, testPredict, 'LSTM test'))\n"
      ],
      "metadata": {
        "colab": {
          "base_uri": "https://localhost:8080/"
        },
        "id": "BtZlXRsaIZaI",
        "outputId": "e91265df-b2f4-4a2e-ea27-ce5d454bb74d"
      },
      "execution_count": 43,
      "outputs": [
        {
          "output_type": "stream",
          "name": "stdout",
          "text": [
            "validation_lastX_equals_Y RMSE = $76.64\n",
            "LSTM validation RMSE = $82.92\n",
            "validation_lastX_equals_Y RMSE = $119.09\n",
            "LSTM validation RMSE = $124.74\n",
            "test_lastX_equals_Y RMSE = $272.70\n",
            "LSTM test RMSE = $279.77\n"
          ]
        }
      ]
    },
    {
      "cell_type": "code",
      "source": [
        "plt.plot(testPredict, label = \"prediction\",c='red')\n",
        "plt.plot(testY, label = \"actual\",c='green')\n",
        "plt.xticks(np.arange(0, len(testY), step=n_future))\n",
        "plt.legend()\n",
        "plt.show()"
      ],
      "metadata": {
        "colab": {
          "base_uri": "https://localhost:8080/",
          "height": 500
        },
        "id": "HpPhp5W0B-qA",
        "outputId": "39cdf3c0-bffb-443a-f727-bccaa15aac0f"
      },
      "execution_count": 46,
      "outputs": [
        {
          "output_type": "display_data",
          "data": {
            "text/plain": [
              "<Figure size 1008x595.44 with 1 Axes>"
            ],
            "image/png": "[encoded data removed]"
          },
          "metadata": {}
        }
      ]
    }
  ],
  "metadata": {
    "accelerator": "GPU",
    "colab": {
      "provenance": [],
      "authorship_tag": "ABX9TyOSTNpOkX+gAXZncqfJXaaM",
      "include_colab_link": true
    },
    "gpuClass": "standard",
    "kernelspec": {
      "display_name": "Python 3",
      "name": "python3"
    },
    "language_info": {
      "name": "python"
    }
  },
  "nbformat": 4,
  "nbformat_minor": 0
}