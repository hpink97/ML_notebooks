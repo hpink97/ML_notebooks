{
  "cells": [
    {
      "cell_type": "markdown",
      "metadata": {
        "id": "view-in-github",
        "colab_type": "text"
      },
      "source": [
        "<a href=\"https://colab.research.google.com/github/hpink97/tensorflow_keras_practice/blob/main/SP500_LSTM.ipynb\" target=\"_parent\"><img src=\"https://colab.research.google.com/assets/colab-badge.svg\" alt=\"Open In Colab\"/></a>"
      ]
    },
    {
      "cell_type": "code",
      "execution_count": 1,
      "metadata": {
        "id": "r5m1z1EkJmUC"
      },
      "outputs": [],
      "source": [
        "#!pip install datapackage\n",
        "import numpy as np\n",
        "import pandas as pd\n",
        "import matplotlib.pyplot as plt\n",
        "import seaborn as sns\n",
        "\n",
        "import math\n",
        "\n",
        "from keras.callbacks import EarlyStopping\n",
        "from keras.models import Sequential\n",
        "from keras.layers import Dense, SimpleRNN, LSTM, Dropout\n",
        "from keras.preprocessing.sequence import TimeseriesGenerator\n",
        "from sklearn.preprocessing import MinMaxScaler, StandardScaler\n",
        "from sklearn.metrics import mean_squared_error\n",
        "import xgboost as xgb\n",
        "\n"
      ]
    },
    {
      "cell_type": "code",
      "execution_count": 2,
      "metadata": {
        "colab": {
          "base_uri": "https://localhost:8080/",
          "height": 206
        },
        "id": "caTx1gRXKBbD",
        "outputId": "58218956-059b-4bfe-f1dc-375d09712c99"
      },
      "outputs": [
        {
          "output_type": "execute_result",
          "data": {
            "text/plain": [
              "            Date        Open        High         Low       Close   Adj Close  \\\n",
              "15550 1990-01-02  353.399994  359.690002  351.980011  359.690002  359.690002   \n",
              "15551 1990-01-03  359.690002  360.589996  357.890015  358.760010  358.760010   \n",
              "15552 1990-01-04  358.760010  358.760010  352.890015  355.670013  355.670013   \n",
              "15553 1990-01-05  355.670013  355.670013  351.350006  352.200012  352.200012   \n",
              "15554 1990-01-08  352.200012  354.239990  350.540009  353.790009  353.790009   \n",
              "\n",
              "          Volume  \n",
              "15550  162070000  \n",
              "15551  192330000  \n",
              "15552  177000000  \n",
              "15553  158530000  \n",
              "15554  140110000  "
            ],
            "text/html": [
              "\n",
              "  <div id=\"df-cb02e8a8-efd7-42fb-807a-35d1b1195acf\">\n",
              "    <div class=\"colab-df-container\">\n",
              "      <div>\n",
              "<style scoped>\n",
              "    .dataframe tbody tr th:only-of-type {\n",
              "        vertical-align: middle;\n",
              "    }\n",
              "\n",
              "    .dataframe tbody tr th {\n",
              "        vertical-align: top;\n",
              "    }\n",
              "\n",
              "    .dataframe thead th {\n",
              "        text-align: right;\n",
              "    }\n",
              "</style>\n",
              "<table border=\"1\" class=\"dataframe\">\n",
              "  <thead>\n",
              "    <tr style=\"text-align: right;\">\n",
              "      <th></th>\n",
              "      <th>Date</th>\n",
              "      <th>Open</th>\n",
              "      <th>High</th>\n",
              "      <th>Low</th>\n",
              "      <th>Close</th>\n",
              "      <th>Adj Close</th>\n",
              "      <th>Volume</th>\n",
              "    </tr>\n",
              "  </thead>\n",
              "  <tbody>\n",
              "    <tr>\n",
              "      <th>15550</th>\n",
              "      <td>1990-01-02</td>\n",
              "      <td>353.399994</td>\n",
              "      <td>359.690002</td>\n",
              "      <td>351.980011</td>\n",
              "      <td>359.690002</td>\n",
              "      <td>359.690002</td>\n",
              "      <td>162070000</td>\n",
              "    </tr>\n",
              "    <tr>\n",
              "      <th>15551</th>\n",
              "      <td>1990-01-03</td>\n",
              "      <td>359.690002</td>\n",
              "      <td>360.589996</td>\n",
              "      <td>357.890015</td>\n",
              "      <td>358.760010</td>\n",
              "      <td>358.760010</td>\n",
              "      <td>192330000</td>\n",
              "    </tr>\n",
              "    <tr>\n",
              "      <th>15552</th>\n",
              "      <td>1990-01-04</td>\n",
              "      <td>358.760010</td>\n",
              "      <td>358.760010</td>\n",
              "      <td>352.890015</td>\n",
              "      <td>355.670013</td>\n",
              "      <td>355.670013</td>\n",
              "      <td>177000000</td>\n",
              "    </tr>\n",
              "    <tr>\n",
              "      <th>15553</th>\n",
              "      <td>1990-01-05</td>\n",
              "      <td>355.670013</td>\n",
              "      <td>355.670013</td>\n",
              "      <td>351.350006</td>\n",
              "      <td>352.200012</td>\n",
              "      <td>352.200012</td>\n",
              "      <td>158530000</td>\n",
              "    </tr>\n",
              "    <tr>\n",
              "      <th>15554</th>\n",
              "      <td>1990-01-08</td>\n",
              "      <td>352.200012</td>\n",
              "      <td>354.239990</td>\n",
              "      <td>350.540009</td>\n",
              "      <td>353.790009</td>\n",
              "      <td>353.790009</td>\n",
              "      <td>140110000</td>\n",
              "    </tr>\n",
              "  </tbody>\n",
              "</table>\n",
              "</div>\n",
              "      <button class=\"colab-df-convert\" onclick=\"convertToInteractive('df-cb02e8a8-efd7-42fb-807a-35d1b1195acf')\"\n",
              "              title=\"Convert this dataframe to an interactive table.\"\n",
              "              style=\"display:none;\">\n",
              "        \n",
              "  <svg xmlns=\"http://www.w3.org/2000/svg\" height=\"24px\"viewBox=\"0 0 24 24\"\n",
              "       width=\"24px\">\n",
              "    <path d=\"M0 0h24v24H0V0z\" fill=\"none\"/>\n",
              "    <path d=\"M18.56 5.44l.94 2.06.94-2.06 2.06-.94-2.06-.94-.94-2.06-.94 2.06-2.06.94zm-11 1L8.5 8.5l.94-2.06 2.06-.94-2.06-.94L8.5 2.5l-.94 2.06-2.06.94zm10 10l.94 2.06.94-2.06 2.06-.94-2.06-.94-.94-2.06-.94 2.06-2.06.94z\"/><path d=\"M17.41 7.96l-1.37-1.37c-.4-.4-.92-.59-1.43-.59-.52 0-1.04.2-1.43.59L10.3 9.45l-7.72 7.72c-.78.78-.78 2.05 0 2.83L4 21.41c.39.39.9.59 1.41.59.51 0 1.02-.2 1.41-.59l7.78-7.78 2.81-2.81c.8-.78.8-2.07 0-2.86zM5.41 20L4 18.59l7.72-7.72 1.47 1.35L5.41 20z\"/>\n",
              "  </svg>\n",
              "      </button>\n",
              "      \n",
              "  <style>\n",
              "    .colab-df-container {\n",
              "      display:flex;\n",
              "      flex-wrap:wrap;\n",
              "      gap: 12px;\n",
              "    }\n",
              "\n",
              "    .colab-df-convert {\n",
              "      background-color: #E8F0FE;\n",
              "      border: none;\n",
              "      border-radius: 50%;\n",
              "      cursor: pointer;\n",
              "      display: none;\n",
              "      fill: #1967D2;\n",
              "      height: 32px;\n",
              "      padding: 0 0 0 0;\n",
              "      width: 32px;\n",
              "    }\n",
              "\n",
              "    .colab-df-convert:hover {\n",
              "      background-color: #E2EBFA;\n",
              "      box-shadow: 0px 1px 2px rgba(60, 64, 67, 0.3), 0px 1px 3px 1px rgba(60, 64, 67, 0.15);\n",
              "      fill: #174EA6;\n",
              "    }\n",
              "\n",
              "    [theme=dark] .colab-df-convert {\n",
              "      background-color: #3B4455;\n",
              "      fill: #D2E3FC;\n",
              "    }\n",
              "\n",
              "    [theme=dark] .colab-df-convert:hover {\n",
              "      background-color: #434B5C;\n",
              "      box-shadow: 0px 1px 3px 1px rgba(0, 0, 0, 0.15);\n",
              "      filter: drop-shadow(0px 1px 2px rgba(0, 0, 0, 0.3));\n",
              "      fill: #FFFFFF;\n",
              "    }\n",
              "  </style>\n",
              "\n",
              "      <script>\n",
              "        const buttonEl =\n",
              "          document.querySelector('#df-cb02e8a8-efd7-42fb-807a-35d1b1195acf button.colab-df-convert');\n",
              "        buttonEl.style.display =\n",
              "          google.colab.kernel.accessAllowed ? 'block' : 'none';\n",
              "\n",
              "        async function convertToInteractive(key) {\n",
              "          const element = document.querySelector('#df-cb02e8a8-efd7-42fb-807a-35d1b1195acf');\n",
              "          const dataTable =\n",
              "            await google.colab.kernel.invokeFunction('convertToInteractive',\n",
              "                                                     [key], {});\n",
              "          if (!dataTable) return;\n",
              "\n",
              "          const docLinkHtml = 'Like what you see? Visit the ' +\n",
              "            '<a target=\"_blank\" href=https://colab.research.google.com/notebooks/data_table.ipynb>data table notebook</a>'\n",
              "            + ' to learn more about interactive tables.';\n",
              "          element.innerHTML = '';\n",
              "          dataTable['output_type'] = 'display_data';\n",
              "          await google.colab.output.renderOutput(dataTable, element);\n",
              "          const docLink = document.createElement('div');\n",
              "          docLink.innerHTML = docLinkHtml;\n",
              "          element.appendChild(docLink);\n",
              "        }\n",
              "      </script>\n",
              "    </div>\n",
              "  </div>\n",
              "  "
            ]
          },
          "metadata": {},
          "execution_count": 2
        }
      ],
      "source": [
        "data1 = pd.read_csv('https://raw.githubusercontent.com/hpink97/tensorflow_keras_practice/main/sp500_1927_2020.csv')\n",
        "data1.Date = pd.to_datetime(data1.Date)\n",
        "data1 = data1[data1.Date >='1990-01-01']\n",
        "\n",
        "data1.head()"
      ]
    },
    {
      "cell_type": "code",
      "execution_count": 3,
      "metadata": {
        "colab": {
          "base_uri": "https://localhost:8080/",
          "height": 206
        },
        "id": "QQZnYrSSOHQe",
        "outputId": "ed8f6c23-9f23-428f-92bd-a679304b8f5c"
      },
      "outputs": [
        {
          "output_type": "execute_result",
          "data": {
            "text/plain": [
              "          Date    Close Volume     Open     High      Low\n",
              "539 2020-11-05  3510.45     --  3485.74  3529.05  3485.74\n",
              "538 2020-11-06  3509.44     --  3508.34  3521.58  3484.34\n",
              "537 2020-11-09  3550.50     --  3583.04  3645.99  3547.48\n",
              "536 2020-11-10  3545.53     --  3543.26  3557.22  3511.91\n",
              "535 2020-11-11  3572.66     --  3563.22  3581.16  3557.00"
            ],
            "text/html": [
              "\n",
              "  <div id=\"df-5b57f84e-47db-4cd3-b89e-b299901b2677\">\n",
              "    <div class=\"colab-df-container\">\n",
              "      <div>\n",
              "<style scoped>\n",
              "    .dataframe tbody tr th:only-of-type {\n",
              "        vertical-align: middle;\n",
              "    }\n",
              "\n",
              "    .dataframe tbody tr th {\n",
              "        vertical-align: top;\n",
              "    }\n",
              "\n",
              "    .dataframe thead th {\n",
              "        text-align: right;\n",
              "    }\n",
              "</style>\n",
              "<table border=\"1\" class=\"dataframe\">\n",
              "  <thead>\n",
              "    <tr style=\"text-align: right;\">\n",
              "      <th></th>\n",
              "      <th>Date</th>\n",
              "      <th>Close</th>\n",
              "      <th>Volume</th>\n",
              "      <th>Open</th>\n",
              "      <th>High</th>\n",
              "      <th>Low</th>\n",
              "    </tr>\n",
              "  </thead>\n",
              "  <tbody>\n",
              "    <tr>\n",
              "      <th>539</th>\n",
              "      <td>2020-11-05</td>\n",
              "      <td>3510.45</td>\n",
              "      <td>--</td>\n",
              "      <td>3485.74</td>\n",
              "      <td>3529.05</td>\n",
              "      <td>3485.74</td>\n",
              "    </tr>\n",
              "    <tr>\n",
              "      <th>538</th>\n",
              "      <td>2020-11-06</td>\n",
              "      <td>3509.44</td>\n",
              "      <td>--</td>\n",
              "      <td>3508.34</td>\n",
              "      <td>3521.58</td>\n",
              "      <td>3484.34</td>\n",
              "    </tr>\n",
              "    <tr>\n",
              "      <th>537</th>\n",
              "      <td>2020-11-09</td>\n",
              "      <td>3550.50</td>\n",
              "      <td>--</td>\n",
              "      <td>3583.04</td>\n",
              "      <td>3645.99</td>\n",
              "      <td>3547.48</td>\n",
              "    </tr>\n",
              "    <tr>\n",
              "      <th>536</th>\n",
              "      <td>2020-11-10</td>\n",
              "      <td>3545.53</td>\n",
              "      <td>--</td>\n",
              "      <td>3543.26</td>\n",
              "      <td>3557.22</td>\n",
              "      <td>3511.91</td>\n",
              "    </tr>\n",
              "    <tr>\n",
              "      <th>535</th>\n",
              "      <td>2020-11-11</td>\n",
              "      <td>3572.66</td>\n",
              "      <td>--</td>\n",
              "      <td>3563.22</td>\n",
              "      <td>3581.16</td>\n",
              "      <td>3557.00</td>\n",
              "    </tr>\n",
              "  </tbody>\n",
              "</table>\n",
              "</div>\n",
              "      <button class=\"colab-df-convert\" onclick=\"convertToInteractive('df-5b57f84e-47db-4cd3-b89e-b299901b2677')\"\n",
              "              title=\"Convert this dataframe to an interactive table.\"\n",
              "              style=\"display:none;\">\n",
              "        \n",
              "  <svg xmlns=\"http://www.w3.org/2000/svg\" height=\"24px\"viewBox=\"0 0 24 24\"\n",
              "       width=\"24px\">\n",
              "    <path d=\"M0 0h24v24H0V0z\" fill=\"none\"/>\n",
              "    <path d=\"M18.56 5.44l.94 2.06.94-2.06 2.06-.94-2.06-.94-.94-2.06-.94 2.06-2.06.94zm-11 1L8.5 8.5l.94-2.06 2.06-.94-2.06-.94L8.5 2.5l-.94 2.06-2.06.94zm10 10l.94 2.06.94-2.06 2.06-.94-2.06-.94-.94-2.06-.94 2.06-2.06.94z\"/><path d=\"M17.41 7.96l-1.37-1.37c-.4-.4-.92-.59-1.43-.59-.52 0-1.04.2-1.43.59L10.3 9.45l-7.72 7.72c-.78.78-.78 2.05 0 2.83L4 21.41c.39.39.9.59 1.41.59.51 0 1.02-.2 1.41-.59l7.78-7.78 2.81-2.81c.8-.78.8-2.07 0-2.86zM5.41 20L4 18.59l7.72-7.72 1.47 1.35L5.41 20z\"/>\n",
              "  </svg>\n",
              "      </button>\n",
              "      \n",
              "  <style>\n",
              "    .colab-df-container {\n",
              "      display:flex;\n",
              "      flex-wrap:wrap;\n",
              "      gap: 12px;\n",
              "    }\n",
              "\n",
              "    .colab-df-convert {\n",
              "      background-color: #E8F0FE;\n",
              "      border: none;\n",
              "      border-radius: 50%;\n",
              "      cursor: pointer;\n",
              "      display: none;\n",
              "      fill: #1967D2;\n",
              "      height: 32px;\n",
              "      padding: 0 0 0 0;\n",
              "      width: 32px;\n",
              "    }\n",
              "\n",
              "    .colab-df-convert:hover {\n",
              "      background-color: #E2EBFA;\n",
              "      box-shadow: 0px 1px 2px rgba(60, 64, 67, 0.3), 0px 1px 3px 1px rgba(60, 64, 67, 0.15);\n",
              "      fill: #174EA6;\n",
              "    }\n",
              "\n",
              "    [theme=dark] .colab-df-convert {\n",
              "      background-color: #3B4455;\n",
              "      fill: #D2E3FC;\n",
              "    }\n",
              "\n",
              "    [theme=dark] .colab-df-convert:hover {\n",
              "      background-color: #434B5C;\n",
              "      box-shadow: 0px 1px 3px 1px rgba(0, 0, 0, 0.15);\n",
              "      filter: drop-shadow(0px 1px 2px rgba(0, 0, 0, 0.3));\n",
              "      fill: #FFFFFF;\n",
              "    }\n",
              "  </style>\n",
              "\n",
              "      <script>\n",
              "        const buttonEl =\n",
              "          document.querySelector('#df-5b57f84e-47db-4cd3-b89e-b299901b2677 button.colab-df-convert');\n",
              "        buttonEl.style.display =\n",
              "          google.colab.kernel.accessAllowed ? 'block' : 'none';\n",
              "\n",
              "        async function convertToInteractive(key) {\n",
              "          const element = document.querySelector('#df-5b57f84e-47db-4cd3-b89e-b299901b2677');\n",
              "          const dataTable =\n",
              "            await google.colab.kernel.invokeFunction('convertToInteractive',\n",
              "                                                     [key], {});\n",
              "          if (!dataTable) return;\n",
              "\n",
              "          const docLinkHtml = 'Like what you see? Visit the ' +\n",
              "            '<a target=\"_blank\" href=https://colab.research.google.com/notebooks/data_table.ipynb>data table notebook</a>'\n",
              "            + ' to learn more about interactive tables.';\n",
              "          element.innerHTML = '';\n",
              "          dataTable['output_type'] = 'display_data';\n",
              "          await google.colab.output.renderOutput(dataTable, element);\n",
              "          const docLink = document.createElement('div');\n",
              "          docLink.innerHTML = docLinkHtml;\n",
              "          element.appendChild(docLink);\n",
              "        }\n",
              "      </script>\n",
              "    </div>\n",
              "  </div>\n",
              "  "
            ]
          },
          "metadata": {},
          "execution_count": 3
        }
      ],
      "source": [
        "data2 = pd.read_csv('https://raw.githubusercontent.com/hpink97/tensorflow_keras_practice/main/sp500_2012_2022.csv')\n",
        "data2.Date = pd.to_datetime(data2.Date)\n",
        "\n",
        "data2 = data2[data2.Date > data1.Date.max()]\n",
        "data2 = data2.sort_values('Date').rename(columns={'Close/Last':'Close'})\n",
        "\n",
        "data2.head()"
      ]
    },
    {
      "cell_type": "code",
      "execution_count": 4,
      "metadata": {
        "colab": {
          "base_uri": "https://localhost:8080/",
          "height": 455
        },
        "id": "tmNAwoJKPMZV",
        "outputId": "efa02490-cb37-435e-c3ad-30ed88049b55"
      },
      "outputs": [
        {
          "output_type": "execute_result",
          "data": {
            "text/plain": [
              "                 Close  rolling_mean       Date\n",
              "Date                                           \n",
              "1990-01-02  359.690002    359.690002 1990-01-02\n",
              "1990-01-03  358.760010    358.760010 1990-01-03\n",
              "1990-01-04  355.670013    355.670013 1990-01-04\n",
              "1990-01-05  352.200012    352.200012 1990-01-05\n",
              "1990-01-06  353.790009    353.790009 1990-01-06\n",
              "...                ...           ...        ...\n",
              "1995-03-19  496.140015    496.140015 1995-03-19\n",
              "1995-03-20  496.140015    496.140015 1995-03-20\n",
              "1995-03-21  495.070007    495.070007 1995-03-21\n",
              "1995-03-22  495.670013    495.670013 1995-03-22\n",
              "1995-03-23  495.950012    495.950012 1995-03-23\n",
              "\n",
              "[1907 rows x 3 columns]"
            ],
            "text/html": [
              "\n",
              "  <div id=\"df-49aad629-c0b8-4ee1-966e-6165219b8c93\">\n",
              "    <div class=\"colab-df-container\">\n",
              "      <div>\n",
              "<style scoped>\n",
              "    .dataframe tbody tr th:only-of-type {\n",
              "        vertical-align: middle;\n",
              "    }\n",
              "\n",
              "    .dataframe tbody tr th {\n",
              "        vertical-align: top;\n",
              "    }\n",
              "\n",
              "    .dataframe thead th {\n",
              "        text-align: right;\n",
              "    }\n",
              "</style>\n",
              "<table border=\"1\" class=\"dataframe\">\n",
              "  <thead>\n",
              "    <tr style=\"text-align: right;\">\n",
              "      <th></th>\n",
              "      <th>Close</th>\n",
              "      <th>rolling_mean</th>\n",
              "      <th>Date</th>\n",
              "    </tr>\n",
              "    <tr>\n",
              "      <th>Date</th>\n",
              "      <th></th>\n",
              "      <th></th>\n",
              "      <th></th>\n",
              "    </tr>\n",
              "  </thead>\n",
              "  <tbody>\n",
              "    <tr>\n",
              "      <th>1990-01-02</th>\n",
              "      <td>359.690002</td>\n",
              "      <td>359.690002</td>\n",
              "      <td>1990-01-02</td>\n",
              "    </tr>\n",
              "    <tr>\n",
              "      <th>1990-01-03</th>\n",
              "      <td>358.760010</td>\n",
              "      <td>358.760010</td>\n",
              "      <td>1990-01-03</td>\n",
              "    </tr>\n",
              "    <tr>\n",
              "      <th>1990-01-04</th>\n",
              "      <td>355.670013</td>\n",
              "      <td>355.670013</td>\n",
              "      <td>1990-01-04</td>\n",
              "    </tr>\n",
              "    <tr>\n",
              "      <th>1990-01-05</th>\n",
              "      <td>352.200012</td>\n",
              "      <td>352.200012</td>\n",
              "      <td>1990-01-05</td>\n",
              "    </tr>\n",
              "    <tr>\n",
              "      <th>1990-01-06</th>\n",
              "      <td>353.790009</td>\n",
              "      <td>353.790009</td>\n",
              "      <td>1990-01-06</td>\n",
              "    </tr>\n",
              "    <tr>\n",
              "      <th>...</th>\n",
              "      <td>...</td>\n",
              "      <td>...</td>\n",
              "      <td>...</td>\n",
              "    </tr>\n",
              "    <tr>\n",
              "      <th>1995-03-19</th>\n",
              "      <td>496.140015</td>\n",
              "      <td>496.140015</td>\n",
              "      <td>1995-03-19</td>\n",
              "    </tr>\n",
              "    <tr>\n",
              "      <th>1995-03-20</th>\n",
              "      <td>496.140015</td>\n",
              "      <td>496.140015</td>\n",
              "      <td>1995-03-20</td>\n",
              "    </tr>\n",
              "    <tr>\n",
              "      <th>1995-03-21</th>\n",
              "      <td>495.070007</td>\n",
              "      <td>495.070007</td>\n",
              "      <td>1995-03-21</td>\n",
              "    </tr>\n",
              "    <tr>\n",
              "      <th>1995-03-22</th>\n",
              "      <td>495.670013</td>\n",
              "      <td>495.670013</td>\n",
              "      <td>1995-03-22</td>\n",
              "    </tr>\n",
              "    <tr>\n",
              "      <th>1995-03-23</th>\n",
              "      <td>495.950012</td>\n",
              "      <td>495.950012</td>\n",
              "      <td>1995-03-23</td>\n",
              "    </tr>\n",
              "  </tbody>\n",
              "</table>\n",
              "<p>1907 rows × 3 columns</p>\n",
              "</div>\n",
              "      <button class=\"colab-df-convert\" onclick=\"convertToInteractive('df-49aad629-c0b8-4ee1-966e-6165219b8c93')\"\n",
              "              title=\"Convert this dataframe to an interactive table.\"\n",
              "              style=\"display:none;\">\n",
              "        \n",
              "  <svg xmlns=\"http://www.w3.org/2000/svg\" height=\"24px\"viewBox=\"0 0 24 24\"\n",
              "       width=\"24px\">\n",
              "    <path d=\"M0 0h24v24H0V0z\" fill=\"none\"/>\n",
              "    <path d=\"M18.56 5.44l.94 2.06.94-2.06 2.06-.94-2.06-.94-.94-2.06-.94 2.06-2.06.94zm-11 1L8.5 8.5l.94-2.06 2.06-.94-2.06-.94L8.5 2.5l-.94 2.06-2.06.94zm10 10l.94 2.06.94-2.06 2.06-.94-2.06-.94-.94-2.06-.94 2.06-2.06.94z\"/><path d=\"M17.41 7.96l-1.37-1.37c-.4-.4-.92-.59-1.43-.59-.52 0-1.04.2-1.43.59L10.3 9.45l-7.72 7.72c-.78.78-.78 2.05 0 2.83L4 21.41c.39.39.9.59 1.41.59.51 0 1.02-.2 1.41-.59l7.78-7.78 2.81-2.81c.8-.78.8-2.07 0-2.86zM5.41 20L4 18.59l7.72-7.72 1.47 1.35L5.41 20z\"/>\n",
              "  </svg>\n",
              "      </button>\n",
              "      \n",
              "  <style>\n",
              "    .colab-df-container {\n",
              "      display:flex;\n",
              "      flex-wrap:wrap;\n",
              "      gap: 12px;\n",
              "    }\n",
              "\n",
              "    .colab-df-convert {\n",
              "      background-color: #E8F0FE;\n",
              "      border: none;\n",
              "      border-radius: 50%;\n",
              "      cursor: pointer;\n",
              "      display: none;\n",
              "      fill: #1967D2;\n",
              "      height: 32px;\n",
              "      padding: 0 0 0 0;\n",
              "      width: 32px;\n",
              "    }\n",
              "\n",
              "    .colab-df-convert:hover {\n",
              "      background-color: #E2EBFA;\n",
              "      box-shadow: 0px 1px 2px rgba(60, 64, 67, 0.3), 0px 1px 3px 1px rgba(60, 64, 67, 0.15);\n",
              "      fill: #174EA6;\n",
              "    }\n",
              "\n",
              "    [theme=dark] .colab-df-convert {\n",
              "      background-color: #3B4455;\n",
              "      fill: #D2E3FC;\n",
              "    }\n",
              "\n",
              "    [theme=dark] .colab-df-convert:hover {\n",
              "      background-color: #434B5C;\n",
              "      box-shadow: 0px 1px 3px 1px rgba(0, 0, 0, 0.15);\n",
              "      filter: drop-shadow(0px 1px 2px rgba(0, 0, 0, 0.3));\n",
              "      fill: #FFFFFF;\n",
              "    }\n",
              "  </style>\n",
              "\n",
              "      <script>\n",
              "        const buttonEl =\n",
              "          document.querySelector('#df-49aad629-c0b8-4ee1-966e-6165219b8c93 button.colab-df-convert');\n",
              "        buttonEl.style.display =\n",
              "          google.colab.kernel.accessAllowed ? 'block' : 'none';\n",
              "\n",
              "        async function convertToInteractive(key) {\n",
              "          const element = document.querySelector('#df-49aad629-c0b8-4ee1-966e-6165219b8c93');\n",
              "          const dataTable =\n",
              "            await google.colab.kernel.invokeFunction('convertToInteractive',\n",
              "                                                     [key], {});\n",
              "          if (!dataTable) return;\n",
              "\n",
              "          const docLinkHtml = 'Like what you see? Visit the ' +\n",
              "            '<a target=\"_blank\" href=https://colab.research.google.com/notebooks/data_table.ipynb>data table notebook</a>'\n",
              "            + ' to learn more about interactive tables.';\n",
              "          element.innerHTML = '';\n",
              "          dataTable['output_type'] = 'display_data';\n",
              "          await google.colab.output.renderOutput(dataTable, element);\n",
              "          const docLink = document.createElement('div');\n",
              "          docLink.innerHTML = docLinkHtml;\n",
              "          element.appendChild(docLink);\n",
              "        }\n",
              "      </script>\n",
              "    </div>\n",
              "  </div>\n",
              "  "
            ]
          },
          "metadata": {},
          "execution_count": 4
        }
      ],
      "source": [
        "data_array = [data1[['Date','Close']], data2[['Date','Close']]]\n",
        "\n",
        "df = pd.concat(data_array, ignore_index=True, sort=False)\n",
        "##fill in missing days\n",
        "df = df.set_index('Date').resample('1D').mean().bfill()\n",
        "df['rolling_mean'] = df.Close\n",
        "df['Date'] = df.index\n",
        "df = df.dropna()\n",
        "\n",
        "\n",
        "df[df.rolling_mean <500]\n"
      ]
    },
    {
      "cell_type": "code",
      "execution_count": 5,
      "metadata": {
        "colab": {
          "base_uri": "https://localhost:8080/",
          "height": 536
        },
        "id": "3EGHNLhjQR-h",
        "outputId": "bd131957-0411-4c6e-a4fb-df7f7bd07efa"
      },
      "outputs": [
        {
          "output_type": "execute_result",
          "data": {
            "text/plain": [
              "<matplotlib.axes._subplots.AxesSubplot at 0x7f3b37a2b610>"
            ]
          },
          "metadata": {},
          "execution_count": 5
        },
        {
          "output_type": "display_data",
          "data": {
            "text/plain": [
              "<Figure size 1008x595.44 with 1 Axes>"
            ],
            "image/png": "[encoded data removed]"
          },
          "metadata": {}
        }
      ],
      "source": [
        "sns.set(rc={'figure.figsize':(14.0,8.27)})\n",
        "sns.lineplot(data=df, x=\"Date\", y=\"rolling_mean\")"
      ]
    },
    {
      "cell_type": "code",
      "execution_count": 6,
      "metadata": {
        "colab": {
          "base_uri": "https://localhost:8080/",
          "height": 534
        },
        "id": "1oo61GpKSN0l",
        "outputId": "28281404-2a5b-416d-c124-e983aa08e6eb"
      },
      "outputs": [
        {
          "output_type": "display_data",
          "data": {
            "text/plain": [
              "<Figure size 1008x595.44 with 1 Axes>"
            ],
            "image/png": "[encoded data removed]"
          },
          "metadata": {}
        }
      ],
      "source": [
        "###calculate percentage change by year\n",
        "pcnt_change = df.copy()\n",
        "pcnt_change['year'] = df.Date.dt.year\n",
        "pcnt_change['month'] = df.Date.dt.month\n",
        "pcnt_change['day'] = df.Date.dt.day\n",
        "pcnt_change = pcnt_change.loc[(pcnt_change.month ==12) &( pcnt_change.day ==31),['year','rolling_mean']]\n",
        "pcnt_change['yr_pcnt_change'] = 100*pcnt_change['rolling_mean'].pct_change()\n",
        "pcnt_change = pcnt_change.dropna()\n",
        "\n",
        "x=pcnt_change.year\n",
        "y=pcnt_change.yr_pcnt_change\n",
        "\n",
        "profit_color = [{p< -10: 'red', -10<=p<=10: 'orange', p>8: 'green'}[True] for p in y]\n",
        "\n",
        "plt.bar(x, y, color=profit_color)\n",
        "plt.title('S&P 500 annual % change since 1927')\n",
        "plt.xticks(rotation=90)\n",
        "plt.show()"
      ]
    },
    {
      "cell_type": "markdown",
      "metadata": {
        "id": "74PgltP1gLV1"
      },
      "source": [
        "## Peform pre-processing of data for training"
      ]
    },
    {
      "cell_type": "code",
      "execution_count": 7,
      "metadata": {
        "colab": {
          "base_uri": "https://localhost:8080/"
        },
        "id": "uCOlQveWdUi7",
        "outputId": "aef61143-a39b-4d79-b535-05039043655a"
      },
      "outputs": [
        {
          "output_type": "execute_result",
          "data": {
            "text/plain": [
              "array([[ 359.69],\n",
              "       [ 338.67],\n",
              "       [1016.42],\n",
              "       [1506.33]], dtype=float32)"
            ]
          },
          "metadata": {},
          "execution_count": 7
        }
      ],
      "source": [
        "### convert to numpy array 7day rolling average \n",
        "df = df.dropna()\n",
        "vals = df['rolling_mean'].values.reshape(-1, 1)\n",
        "vals = vals.astype('float32') #COnvert values to float\n",
        "\n",
        "vals[[0,69,5000,6500]]"
      ]
    },
    {
      "cell_type": "code",
      "execution_count": 8,
      "metadata": {
        "colab": {
          "base_uri": "https://localhost:8080/"
        },
        "id": "2X-V8ExIgQym",
        "outputId": "77059546-a7ba-47fb-edf9-1c705bcfffdc"
      },
      "outputs": [
        {
          "output_type": "execute_result",
          "data": {
            "text/plain": [
              "array([[0.01426985],\n",
              "       [0.00959988],\n",
              "       [0.16017418],\n",
              "       [0.26901644]], dtype=float32)"
            ]
          },
          "metadata": {},
          "execution_count": 8
        }
      ],
      "source": [
        "##scale all stock prices to values between 0 and 1\n",
        "scaler = MinMaxScaler(feature_range=(0, 1)) #Also try QuantileTransformer\n",
        "vals = scaler.fit_transform(vals)\n",
        "vals[[0,69,5000,6500]]"
      ]
    },
    {
      "cell_type": "code",
      "execution_count": 9,
      "metadata": {
        "colab": {
          "base_uri": "https://localhost:8080/"
        },
        "id": "IGSuOjWxinSc",
        "outputId": "ddd904a8-8102-44aa-98ac-4bc0c3f6f80f"
      },
      "outputs": [
        {
          "output_type": "stream",
          "name": "stdout",
          "text": [
            "S&P500 data has been into train (9036 datapoints), validation (1567 datapoints) and test (1446 datapoints). \n",
            "Training data is from 02/01/1990 until 28/09/2014\n",
            "Validation data is from  29/09/2014 until 12/01/2019\n",
            "Testing data is from  13/01/2019 until 28/12/2022\n"
          ]
        }
      ],
      "source": [
        "##split into train-test split\n",
        "train_size = int(len(vals) * 0.75)\n",
        "validation_size = int(len(vals) * 0.88)\n",
        "test_size = len(vals) - validation_size\n",
        "train,validation, test = vals[0:train_size,:],vals[train_size:validation_size,:] ,vals[validation_size:len(vals),:]\n",
        "\n",
        "print(f\"S&P500 data has been into train ({len(train)} datapoints), validation ({len(validation)} datapoints) and test ({len(test)} datapoints). \")\n",
        "print(f\"Training data is from {df.Date[0]:%d/%m/%Y} until {df.Date[train_size-1]:%d/%m/%Y}\")\n",
        "print(f\"Validation data is from  {df.Date[train_size]:%d/%m/%Y} until {df.Date[validation_size-1]:%d/%m/%Y}\")\n",
        "print(f\"Testing data is from  {df.Date[validation_size]:%d/%m/%Y} until {df.Date[len(vals)-1]:%d/%m/%Y}\")\n",
        "\n",
        "##Test samples are after {df.Date[train_size]}\""
      ]
    },
    {
      "cell_type": "code",
      "execution_count": 10,
      "metadata": {
        "colab": {
          "base_uri": "https://localhost:8080/"
        },
        "id": "vEaLNmFe4gUY",
        "outputId": "49d2e609-7608-4944-fe2a-0f6f34513240"
      },
      "outputs": [
        {
          "output_type": "execute_result",
          "data": {
            "text/plain": [
              "True"
            ]
          },
          "metadata": {},
          "execution_count": 10
        }
      ],
      "source": [
        "len(test)+len(train)+len(validation) == len(vals)"
      ]
    },
    {
      "cell_type": "code",
      "execution_count": 11,
      "metadata": {
        "id": "EsgbQyLbwHnT"
      },
      "outputs": [],
      "source": [
        "def to_sequences(dataset, n_past, n_future):\n",
        "    x = []\n",
        "    y = []\n",
        "\n",
        "    for i in range(n_past, len(dataset) - n_future +1):\n",
        "        #print(i)\n",
        "        x.append(dataset[i - n_past:i,0])\n",
        "        y.append(dataset[i + n_future - 1:i + n_future, 0])\n",
        "        \n",
        "    return np.array(x),np.array(y)\n",
        "\n"
      ]
    },
    {
      "cell_type": "code",
      "execution_count": 12,
      "metadata": {
        "id": "ZiDFwMEIxpGe"
      },
      "outputs": [],
      "source": [
        "n_past = 35 ##7 weeks (approx 6mths) or previous data to train on\n",
        "n_future = 14 ## predict two weeks into the future\n",
        "\n",
        "trainX, trainY = to_sequences(train, n_past,n_future)\n",
        "validX, validY = to_sequences(validation, n_past,n_future) \n",
        "testX, testY = to_sequences(test, n_past,n_future)"
      ]
    },
    {
      "cell_type": "code",
      "execution_count": 13,
      "metadata": {
        "colab": {
          "base_uri": "https://localhost:8080/"
        },
        "id": "wSRBaob_r2ge",
        "outputId": "cf8d6ea4-3116-4ba5-cae0-c7d3154038bb"
      },
      "outputs": [
        {
          "output_type": "stream",
          "name": "stdout",
          "text": [
            "S&P500 data has been into train (8988 datapoints), validation (1519 datapoints) and test (1398 datapoints). \n"
          ]
        }
      ],
      "source": [
        "##reshape data for LSTM\n",
        "trainX = np.reshape(trainX, (trainX.shape[0], 1, n_past))\n",
        "validX = np.reshape(validX, (validX.shape[0], 1, n_past))\n",
        "testX = np.reshape(testX, (testX.shape[0], 1, n_past))\n",
        "\n",
        "print(f\"S&P500 data has been into train ({len(trainX)} datapoints), validation ({len(validX)} datapoints) and test ({len(testX)} datapoints). \")\n"
      ]
    },
    {
      "cell_type": "code",
      "execution_count": 14,
      "metadata": {
        "colab": {
          "base_uri": "https://localhost:8080/"
        },
        "id": "nVNq4GNAz0h_",
        "outputId": "745fe0b3-6638-4c14-e7a6-26b808a23a47"
      },
      "outputs": [
        {
          "output_type": "stream",
          "name": "stdout",
          "text": [
            "Model: \"sequential\"\n",
            "_________________________________________________________________\n",
            " Layer (type)                Output Shape              Param #   \n",
            "=================================================================\n",
            " lstm (LSTM)                 (None, 50)                17200     \n",
            "                                                                 \n",
            " dropout (Dropout)           (None, 50)                0         \n",
            "                                                                 \n",
            " dense (Dense)               (None, 12)                612       \n",
            "                                                                 \n",
            " dense_1 (Dense)             (None, 1)                 13        \n",
            "                                                                 \n",
            "=================================================================\n",
            "Total params: 17,825\n",
            "Trainable params: 17,825\n",
            "Non-trainable params: 0\n",
            "_________________________________________________________________\n"
          ]
        }
      ],
      "source": [
        "#print('Single LSTM with hidden Dense...')\n",
        "model = Sequential()\n",
        "model.add(LSTM(units = 50, input_shape = (None, n_past)))\n",
        "model.add(Dropout(0.08))\n",
        "model.add(Dense(12))\n",
        "model.add(Dense(1))\n",
        "model.compile(optimizer = 'adam', loss = 'mean_squared_error')\n",
        "model.summary()"
      ]
    },
    {
      "cell_type": "code",
      "execution_count": 15,
      "metadata": {
        "colab": {
          "base_uri": "https://localhost:8080/"
        },
        "id": "qW8EN6DO2Wjp",
        "outputId": "1c382942-18c2-420a-db26-cabaf4f91bab"
      },
      "outputs": [
        {
          "output_type": "stream",
          "name": "stdout",
          "text": [
            "Epoch 1/200\n",
            "281/281 - 7s - loss: 7.0013e-04 - val_loss: 3.0860e-04 - 7s/epoch - 27ms/step\n",
            "Epoch 2/200\n",
            "281/281 - 2s - loss: 1.9002e-04 - val_loss: 2.6024e-04 - 2s/epoch - 6ms/step\n",
            "Epoch 3/200\n",
            "281/281 - 1s - loss: 1.4545e-04 - val_loss: 2.5802e-04 - 1s/epoch - 5ms/step\n",
            "Epoch 4/200\n",
            "281/281 - 2s - loss: 1.2398e-04 - val_loss: 2.8622e-04 - 2s/epoch - 6ms/step\n",
            "Epoch 5/200\n",
            "281/281 - 2s - loss: 1.1650e-04 - val_loss: 1.7504e-04 - 2s/epoch - 7ms/step\n",
            "Epoch 6/200\n",
            "281/281 - 2s - loss: 1.0539e-04 - val_loss: 2.2329e-04 - 2s/epoch - 5ms/step\n",
            "Epoch 7/200\n",
            "281/281 - 2s - loss: 1.0175e-04 - val_loss: 2.5686e-04 - 2s/epoch - 6ms/step\n",
            "Epoch 8/200\n",
            "281/281 - 2s - loss: 1.0393e-04 - val_loss: 1.7853e-04 - 2s/epoch - 6ms/step\n",
            "Epoch 9/200\n",
            "281/281 - 1s - loss: 9.5607e-05 - val_loss: 1.7684e-04 - 1s/epoch - 5ms/step\n",
            "Epoch 10/200\n",
            "281/281 - 1s - loss: 9.3447e-05 - val_loss: 3.0721e-04 - 940ms/epoch - 3ms/step\n",
            "Epoch 11/200\n",
            "281/281 - 1s - loss: 8.7473e-05 - val_loss: 1.7790e-04 - 942ms/epoch - 3ms/step\n",
            "Epoch 12/200\n",
            "281/281 - 1s - loss: 9.3284e-05 - val_loss: 2.5062e-04 - 881ms/epoch - 3ms/step\n",
            "Epoch 13/200\n",
            "281/281 - 1s - loss: 9.1092e-05 - val_loss: 1.8584e-04 - 823ms/epoch - 3ms/step\n",
            "Epoch 14/200\n",
            "281/281 - 1s - loss: 8.6454e-05 - val_loss: 2.3440e-04 - 793ms/epoch - 3ms/step\n",
            "Epoch 15/200\n",
            "281/281 - 1s - loss: 8.3966e-05 - val_loss: 1.9411e-04 - 796ms/epoch - 3ms/step\n",
            "Epoch 16/200\n",
            "281/281 - 1s - loss: 8.3809e-05 - val_loss: 4.8888e-04 - 918ms/epoch - 3ms/step\n",
            "Epoch 17/200\n",
            "281/281 - 1s - loss: 8.3974e-05 - val_loss: 1.7855e-04 - 923ms/epoch - 3ms/step\n",
            "Epoch 18/200\n",
            "281/281 - 1s - loss: 8.4050e-05 - val_loss: 2.8863e-04 - 1s/epoch - 4ms/step\n",
            "Epoch 19/200\n",
            "281/281 - 1s - loss: 8.2769e-05 - val_loss: 2.3979e-04 - 963ms/epoch - 3ms/step\n",
            "Epoch 20/200\n",
            "281/281 - 1s - loss: 8.3268e-05 - val_loss: 3.1475e-04 - 968ms/epoch - 3ms/step\n",
            "Epoch 21/200\n",
            "281/281 - 1s - loss: 8.4769e-05 - val_loss: 3.9175e-04 - 953ms/epoch - 3ms/step\n",
            "Epoch 22/200\n",
            "281/281 - 1s - loss: 8.9215e-05 - val_loss: 1.7521e-04 - 906ms/epoch - 3ms/step\n",
            "Epoch 23/200\n",
            "281/281 - 1s - loss: 8.3711e-05 - val_loss: 1.7330e-04 - 782ms/epoch - 3ms/step\n",
            "Epoch 24/200\n",
            "281/281 - 1s - loss: 8.5513e-05 - val_loss: 1.7524e-04 - 836ms/epoch - 3ms/step\n",
            "Epoch 25/200\n",
            "281/281 - 1s - loss: 8.1215e-05 - val_loss: 4.3565e-04 - 865ms/epoch - 3ms/step\n",
            "Epoch 26/200\n",
            "281/281 - 1s - loss: 9.0045e-05 - val_loss: 3.8787e-04 - 760ms/epoch - 3ms/step\n",
            "Epoch 27/200\n",
            "281/281 - 1s - loss: 8.5018e-05 - val_loss: 2.1712e-04 - 828ms/epoch - 3ms/step\n",
            "Epoch 28/200\n",
            "281/281 - 1s - loss: 8.0928e-05 - val_loss: 1.7714e-04 - 898ms/epoch - 3ms/step\n",
            "Epoch 29/200\n",
            "281/281 - 1s - loss: 8.1098e-05 - val_loss: 1.7605e-04 - 869ms/epoch - 3ms/step\n",
            "Epoch 30/200\n",
            "281/281 - 1s - loss: 8.1919e-05 - val_loss: 2.4201e-04 - 901ms/epoch - 3ms/step\n",
            "Epoch 31/200\n",
            "281/281 - 1s - loss: 8.1649e-05 - val_loss: 1.7533e-04 - 913ms/epoch - 3ms/step\n",
            "Epoch 32/200\n",
            "281/281 - 1s - loss: 8.9547e-05 - val_loss: 3.2906e-04 - 931ms/epoch - 3ms/step\n",
            "Epoch 33/200\n",
            "281/281 - 1s - loss: 8.1860e-05 - val_loss: 1.8085e-04 - 841ms/epoch - 3ms/step\n",
            "Epoch 34/200\n",
            "281/281 - 1s - loss: 8.3741e-05 - val_loss: 2.9056e-04 - 782ms/epoch - 3ms/step\n",
            "Epoch 35/200\n",
            "Restoring model weights from the end of the best epoch: 5.\n",
            "281/281 - 1s - loss: 8.3820e-05 - val_loss: 2.8819e-04 - 850ms/epoch - 3ms/step\n",
            "Epoch 35: early stopping\n"
          ]
        }
      ],
      "source": [
        "es = EarlyStopping(monitor='val_loss', min_delta=1e-5, patience=30, \n",
        "                       verbose=1, mode='auto', restore_best_weights=True)\n",
        "\n",
        "###fit to model \n",
        "history = model.fit(trainX, trainY, validation_data=(validX, validY),\n",
        "          verbose=2, epochs=200, callbacks=[es])"
      ]
    },
    {
      "cell_type": "code",
      "execution_count": 16,
      "metadata": {
        "colab": {
          "base_uri": "https://localhost:8080/"
        },
        "id": "t9SZSnQ9Anz8",
        "outputId": "393b10d8-0a8e-408b-c3ee-11bc734a73cb"
      },
      "outputs": [
        {
          "output_type": "stream",
          "name": "stdout",
          "text": [
            "48/48 [==============================] - 1s 2ms/step\n",
            "44/44 [==============================] - 0s 2ms/step\n"
          ]
        }
      ],
      "source": [
        "###use model to predict values for the validation set and testing set\n",
        "## use our original scaler to reverse_transform to return to original values (USD)\n",
        "validationPredict =  scaler.inverse_transform(model.predict(validX).reshape(-1,1))\n",
        "testPredict =  scaler.inverse_transform(model.predict(testX).reshape(-1,1))"
      ]
    },
    {
      "cell_type": "code",
      "execution_count": 17,
      "metadata": {
        "id": "aDtBqU03BJ3a"
      },
      "outputs": [],
      "source": [
        "## again inverse_transform to get real Y-values back to USD\n",
        "validY = scaler.inverse_transform(validY.reshape(-1, 1))\n",
        "testY = scaler.inverse_transform(testY.reshape(-1, 1))"
      ]
    },
    {
      "cell_type": "markdown",
      "source": [
        "## As a best guess, use current S&P500 price, as a predictor of the price in 14 days time...\n",
        "\n",
        "-If we can beat this with our model, shows our prediction is better than just saying S&P500 price will be the same in 2 weeks"
      ],
      "metadata": {
        "id": "7f4DV9ewHjid"
      }
    },
    {
      "cell_type": "code",
      "source": [
        "def get_last_X_from_series(sequence):\n",
        "  x1 =  [sequence[i,0,n_past-1] for i in np.arange(len(sequence))]\n",
        "  x2 = np.array(x1)\n",
        "  x3 = np.reshape(x2,(-1,1))\n",
        "  x4 = scaler.inverse_transform(x3)\n",
        "\n",
        "  return x4\n",
        "\n",
        "\n",
        "\n",
        "validation_lastX_equals_Y =  get_last_X_from_series(validX)\n",
        "test_lastX_equals_Y = get_last_X_from_series(testX)\n"
      ],
      "metadata": {
        "id": "wBeGaXWsFTYN"
      },
      "execution_count": 18,
      "outputs": []
    },
    {
      "cell_type": "markdown",
      "source": [
        "## Asses predictions\n",
        "\n"
      ],
      "metadata": {
        "id": "YY5YMKhzLn7H"
      }
    },
    {
      "cell_type": "code",
      "execution_count": 19,
      "metadata": {
        "id": "z-tIqaAyCBIi"
      },
      "outputs": [],
      "source": [
        "def RMSE(y_true, y_pred, prefix):\n",
        "  error = y_true-y_pred\n",
        "  squared_error = error **2\n",
        "  mean_squared_error = np.mean(squared_error)\n",
        "  root_mean_squared_error = np.sqrt(mean_squared_error)\n",
        "  return f\"{prefix} RMSE = ${root_mean_squared_error:.2f}\"\n"
      ]
    },
    {
      "cell_type": "code",
      "source": [
        "print(RMSE(validY, validation_lastX_equals_Y, 'validation_lastX_equals_Y'))\n",
        "print(RMSE(validY, validationPredict, 'LSTM validation'))\n",
        "print(RMSE(testY, test_lastX_equals_Y, 'test_lastX_equals_Y'))\n",
        "print(RMSE(testY, testPredict, 'LSTM test'))\n"
      ],
      "metadata": {
        "colab": {
          "base_uri": "https://localhost:8080/"
        },
        "id": "BtZlXRsaIZaI",
        "outputId": "deef27ea-7830-4ddb-bd57-75df9960b73e"
      },
      "execution_count": 20,
      "outputs": [
        {
          "output_type": "stream",
          "name": "stdout",
          "text": [
            "validation_lastX_equals_Y RMSE = $58.43\n",
            "LSTM validation RMSE = $59.55\n",
            "test_lastX_equals_Y RMSE = $141.15\n",
            "LSTM test RMSE = $167.20\n"
          ]
        }
      ]
    },
    {
      "cell_type": "code",
      "source": [
        "plt.plot(testPredict, label = \"prediction\",c='red')\n",
        "plt.plot(testY, label = \"actual\",c='green')\n",
        "plt.legend()\n",
        "plt.show()"
      ],
      "metadata": {
        "colab": {
          "base_uri": "https://localhost:8080/",
          "height": 500
        },
        "id": "HpPhp5W0B-qA",
        "outputId": "e8cde15a-7dce-400f-f4e7-56b2b991579a"
      },
      "execution_count": 28,
      "outputs": [
        {
          "output_type": "display_data",
          "data": {
            "text/plain": [
              "<Figure size 1008x595.44 with 1 Axes>"
            ],
            "image/png": "[encoded data removed]"
          },
          "metadata": {}
        }
      ]
    }
  ],
  "metadata": {
    "accelerator": "GPU",
    "colab": {
      "provenance": [],
      "authorship_tag": "ABX9TyO5kiEj7kiYWPR9ITTsU/qo",
      "include_colab_link": true
    },
    "gpuClass": "standard",
    "kernelspec": {
      "display_name": "Python 3",
      "name": "python3"
    },
    "language_info": {
      "name": "python"
    }
  },
  "nbformat": 4,
  "nbformat_minor": 0
}